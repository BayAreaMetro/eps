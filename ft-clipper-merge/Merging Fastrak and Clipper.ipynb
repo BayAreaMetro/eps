{
 "cells": [
  {
   "cell_type": "code",
   "execution_count": 52,
   "metadata": {
    "collapsed": true
   },
   "outputs": [],
   "source": [
    "import recordlinkage\n",
    "import pandas as pd"
   ]
  },
  {
   "cell_type": "code",
   "execution_count": 53,
   "metadata": {
    "collapsed": true
   },
   "outputs": [],
   "source": [
    "compare_cl = recordlinkage.Compare()"
   ]
  },
  {
   "cell_type": "code",
   "execution_count": 54,
   "metadata": {
    "collapsed": true
   },
   "outputs": [],
   "source": [
    "clipper = pd.read_csv(\"~/Box/Data/fake_clipper.csv\", encoding = 'utf-8')\n",
    "fastrak = pd.read_csv(\"~/Box/Data/fake_fastrak.csv\", encoding = 'utf-8')"
   ]
  },
  {
   "cell_type": "code",
   "execution_count": 55,
   "metadata": {},
   "outputs": [
    {
     "data": {
      "text/html": [
       "<div>\n",
       "<style>\n",
       "    .dataframe thead tr:only-child th {\n",
       "        text-align: right;\n",
       "    }\n",
       "\n",
       "    .dataframe thead th {\n",
       "        text-align: left;\n",
       "    }\n",
       "\n",
       "    .dataframe tbody tr th {\n",
       "        vertical-align: top;\n",
       "    }\n",
       "</style>\n",
       "<table border=\"1\" class=\"dataframe\">\n",
       "  <thead>\n",
       "    <tr style=\"text-align: right;\">\n",
       "      <th></th>\n",
       "      <th>tracking</th>\n",
       "      <th>fname</th>\n",
       "      <th>lname</th>\n",
       "      <th>fastrak_id</th>\n",
       "      <th>phone</th>\n",
       "      <th>address1</th>\n",
       "      <th>address2</th>\n",
       "      <th>city</th>\n",
       "      <th>state</th>\n",
       "    </tr>\n",
       "  </thead>\n",
       "  <tbody>\n",
       "    <tr>\n",
       "      <th>0</th>\n",
       "      <td>Beyonce Knowles</td>\n",
       "      <td>Beyonce</td>\n",
       "      <td>Knowles</td>\n",
       "      <td>fj28hf83</td>\n",
       "      <td>2024678907</td>\n",
       "      <td>101 Howard St</td>\n",
       "      <td>NaN</td>\n",
       "      <td>NaN</td>\n",
       "      <td>California</td>\n",
       "    </tr>\n",
       "    <tr>\n",
       "      <th>1</th>\n",
       "      <td>Kanye W</td>\n",
       "      <td>Kanye</td>\n",
       "      <td>W</td>\n",
       "      <td>ofjh983whf983</td>\n",
       "      <td>413-764-9463</td>\n",
       "      <td>55 Polk St</td>\n",
       "      <td>#22</td>\n",
       "      <td>NaN</td>\n",
       "      <td>California</td>\n",
       "    </tr>\n",
       "    <tr>\n",
       "      <th>2</th>\n",
       "      <td>Bill Joel</td>\n",
       "      <td>Bill</td>\n",
       "      <td>Joel</td>\n",
       "      <td>fo28h3d8w3</td>\n",
       "      <td>7034779079</td>\n",
       "      <td>493 Haight St</td>\n",
       "      <td>APT 493</td>\n",
       "      <td>San Francisco</td>\n",
       "      <td>California</td>\n",
       "    </tr>\n",
       "    <tr>\n",
       "      <th>3</th>\n",
       "      <td>Abigail Cash</td>\n",
       "      <td>Abigail</td>\n",
       "      <td>Cash</td>\n",
       "      <td>dhowijed093</td>\n",
       "      <td>7034779022</td>\n",
       "      <td>1390 Market</td>\n",
       "      <td>NaN</td>\n",
       "      <td>San Francisco</td>\n",
       "      <td>California</td>\n",
       "    </tr>\n",
       "    <tr>\n",
       "      <th>4</th>\n",
       "      <td>Abigail Jones</td>\n",
       "      <td>Abigail</td>\n",
       "      <td>Jones</td>\n",
       "      <td>lojsdfo45</td>\n",
       "      <td>918-264-1412</td>\n",
       "      <td>3051 San Bruno Av</td>\n",
       "      <td>NaN</td>\n",
       "      <td>SF</td>\n",
       "      <td>California</td>\n",
       "    </tr>\n",
       "    <tr>\n",
       "      <th>5</th>\n",
       "      <td>Chicago West</td>\n",
       "      <td>Chicago</td>\n",
       "      <td>West</td>\n",
       "      <td>ofjh983whf983</td>\n",
       "      <td>413-764-9463</td>\n",
       "      <td>56 Polk St</td>\n",
       "      <td>#23</td>\n",
       "      <td>San Francisco</td>\n",
       "      <td>California</td>\n",
       "    </tr>\n",
       "  </tbody>\n",
       "</table>\n",
       "</div>"
      ],
      "text/plain": [
       "          tracking    fname    lname     fastrak_id         phone  \\\n",
       "0  Beyonce Knowles  Beyonce  Knowles       fj28hf83    2024678907   \n",
       "1          Kanye W    Kanye        W  ofjh983whf983  413-764-9463   \n",
       "2        Bill Joel     Bill     Joel     fo28h3d8w3    7034779079   \n",
       "3     Abigail Cash  Abigail     Cash    dhowijed093    7034779022   \n",
       "4    Abigail Jones  Abigail    Jones      lojsdfo45  918-264-1412   \n",
       "5     Chicago West  Chicago     West  ofjh983whf983  413-764-9463   \n",
       "\n",
       "            address1 address2           city       state  \n",
       "0      101 Howard St      NaN            NaN  California  \n",
       "1         55 Polk St      #22            NaN  California  \n",
       "2      493 Haight St  APT 493  San Francisco  California  \n",
       "3        1390 Market      NaN  San Francisco  California  \n",
       "4  3051 San Bruno Av      NaN             SF  California  \n",
       "5         56 Polk St      #23  San Francisco  California  "
      ]
     },
     "execution_count": 55,
     "metadata": {},
     "output_type": "execute_result"
    }
   ],
   "source": [
    "fastrak"
   ]
  },
  {
   "cell_type": "code",
   "execution_count": 56,
   "metadata": {},
   "outputs": [],
   "source": [
    "#fastrak= fastrak.dropna(subset=['address2', 'city'], how='all')\n",
    "\n",
    "#fastrak"
   ]
  },
  {
   "cell_type": "code",
   "execution_count": 57,
   "metadata": {
    "scrolled": false
   },
   "outputs": [],
   "source": [
    "#fastrak = fastrak[~(fastrak.fastrak_id.str.len() > 10)]\n",
    "#fastrak"
   ]
  },
  {
   "cell_type": "code",
   "execution_count": 58,
   "metadata": {
    "collapsed": true
   },
   "outputs": [],
   "source": [
    "import unicodecsv as csv\n",
    "from faker import Factory\n",
    "from collections import defaultdict\n",
    "\n",
    "# Load the faker and its providers\n",
    "fake  = Factory.create()\n",
    "    \n",
    "# Create empty dictionaries\n",
    "fnamesdict  = defaultdict(fake.first_name)\n",
    "lnamesdict  = defaultdict(fake.last_name)\n",
    "phonedict  = defaultdict(fake.phone_number)\n",
    "addressdict  = defaultdict(fake.address)\n",
    "\n",
    "def anonymize_rows(rows):\n",
    "    \"\"\"\n",
    "    Rows is an iterable of dictionaries that contain name and\n",
    "    email fields that need to be anonymized.\n",
    "    \"\"\"\n",
    "\n",
    "    # Iterate over the rows and yield anonymized rows.\n",
    "    for row in rows:\n",
    "        # Replace the name and email fields with faked fields.\n",
    "        row['fname']  = fnamesdict[row['fname']]\n",
    "        row['lname']  = lnamesdict[row['lname']]\n",
    "        row['phone']  = phonedict[row['phone']]\n",
    "        row['address1']  = addressdict[row['address1']]\n",
    "\n",
    "        # Yield the row back to the caller\n",
    "        yield row\n",
    "\n",
    "\n",
    "def anonymize(source, target):\n",
    "    \"\"\"\n",
    "    The source argument is a path to a CSV file containing data to anonymize,\n",
    "    while target is a path to write the anonymized CSV data to.\n",
    "    \"\"\"\n",
    "    \n",
    "    with open(source, 'rU') as f:\n",
    "        with open(target, 'w') as o:\n",
    "            # Use the DictReader to easily extract fields\n",
    "            reader = csv.DictReader(f)\n",
    "            writer = csv.DictWriter(o, reader.fieldnames)\n",
    "            # Read and anonymize data, writing to target file.\n",
    "            for row in anonymize_rows(reader):\n",
    "                writer.writerow(row)"
   ]
  },
  {
   "cell_type": "code",
   "execution_count": 59,
   "metadata": {},
   "outputs": [],
   "source": [
    "def anonymize2(source, target):\n",
    "    \"\"\"\n",
    "    The source argument is a path to a CSV file containing data to anonymize,\n",
    "    while target is a path to write the anonymized CSV data to.\n",
    "    \"\"\"\n",
    "    reader = source.to_dict('records')\n",
    "    for row in anonymize_rows(reader):\n",
    "        print row\n",
    "        print \"/n\""
   ]
  },
  {
   "cell_type": "code",
   "execution_count": 62,
   "metadata": {},
   "outputs": [
    {
     "ename": "AttributeError",
     "evalue": "'list' object has no attribute 'items'",
     "output_type": "error",
     "traceback": [
      "\u001b[0;31m---------------------------------------------------------------------------\u001b[0m",
      "\u001b[0;31mAttributeError\u001b[0m                            Traceback (most recent call last)",
      "\u001b[0;32m<ipython-input-62-e10246aa6401>\u001b[0m in \u001b[0;36m<module>\u001b[0;34m()\u001b[0m\n\u001b[0;32m----> 1\u001b[0;31m \u001b[0mpd\u001b[0m\u001b[0;34m.\u001b[0m\u001b[0mDataFrame\u001b[0m\u001b[0;34m(\u001b[0m\u001b[0mftdict\u001b[0m\u001b[0;34m.\u001b[0m\u001b[0mitems\u001b[0m\u001b[0;34m(\u001b[0m\u001b[0;34m)\u001b[0m\u001b[0;34m)\u001b[0m\u001b[0;34m\u001b[0m\u001b[0m\n\u001b[0m",
      "\u001b[0;31mAttributeError\u001b[0m: 'list' object has no attribute 'items'"
     ]
    }
   ],
   "source": [
    "pd.DataFrame(ftdict.items())"
   ]
  },
  {
   "cell_type": "code",
   "execution_count": 63,
   "metadata": {},
   "outputs": [],
   "source": [
    "ftdict = fastrak.to_dict('records')"
   ]
  },
  {
   "cell_type": "code",
   "execution_count": 65,
   "metadata": {
    "scrolled": true
   },
   "outputs": [
    {
     "data": {
      "text/plain": [
       "[{u'address1': u'101 Howard St',\n",
       "  u'address2': nan,\n",
       "  u'city': nan,\n",
       "  u'fastrak_id': u'fj28hf83',\n",
       "  u'fname': u'Beyonce',\n",
       "  u'lname': u'Knowles',\n",
       "  u'phone': u'2024678907',\n",
       "  u'state': u'California',\n",
       "  u'tracking': u'Beyonce Knowles'},\n",
       " {u'address1': u'55 Polk St',\n",
       "  u'address2': u'#22',\n",
       "  u'city': nan,\n",
       "  u'fastrak_id': u'ofjh983whf983',\n",
       "  u'fname': u'Kanye',\n",
       "  u'lname': u'W',\n",
       "  u'phone': u'413-764-9463',\n",
       "  u'state': u'California',\n",
       "  u'tracking': u'Kanye W'},\n",
       " {u'address1': u'493 Haight St',\n",
       "  u'address2': u'APT 493',\n",
       "  u'city': u'San Francisco',\n",
       "  u'fastrak_id': u'fo28h3d8w3',\n",
       "  u'fname': u'Bill',\n",
       "  u'lname': u'Joel',\n",
       "  u'phone': u'7034779079',\n",
       "  u'state': u'California',\n",
       "  u'tracking': u'Bill Joel'},\n",
       " {u'address1': u'1390 Market',\n",
       "  u'address2': nan,\n",
       "  u'city': u'San Francisco',\n",
       "  u'fastrak_id': u'dhowijed093',\n",
       "  u'fname': u'Abigail',\n",
       "  u'lname': u'Cash',\n",
       "  u'phone': u'7034779022',\n",
       "  u'state': u'California',\n",
       "  u'tracking': u'Abigail Cash'},\n",
       " {u'address1': u'3051 San Bruno Av',\n",
       "  u'address2': nan,\n",
       "  u'city': u'SF',\n",
       "  u'fastrak_id': u'lojsdfo45',\n",
       "  u'fname': u'Abigail',\n",
       "  u'lname': u'Jones',\n",
       "  u'phone': u'918-264-1412',\n",
       "  u'state': u'California',\n",
       "  u'tracking': u'Abigail Jones'},\n",
       " {u'address1': u'56 Polk St',\n",
       "  u'address2': u'#23',\n",
       "  u'city': u'San Francisco',\n",
       "  u'fastrak_id': u'ofjh983whf983',\n",
       "  u'fname': u'Chicago',\n",
       "  u'lname': u'West',\n",
       "  u'phone': u'413-764-9463',\n",
       "  u'state': u'California',\n",
       "  u'tracking': u'Chicago West'}]"
      ]
     },
     "execution_count": 65,
     "metadata": {},
     "output_type": "execute_result"
    }
   ],
   "source": [
    "ftdict"
   ]
  },
  {
   "cell_type": "code",
   "execution_count": 61,
   "metadata": {
    "scrolled": true
   },
   "outputs": [
    {
     "name": "stdout",
     "output_type": "stream",
     "text": [
      "{u'city': nan, u'tracking': u'Beyonce Knowles', u'address1': u'318 Samantha Trail\\nThompsonfurt, TN 51904-1234', u'address2': nan, u'lname': u'Hughes', u'phone': u'328.116.0696x25863', u'state': u'California', u'fname': u'John', u'fastrak_id': u'fj28hf83'}\n",
      "/n\n",
      "{u'city': nan, u'tracking': u'Kanye W', u'address1': u'717 Samantha Expressway Apt. 154\\nLake Theodorefort, UT 79543', u'address2': u'#22', u'lname': u'Cook', u'phone': u'+87(5)2359738607', u'state': u'California', u'fname': u'Jeffrey', u'fastrak_id': u'ofjh983whf983'}\n",
      "/n\n",
      "{u'city': u'San Francisco', u'tracking': u'Bill Joel', u'address1': u'USNV Jones\\nFPO AE 04107', u'address2': u'APT 493', u'lname': u'Thompson', u'phone': u'(796)267-4389x1180', u'state': u'California', u'fname': u'Vanessa', u'fastrak_id': u'fo28h3d8w3'}\n",
      "/n\n",
      "{u'city': u'San Francisco', u'tracking': u'Abigail Cash', u'address1': u'3979 Roberta Ranch\\nMorseview, HI 80737', u'address2': nan, u'lname': u'Garcia', u'phone': u'797.177.0318', u'state': u'California', u'fname': u'Michael', u'fastrak_id': u'dhowijed093'}\n",
      "/n\n",
      "{u'city': u'SF', u'tracking': u'Abigail Jones', u'address1': u'0987 Christina Rest\\nJacobbury, TX 26150', u'address2': nan, u'lname': u'Sanders', u'phone': u'1-340-611-3477', u'state': u'California', u'fname': u'Michael', u'fastrak_id': u'lojsdfo45'}\n",
      "/n\n",
      "{u'city': u'San Francisco', u'tracking': u'Chicago West', u'address1': u'9718 Sierra Harbors Suite 023\\nDeniseshire, WY 27862', u'address2': u'#23', u'lname': u'Morales', u'phone': u'+87(5)2359738607', u'state': u'California', u'fname': u'Sara', u'fastrak_id': u'ofjh983whf983'}\n",
      "/n\n"
     ]
    }
   ],
   "source": [
    "#anonymize(\"/Users/smcnish/Box/Data/fake_fastrak.csv\", \"/Users/smcnish/Box/Data/very_fake.csv\")\n",
    "\n",
    "anonymize2(fastrak, \"/Users/smcnish/Box/Data/very_fake_ft.csv\")"
   ]
  },
  {
   "cell_type": "code",
   "execution_count": 51,
   "metadata": {
    "scrolled": true
   },
   "outputs": [],
   "source": [
    "#anonymize(\"/Users/smcnish/Box/Data/fake_clipper.csv\", \"/Users/smcnish/Box/Data/clipper_very_fake.csv\")"
   ]
  },
  {
   "cell_type": "code",
   "execution_count": null,
   "metadata": {
    "collapsed": true
   },
   "outputs": [],
   "source": []
  },
  {
   "cell_type": "code",
   "execution_count": 11,
   "metadata": {
    "collapsed": true
   },
   "outputs": [],
   "source": [
    "clipperfake = pd.read_csv(\"~/Box/Data/clipper_very_fake.csv\", encoding = 'utf-8')\n",
    "fastrakfake = pd.read_csv(\"~/Box/Data/very_fake.csv\", encoding = 'utf-8')"
   ]
  },
  {
   "cell_type": "code",
   "execution_count": 12,
   "metadata": {},
   "outputs": [
    {
     "data": {
      "text/html": [
       "<div>\n",
       "<style>\n",
       "    .dataframe thead tr:only-child th {\n",
       "        text-align: right;\n",
       "    }\n",
       "\n",
       "    .dataframe thead th {\n",
       "        text-align: left;\n",
       "    }\n",
       "\n",
       "    .dataframe tbody tr th {\n",
       "        vertical-align: top;\n",
       "    }\n",
       "</style>\n",
       "<table border=\"1\" class=\"dataframe\">\n",
       "  <thead>\n",
       "    <tr style=\"text-align: right;\">\n",
       "      <th></th>\n",
       "      <th>Beyonce Knowles</th>\n",
       "      <th>Timothy</th>\n",
       "      <th>Patterson</th>\n",
       "      <th>fj28hf83</th>\n",
       "      <th>224-746-5578</th>\n",
       "      <th>53777 Santiago Ville\n",
       "Williamsmouth, UT 49847-2053</th>\n",
       "      <th>Unnamed: 6</th>\n",
       "      <th>Unnamed: 7</th>\n",
       "      <th>California</th>\n",
       "    </tr>\n",
       "  </thead>\n",
       "  <tbody>\n",
       "    <tr>\n",
       "      <th>0</th>\n",
       "      <td>Kanye W</td>\n",
       "      <td>Tanya</td>\n",
       "      <td>Erickson</td>\n",
       "      <td>ofjh983whf983</td>\n",
       "      <td>561.632.3835x45648</td>\n",
       "      <td>09600 Carr Mountains Suite 050\\nFitzgeraldfurt...</td>\n",
       "      <td>#22</td>\n",
       "      <td>NaN</td>\n",
       "      <td>California</td>\n",
       "    </tr>\n",
       "    <tr>\n",
       "      <th>1</th>\n",
       "      <td>Bill Joel</td>\n",
       "      <td>Clifford</td>\n",
       "      <td>King</td>\n",
       "      <td>fo28h3d8w3</td>\n",
       "      <td>(950)974-1201x33071</td>\n",
       "      <td>3083 Gregory Gateway\\nPort Davidstad, VA 11799...</td>\n",
       "      <td>APT 493</td>\n",
       "      <td>San Francisco</td>\n",
       "      <td>California</td>\n",
       "    </tr>\n",
       "    <tr>\n",
       "      <th>2</th>\n",
       "      <td>Abigail Cash</td>\n",
       "      <td>Richard</td>\n",
       "      <td>Schultz</td>\n",
       "      <td>dhowijed093</td>\n",
       "      <td>1-902-029-4826x339</td>\n",
       "      <td>Unit 0906 Box 7194\\nDPO AA 28479</td>\n",
       "      <td>NaN</td>\n",
       "      <td>San Francisco</td>\n",
       "      <td>California</td>\n",
       "    </tr>\n",
       "    <tr>\n",
       "      <th>3</th>\n",
       "      <td>Abigail Jones</td>\n",
       "      <td>Richard</td>\n",
       "      <td>Wiley</td>\n",
       "      <td>lojsdfo45</td>\n",
       "      <td>217-462-0136x02994</td>\n",
       "      <td>783 Navarro Gardens Apt. 243\\nPort Thomasside,...</td>\n",
       "      <td>NaN</td>\n",
       "      <td>SF</td>\n",
       "      <td>California</td>\n",
       "    </tr>\n",
       "    <tr>\n",
       "      <th>4</th>\n",
       "      <td>Chicago West</td>\n",
       "      <td>Mckenzie</td>\n",
       "      <td>James</td>\n",
       "      <td>ofjh983whf983</td>\n",
       "      <td>561.632.3835x45648</td>\n",
       "      <td>4448 White Groves\\nLake Janeshire, NV 40090-7976</td>\n",
       "      <td>#23</td>\n",
       "      <td>San Francisco</td>\n",
       "      <td>California</td>\n",
       "    </tr>\n",
       "  </tbody>\n",
       "</table>\n",
       "</div>"
      ],
      "text/plain": [
       "  Beyonce Knowles   Timothy Patterson       fj28hf83         224-746-5578  \\\n",
       "0         Kanye W     Tanya  Erickson  ofjh983whf983   561.632.3835x45648   \n",
       "1       Bill Joel  Clifford      King     fo28h3d8w3  (950)974-1201x33071   \n",
       "2    Abigail Cash   Richard   Schultz    dhowijed093   1-902-029-4826x339   \n",
       "3   Abigail Jones   Richard     Wiley      lojsdfo45   217-462-0136x02994   \n",
       "4    Chicago West  Mckenzie     James  ofjh983whf983   561.632.3835x45648   \n",
       "\n",
       "  53777 Santiago Ville\\nWilliamsmouth, UT 49847-2053 Unnamed: 6  \\\n",
       "0  09600 Carr Mountains Suite 050\\nFitzgeraldfurt...        #22   \n",
       "1  3083 Gregory Gateway\\nPort Davidstad, VA 11799...    APT 493   \n",
       "2                   Unit 0906 Box 7194\\nDPO AA 28479        NaN   \n",
       "3  783 Navarro Gardens Apt. 243\\nPort Thomasside,...        NaN   \n",
       "4   4448 White Groves\\nLake Janeshire, NV 40090-7976        #23   \n",
       "\n",
       "      Unnamed: 7  California  \n",
       "0            NaN  California  \n",
       "1  San Francisco  California  \n",
       "2  San Francisco  California  \n",
       "3             SF  California  \n",
       "4  San Francisco  California  "
      ]
     },
     "execution_count": 12,
     "metadata": {},
     "output_type": "execute_result"
    }
   ],
   "source": [
    "fastrakfake"
   ]
  },
  {
   "cell_type": "code",
   "execution_count": 13,
   "metadata": {},
   "outputs": [
    {
     "data": {
      "text/html": [
       "<div>\n",
       "<style>\n",
       "    .dataframe thead tr:only-child th {\n",
       "        text-align: right;\n",
       "    }\n",
       "\n",
       "    .dataframe thead th {\n",
       "        text-align: left;\n",
       "    }\n",
       "\n",
       "    .dataframe tbody tr th {\n",
       "        vertical-align: top;\n",
       "    }\n",
       "</style>\n",
       "<table border=\"1\" class=\"dataframe\">\n",
       "  <thead>\n",
       "    <tr style=\"text-align: right;\">\n",
       "      <th></th>\n",
       "      <th>Beyonce Knowles</th>\n",
       "      <th>Timothy</th>\n",
       "      <th>Patterson</th>\n",
       "      <th>1928475</th>\n",
       "      <th>224-746-5578</th>\n",
       "      <th>53777 Santiago Ville\n",
       "Williamsmouth, UT 49847-2053</th>\n",
       "      <th>Unnamed: 6</th>\n",
       "      <th>San Francisco</th>\n",
       "      <th>California</th>\n",
       "    </tr>\n",
       "  </thead>\n",
       "  <tbody>\n",
       "    <tr>\n",
       "      <th>0</th>\n",
       "      <td>Billy Joel</td>\n",
       "      <td>Desiree</td>\n",
       "      <td>King</td>\n",
       "      <td>923847</td>\n",
       "      <td>846.698.2778</td>\n",
       "      <td>3083 Gregory Gateway\\nPort Davidstad, VA 11799...</td>\n",
       "      <td>#493</td>\n",
       "      <td>San Francisco</td>\n",
       "      <td>CA</td>\n",
       "    </tr>\n",
       "    <tr>\n",
       "      <th>1</th>\n",
       "      <td>Jon Cash</td>\n",
       "      <td>Brittany</td>\n",
       "      <td>Schultz</td>\n",
       "      <td>812640127</td>\n",
       "      <td>02923774097</td>\n",
       "      <td>0201 Jasmin Skyway\\nSouth Jennifer, WV 24421</td>\n",
       "      <td>NaN</td>\n",
       "      <td>San Francisco</td>\n",
       "      <td>California</td>\n",
       "    </tr>\n",
       "    <tr>\n",
       "      <th>2</th>\n",
       "      <td>Abby Jones</td>\n",
       "      <td>Daniel</td>\n",
       "      <td>Wiley</td>\n",
       "      <td>9274917</td>\n",
       "      <td>217-462-0136x02994</td>\n",
       "      <td>783 Navarro Gardens Apt. 243\\nPort Thomasside,...</td>\n",
       "      <td>NaN</td>\n",
       "      <td>San Francisco</td>\n",
       "      <td>NaN</td>\n",
       "    </tr>\n",
       "    <tr>\n",
       "      <th>3</th>\n",
       "      <td>Kanye West</td>\n",
       "      <td>Tanya</td>\n",
       "      <td>James</td>\n",
       "      <td>45626774</td>\n",
       "      <td>140.385.8238x188</td>\n",
       "      <td>551 Bond Garden\\nNorth Denise, NH 12222-0665</td>\n",
       "      <td>NaN</td>\n",
       "      <td>San Francisco</td>\n",
       "      <td>California</td>\n",
       "    </tr>\n",
       "  </tbody>\n",
       "</table>\n",
       "</div>"
      ],
      "text/plain": [
       "  Beyonce Knowles   Timothy Patterson    1928475        224-746-5578  \\\n",
       "0      Billy Joel   Desiree      King     923847        846.698.2778   \n",
       "1        Jon Cash  Brittany   Schultz  812640127         02923774097   \n",
       "2      Abby Jones    Daniel     Wiley    9274917  217-462-0136x02994   \n",
       "3      Kanye West     Tanya     James   45626774    140.385.8238x188   \n",
       "\n",
       "  53777 Santiago Ville\\nWilliamsmouth, UT 49847-2053 Unnamed: 6  \\\n",
       "0  3083 Gregory Gateway\\nPort Davidstad, VA 11799...       #493   \n",
       "1       0201 Jasmin Skyway\\nSouth Jennifer, WV 24421        NaN   \n",
       "2  783 Navarro Gardens Apt. 243\\nPort Thomasside,...        NaN   \n",
       "3       551 Bond Garden\\nNorth Denise, NH 12222-0665        NaN   \n",
       "\n",
       "   San Francisco  California  \n",
       "0  San Francisco          CA  \n",
       "1  San Francisco  California  \n",
       "2  San Francisco         NaN  \n",
       "3  San Francisco  California  "
      ]
     },
     "execution_count": 13,
     "metadata": {},
     "output_type": "execute_result"
    }
   ],
   "source": [
    "clipperfake"
   ]
  },
  {
   "cell_type": "code",
   "execution_count": 14,
   "metadata": {
    "scrolled": true
   },
   "outputs": [
    {
     "name": "stdout",
     "output_type": "stream",
     "text": [
      "Timothy\n"
     ]
    }
   ],
   "source": [
    "print fnamesdict['Beyonce']"
   ]
  },
  {
   "cell_type": "code",
   "execution_count": 15,
   "metadata": {},
   "outputs": [
    {
     "name": "stdout",
     "output_type": "stream",
     "text": [
      "MichelleNavarro\n"
     ]
    }
   ],
   "source": [
    "from faker import Faker\n",
    "fake = Faker()\n",
    "\n",
    "\n",
    "print(\"\".join(fake.name().split(\" \")))"
   ]
  },
  {
   "cell_type": "code",
   "execution_count": 16,
   "metadata": {
    "collapsed": true
   },
   "outputs": [],
   "source": [
    "?fake"
   ]
  },
  {
   "cell_type": "code",
   "execution_count": 17,
   "metadata": {
    "scrolled": true
   },
   "outputs": [
    {
     "name": "stdout",
     "output_type": "stream",
     "text": [
      "/Users/smcnish/MTC\r\n"
     ]
    }
   ],
   "source": [
    "!pwd"
   ]
  },
  {
   "cell_type": "code",
   "execution_count": 18,
   "metadata": {
    "collapsed": true,
    "scrolled": false
   },
   "outputs": [],
   "source": [
    "import csv \n",
    "file_name = \"/Users/smcnish/Box/Data/names.csv\"\n",
    "with open(file_name, 'rU') as f:  #opens PW file\n",
    "    reader = csv.reader(f)\n",
    "    names = list(list(rec) for rec in csv.reader(f, delimiter=',')) #reads csv into a list of lists\n"
   ]
  },
  {
   "cell_type": "code",
   "execution_count": 20,
   "metadata": {
    "collapsed": true
   },
   "outputs": [],
   "source": [
    "namesdict = {d[0]: d[1:] for d in names}"
   ]
  },
  {
   "cell_type": "code",
   "execution_count": 23,
   "metadata": {},
   "outputs": [
    {
     "ename": "SyntaxError",
     "evalue": "non-keyword arg after keyword arg (<ipython-input-23-f9d159e5dc14>, line 1)",
     "output_type": "error",
     "traceback": [
      "\u001b[0;36m  File \u001b[0;32m\"<ipython-input-23-f9d159e5dc14>\"\u001b[0;36m, line \u001b[0;32m1\u001b[0m\n\u001b[0;31m    indexer = recordlinkage.BlockIndex(on='fname','lname','phone')\u001b[0m\n\u001b[0;31mSyntaxError\u001b[0m\u001b[0;31m:\u001b[0m non-keyword arg after keyword arg\n"
     ]
    }
   ],
   "source": [
    "indexer = recordlinkage.BlockIndex(on='fname','lname','phone')\n",
    "pairs = indexer.index(clipper, fastrak)\n",
    "\n",
    "print len(pairs)"
   ]
  },
  {
   "cell_type": "code",
   "execution_count": null,
   "metadata": {
    "collapsed": true
   },
   "outputs": [],
   "source": [
    "compare_cl.string('fname', 'fname', threshold=0.5, label='fname')\n",
    "compare_cl.exact('lname', 'lname', label='lname')\n",
    "compare_cl.exact('phone', 'phone', label='phone')\n",
    "compare_cl.exact('address1', 'address1', label='address1')\n",
    "compare_cl.exact('address2', 'address2', label='address2')\n",
    "compare_cl.exact('city', 'city', label='city')\n",
    "compare_cl.exact('state', 'state', label='state')\n",
    "features = compare_cl.compute(pairs, clipper, fastrak)"
   ]
  },
  {
   "cell_type": "code",
   "execution_count": null,
   "metadata": {
    "collapsed": true
   },
   "outputs": [],
   "source": [
    "import fuzzyset\n",
    "fz = fuzzyset.FuzzySet()\n",
    "#Create a list of terms we would like to match against in a fuzzy way\n",
    "for l in [\"Bill\", \"Diana\", \"Jo\"]:\n",
    "    fz.add(l)\n",
    " \n",
    "#Now see if our sample term fuzzy matches any of those specified terms\n",
    "fz.get('Billy'), fz.get('Diane'), fz.get('Joanna')"
   ]
  },
  {
   "cell_type": "code",
   "execution_count": null,
   "metadata": {
    "collapsed": true
   },
   "outputs": [],
   "source": [
    "import re"
   ]
  },
  {
   "cell_type": "code",
   "execution_count": null,
   "metadata": {
    "collapsed": true
   },
   "outputs": [],
   "source": [
    "def phone_format(phone_number):\n",
    "    clean_phone_number = re.sub('[^0-9]+', '', phone_number)\n",
    "    formatted_phone_number = re.sub(\"(\\d)(?=(\\d{3})+(?!\\d))\", r\"\\1-\", \"%d\" % int(clean_phone_number[:-1])) + clean_phone_number[-1]\n",
    "    return formatted_phone_number"
   ]
  },
  {
   "cell_type": "code",
   "execution_count": null,
   "metadata": {
    "collapsed": true
   },
   "outputs": [],
   "source": [
    "print phone_format(\"7031239079\")\n",
    "print phone_format(\"(703) 1239079\")\n",
    "print phone_format(\"(703) 123 - 9079\")\n",
    "print phone_format(\"+1 7031239079\")\n",
    "print phone_format(\"(703 123 9079\")\n",
    "print phone_format(\"(703123 9079\")"
   ]
  },
  {
   "cell_type": "code",
   "execution_count": null,
   "metadata": {
    "collapsed": true
   },
   "outputs": [],
   "source": []
  }
 ],
 "metadata": {
  "kernelspec": {
   "display_name": "Python 2",
   "language": "python",
   "name": "python2"
  },
  "language_info": {
   "codemirror_mode": {
    "name": "ipython",
    "version": 2
   },
   "file_extension": ".py",
   "mimetype": "text/x-python",
   "name": "python",
   "nbconvert_exporter": "python",
   "pygments_lexer": "ipython2",
   "version": "2.7.13"
  }
 },
 "nbformat": 4,
 "nbformat_minor": 2
}
