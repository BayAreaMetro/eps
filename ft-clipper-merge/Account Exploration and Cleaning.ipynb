{
 "cells": [
  {
   "cell_type": "code",
   "execution_count": 1,
   "metadata": {
    "collapsed": true
   },
   "outputs": [],
   "source": [
    "import pandas as pd"
   ]
  },
  {
   "cell_type": "code",
   "execution_count": 2,
   "metadata": {
    "collapsed": true
   },
   "outputs": [],
   "source": [
    "#read in account data\n",
    "clipper_accounts = pd.read_csv(\"~/Box/USF_Data_Science_Practicum/Analytics/Anonymous_Data/Clipper_Account_Holders_Anonymous.csv\", encoding = 'utf-8')\n",
    "fastrak_accounts = pd.read_csv(\"~/Box/USF_Data_Science_Practicum/Analytics/Anonymous_Data/FasTraK_Profile_Anonymous.csv\", encoding = 'utf-8')"
   ]
  },
  {
   "cell_type": "markdown",
   "metadata": {},
   "source": [
    "## Clipper Exploration"
   ]
  },
  {
   "cell_type": "code",
   "execution_count": 51,
   "metadata": {
    "scrolled": true
   },
   "outputs": [
    {
     "data": {
      "text/html": [
       "<div>\n",
       "<style scoped>\n",
       "    .dataframe tbody tr th:only-of-type {\n",
       "        vertical-align: middle;\n",
       "    }\n",
       "\n",
       "    .dataframe tbody tr th {\n",
       "        vertical-align: top;\n",
       "    }\n",
       "\n",
       "    .dataframe thead th {\n",
       "        text-align: right;\n",
       "    }\n",
       "</style>\n",
       "<table border=\"1\" class=\"dataframe\">\n",
       "  <thead>\n",
       "    <tr style=\"text-align: right;\">\n",
       "      <th></th>\n",
       "      <th>CONTACT_ID</th>\n",
       "      <th>CITY</th>\n",
       "      <th>STATE</th>\n",
       "      <th>CARD_SERIAL_NUMBER</th>\n",
       "      <th>CARD_TYPE</th>\n",
       "      <th>STATUS</th>\n",
       "      <th>FIRST_NAME</th>\n",
       "      <th>LAST_NAME</th>\n",
       "    </tr>\n",
       "  </thead>\n",
       "  <tbody>\n",
       "    <tr>\n",
       "      <th>0</th>\n",
       "      <td>0000000000246131</td>\n",
       "      <td>\\tBerkeley</td>\n",
       "      <td>CA</td>\n",
       "      <td>1205337096</td>\n",
       "      <td>Senior Citizen</td>\n",
       "      <td>Active</td>\n",
       "      <td>6b989ea713f67acc257f561c7402d8b7cfa5810d6a9893...</td>\n",
       "      <td>e5304704dcc182c23a8d161ef92262145c98a7add8c6d8...</td>\n",
       "    </tr>\n",
       "    <tr>\n",
       "      <th>1</th>\n",
       "      <td>0000000000277DF2</td>\n",
       "      <td>San Rafael</td>\n",
       "      <td>CA</td>\n",
       "      <td>1202594132</td>\n",
       "      <td>Senior Citizen</td>\n",
       "      <td>Active</td>\n",
       "      <td>ba79f7ea69056fd0668d0eb9267ded5f47d42725d8b5cb...</td>\n",
       "      <td>a56cd08be93a66bba4a5955de4f5cd0241c0f14e75616b...</td>\n",
       "    </tr>\n",
       "    <tr>\n",
       "      <th>2</th>\n",
       "      <td>00000000002265B4</td>\n",
       "      <td>San Francisco</td>\n",
       "      <td>CA</td>\n",
       "      <td>1204075258</td>\n",
       "      <td>Adult</td>\n",
       "      <td>Active</td>\n",
       "      <td>df37365766ae084a53f1117894efacd6255edb45272478...</td>\n",
       "      <td>bb88d95ef1e7929110cc442fb155d8756aea00a759b6f0...</td>\n",
       "    </tr>\n",
       "  </tbody>\n",
       "</table>\n",
       "</div>"
      ],
      "text/plain": [
       "         CONTACT_ID              CITY STATE  CARD_SERIAL_NUMBER  \\\n",
       "0  0000000000246131        \\tBerkeley    CA          1205337096   \n",
       "1  0000000000277DF2        San Rafael    CA          1202594132   \n",
       "2  00000000002265B4     San Francisco    CA          1204075258   \n",
       "\n",
       "        CARD_TYPE  STATUS                                         FIRST_NAME  \\\n",
       "0  Senior Citizen  Active  6b989ea713f67acc257f561c7402d8b7cfa5810d6a9893...   \n",
       "1  Senior Citizen  Active  ba79f7ea69056fd0668d0eb9267ded5f47d42725d8b5cb...   \n",
       "2           Adult  Active  df37365766ae084a53f1117894efacd6255edb45272478...   \n",
       "\n",
       "                                           LAST_NAME  \n",
       "0  e5304704dcc182c23a8d161ef92262145c98a7add8c6d8...  \n",
       "1  a56cd08be93a66bba4a5955de4f5cd0241c0f14e75616b...  \n",
       "2  bb88d95ef1e7929110cc442fb155d8756aea00a759b6f0...  "
      ]
     },
     "execution_count": 51,
     "metadata": {},
     "output_type": "execute_result"
    }
   ],
   "source": [
    "clipper_accounts.head(3)"
   ]
  },
  {
   "cell_type": "code",
   "execution_count": 52,
   "metadata": {},
   "outputs": [
    {
     "data": {
      "text/plain": [
       "(2482848, 8)"
      ]
     },
     "execution_count": 52,
     "metadata": {},
     "output_type": "execute_result"
    }
   ],
   "source": [
    "#number rows, columns in df\n",
    "clipper_accounts.shape"
   ]
  },
  {
   "cell_type": "code",
   "execution_count": 53,
   "metadata": {},
   "outputs": [
    {
     "data": {
      "text/html": [
       "<div>\n",
       "<style scoped>\n",
       "    .dataframe tbody tr th:only-of-type {\n",
       "        vertical-align: middle;\n",
       "    }\n",
       "\n",
       "    .dataframe tbody tr th {\n",
       "        vertical-align: top;\n",
       "    }\n",
       "\n",
       "    .dataframe thead th {\n",
       "        text-align: right;\n",
       "    }\n",
       "</style>\n",
       "<table border=\"1\" class=\"dataframe\">\n",
       "  <thead>\n",
       "    <tr style=\"text-align: right;\">\n",
       "      <th></th>\n",
       "      <th>CONTACT_ID</th>\n",
       "      <th>CITY</th>\n",
       "      <th>STATE</th>\n",
       "      <th>CARD_SERIAL_NUMBER</th>\n",
       "      <th>CARD_TYPE</th>\n",
       "      <th>STATUS</th>\n",
       "      <th>FIRST_NAME</th>\n",
       "      <th>LAST_NAME</th>\n",
       "    </tr>\n",
       "  </thead>\n",
       "  <tbody>\n",
       "    <tr>\n",
       "      <th>0</th>\n",
       "      <td>0000000000246131</td>\n",
       "      <td>\\tBerkeley</td>\n",
       "      <td>CA</td>\n",
       "      <td>1205337096</td>\n",
       "      <td>Senior Citizen</td>\n",
       "      <td>Active</td>\n",
       "      <td>6b989ea713f67acc257f561c7402d8b7cfa5810d6a9893...</td>\n",
       "      <td>e5304704dcc182c23a8d161ef92262145c98a7add8c6d8...</td>\n",
       "    </tr>\n",
       "    <tr>\n",
       "      <th>1</th>\n",
       "      <td>0000000000277DF2</td>\n",
       "      <td>San Rafael</td>\n",
       "      <td>CA</td>\n",
       "      <td>1202594132</td>\n",
       "      <td>Senior Citizen</td>\n",
       "      <td>Active</td>\n",
       "      <td>ba79f7ea69056fd0668d0eb9267ded5f47d42725d8b5cb...</td>\n",
       "      <td>a56cd08be93a66bba4a5955de4f5cd0241c0f14e75616b...</td>\n",
       "    </tr>\n",
       "    <tr>\n",
       "      <th>2</th>\n",
       "      <td>00000000002265B4</td>\n",
       "      <td>San Francisco</td>\n",
       "      <td>CA</td>\n",
       "      <td>1204075258</td>\n",
       "      <td>Adult</td>\n",
       "      <td>Active</td>\n",
       "      <td>df37365766ae084a53f1117894efacd6255edb45272478...</td>\n",
       "      <td>bb88d95ef1e7929110cc442fb155d8756aea00a759b6f0...</td>\n",
       "    </tr>\n",
       "  </tbody>\n",
       "</table>\n",
       "</div>"
      ],
      "text/plain": [
       "         CONTACT_ID              CITY STATE  CARD_SERIAL_NUMBER  \\\n",
       "0  0000000000246131        \\tBerkeley    CA          1205337096   \n",
       "1  0000000000277DF2        San Rafael    CA          1202594132   \n",
       "2  00000000002265B4     San Francisco    CA          1204075258   \n",
       "\n",
       "        CARD_TYPE  STATUS                                         FIRST_NAME  \\\n",
       "0  Senior Citizen  Active  6b989ea713f67acc257f561c7402d8b7cfa5810d6a9893...   \n",
       "1  Senior Citizen  Active  ba79f7ea69056fd0668d0eb9267ded5f47d42725d8b5cb...   \n",
       "2           Adult  Active  df37365766ae084a53f1117894efacd6255edb45272478...   \n",
       "\n",
       "                                           LAST_NAME  \n",
       "0  e5304704dcc182c23a8d161ef92262145c98a7add8c6d8...  \n",
       "1  a56cd08be93a66bba4a5955de4f5cd0241c0f14e75616b...  \n",
       "2  bb88d95ef1e7929110cc442fb155d8756aea00a759b6f0...  "
      ]
     },
     "execution_count": 53,
     "metadata": {},
     "output_type": "execute_result"
    }
   ],
   "source": [
    "#rename columns\n",
    "clipper_accounts =clipper_accounts.rename(index=str, columns={\"STATE_\": \"STATE\",\n",
    "                                                              \"FN_Anonymous\": \"FIRST_NAME\",\n",
    "                                                             \"LN_Anonymous\": \"LAST_NAME\"})\n",
    "clipper_accounts.head(3)"
   ]
  },
  {
   "cell_type": "code",
   "execution_count": 21,
   "metadata": {},
   "outputs": [
    {
     "data": {
      "text/plain": [
       "CONTACT_ID            1678394\n",
       "CITY                     4116\n",
       "STATE_                      1\n",
       "CARD_SERIAL_NUMBER    2482848\n",
       "CARD_TYPE                  17\n",
       "STATUS                      2\n",
       "FN_Anonymous           247136\n",
       "LN_Anonymous           296400\n",
       "dtype: int64"
      ]
     },
     "execution_count": 21,
     "metadata": {},
     "output_type": "execute_result"
    }
   ],
   "source": [
    "#number unique values per column\n",
    "clipper_accounts.T.apply(lambda x: x.nunique(), axis=1)"
   ]
  },
  {
   "cell_type": "markdown",
   "metadata": {},
   "source": [
    "### City"
   ]
  },
  {
   "cell_type": "code",
   "execution_count": 24,
   "metadata": {},
   "outputs": [
    {
     "data": {
      "text/plain": [
       "4116"
      ]
     },
     "execution_count": 24,
     "metadata": {},
     "output_type": "execute_result"
    }
   ],
   "source": [
    "#number of unique cities\n",
    "clipper_accounts['CITY'].nunique()"
   ]
  },
  {
   "cell_type": "code",
   "execution_count": 32,
   "metadata": {
    "scrolled": true
   },
   "outputs": [
    {
     "data": {
      "text/plain": [
       "San Francisco          743887\n",
       "Oakland                241791\n",
       "San Jose               113347\n",
       "Berkeley                97100\n",
       "Rtcity                  95031\n",
       "Fremont                 59347\n",
       "Alameda                 45840\n",
       "Walnut Creek            37041\n",
       "Sf                      36057\n",
       "Hayward                 34477\n",
       "Daly City               33714\n",
       "Concord                 32680\n",
       "Richmond                31035\n",
       "San Leandro             29284\n",
       "San Mateo               27849\n",
       "Sunnyvale               26960\n",
       "Nocity                  23252\n",
       "Mountain View           21014\n",
       "San Rafael              20801\n",
       "Palo Alto               19030\n",
       "Redwood City            18112\n",
       "San Francisco           17770\n",
       "Pleasanton              17443\n",
       "Santa Clara             16886\n",
       "South San Francisco     16800\n",
       "El Cerrito              16108\n",
       "San Ramon               15539\n",
       "Union City              15533\n",
       "Castro Valley           14616\n",
       "Dublin                  13799\n",
       "                        ...  \n",
       "Ketfield                    1\n",
       "San Jose Ave                1\n",
       "Ranch Mirage                1\n",
       "Porterranch                 1\n",
       " San Rafael                 1\n",
       "Ps                          1\n",
       "San Fransicco               1\n",
       "Carpenteria                 1\n",
       "Llano                       1\n",
       "Kentfeild                   1\n",
       "San Ajose                   1\n",
       "Cumberland                  1\n",
       "Graz                        1\n",
       "Playa Del Rey               1\n",
       "Adelanto                    1\n",
       "Burl                        1\n",
       "Hillsboro                   1\n",
       "Avery                       1\n",
       "Healsburg                   1\n",
       "San Rafael Dr.              1\n",
       "Gualalla                    1\n",
       "Mi.ll Valley                1\n",
       "Sausolito                   1\n",
       "Athens                      1\n",
       "Mantara                     1\n",
       "Bayamon                     1\n",
       "Cupertina                   1\n",
       "Long Barn                   1\n",
       "Markham                     1\n",
       "Pea Ridge                   1\n",
       "Name: CITY, Length: 4116, dtype: int64"
      ]
     },
     "execution_count": 32,
     "metadata": {},
     "output_type": "execute_result"
    }
   ],
   "source": [
    "#what values of city do we have\n",
    "clipper_accounts['CITY'].value_counts()"
   ]
  },
  {
   "cell_type": "code",
   "execution_count": 124,
   "metadata": {
    "collapsed": true,
    "scrolled": true
   },
   "outputs": [],
   "source": [
    "\n",
    "#clipper_accounts[clipper_accounts['CARD_TYPE'].str.contains(\"Rtc\")==True]"
   ]
  },
  {
   "cell_type": "markdown",
   "metadata": {},
   "source": [
    "#### Cleaning City"
   ]
  },
  {
   "cell_type": "markdown",
   "metadata": {},
   "source": [
    "Bellow, we are going to use a file from thi [Github Project](https://github.com/grammakov/USA-cities-and-states), which contains all the cities in US"
   ]
  },
  {
   "cell_type": "code",
   "execution_count": 3,
   "metadata": {
    "collapsed": true
   },
   "outputs": [],
   "source": [
    "cities = pd.read_csv(\"~/Box/Data/us_cities_states_counties.csv\", encoding = 'utf-8', sep = \"|\")"
   ]
  },
  {
   "cell_type": "code",
   "execution_count": 4,
   "metadata": {
    "collapsed": true
   },
   "outputs": [],
   "source": [
    "# Taking only the cities in California\n",
    "california_cities = cities[cities[\"State full\"] == \"California\"]"
   ]
  },
  {
   "cell_type": "code",
   "execution_count": 6,
   "metadata": {
    "collapsed": true
   },
   "outputs": [],
   "source": [
    "# Creating a list of all the unique cities on CA\n",
    "list_of_cities = california_cities[\"City\"].unique()\n",
    "# Turning all of them to lowercase\n",
    "list_of_cities = map(lambda x:x.lower(), list_of_cities)"
   ]
  },
  {
   "cell_type": "markdown",
   "metadata": {},
   "source": [
    "Now it is time to clean some of the Clipper data, for the City column"
   ]
  },
  {
   "cell_type": "code",
   "execution_count": 7,
   "metadata": {
    "collapsed": true
   },
   "outputs": [],
   "source": [
    "# Turning all of them to lowercase\n",
    "clipper_accounts[\"CITY\"] = clipper_accounts[\"CITY\"].str.strip().str.lower()\n",
    "# Replace some elemnts that are very frequently misspelled\n",
    "clipper_accounts[\"CITY\"] = clipper_accounts[\"CITY\"].replace(\"sf\", \"san francisco\")\n",
    "clipper_accounts[\"CITY\"] = clipper_accounts[\"CITY\"].replace(\"af\", \"san francisco\")\n",
    "clipper_accounts[\"CITY\"] = clipper_accounts[\"CITY\"].replace(\"la\", \"los angeles\")\n",
    "clipper_accounts[\"CITY\"] = clipper_accounts[\"CITY\"].str.replace(\"  \", \" \")"
   ]
  },
  {
   "cell_type": "code",
   "execution_count": 8,
   "metadata": {},
   "outputs": [
    {
     "data": {
      "text/plain": [
       "san francisco          798187\n",
       "oakland                246202\n",
       "san jose               116345\n",
       "berkeley                99501\n",
       "rtcity                  95031\n",
       "fremont                 60297\n",
       "alameda                 46518\n",
       "walnut creek            37860\n",
       "hayward                 35262\n",
       "daly city               35019\n",
       "concord                 33243\n",
       "richmond                32012\n",
       "san leandro             30157\n",
       "san mateo               28681\n",
       "sunnyvale               27627\n",
       "nocity                  23252\n",
       "mountain view           21397\n",
       "san rafael              21183\n",
       "palo alto               19449\n",
       "redwood city            18729\n",
       "pleasanton              17775\n",
       "santa clara             17387\n",
       "south san francisco     17344\n",
       "el cerrito              16479\n",
       "union city              15829\n",
       "san ramon               15816\n",
       "castro valley           14884\n",
       "dublin                  13986\n",
       "antioch                 13947\n",
       "albany                  13519\n",
       "                        ...  \n",
       "sn juan batsta              1\n",
       "cornell                     1\n",
       "daly city ca                1\n",
       "epalinges                   1\n",
       "sunset beach                1\n",
       "bellevue                    1\n",
       "oaks                        1\n",
       "kensingto                   1\n",
       "oakkland                    1\n",
       "sebasotpol                  1\n",
       "aliso                       1\n",
       "sanville                    1\n",
       "yermo                       1\n",
       "regina                      1\n",
       "pleasant grove              1\n",
       "hayward ca                  1\n",
       "benlomond                   1\n",
       "forster city                1\n",
       "rowlan hgts                 1\n",
       "pleasnthill                 1\n",
       "trabuco cyn                 1\n",
       "santa rita                  1\n",
       "s. pasadena                 1\n",
       "valley forge                1\n",
       "carmicheal                  1\n",
       "parkton                     1\n",
       "sanlarenzo                  1\n",
       "monterey ca                 1\n",
       "san franciscoaxc            1\n",
       "organge wale                1\n",
       "Name: CITY, Length: 3278, dtype: int64"
      ]
     },
     "execution_count": 8,
     "metadata": {},
     "output_type": "execute_result"
    }
   ],
   "source": [
    "clipper_accounts[\"CITY\"].value_counts()"
   ]
  },
  {
   "cell_type": "markdown",
   "metadata": {},
   "source": [
    "Bellow, we created a function, which replaces misspelled city names with the correct ones"
   ]
  },
  {
   "cell_type": "code",
   "execution_count": 9,
   "metadata": {
    "collapsed": true
   },
   "outputs": [],
   "source": [
    "def is_similar(first):\n",
    "    \n",
    "    # First get the best score for the given city\n",
    "    score = 0.0\n",
    "    for s in list_of_cities:\n",
    "        if difflib.SequenceMatcher(None, first, s).ratio() > score:\n",
    "            score = difflib.SequenceMatcher(None, first, s).ratio()\n",
    "            city = s\n",
    "    # If the score is lower then a threshold of 0.7 then return the original city name\n",
    "    # which means we did not find a good representation for the city\n",
    "    if score < 0.7:\n",
    "        city = first\n",
    "    # Otherwise it returns the one with the best score\n",
    "    return city"
   ]
  },
  {
   "cell_type": "code",
   "execution_count": null,
   "metadata": {
    "collapsed": true
   },
   "outputs": [],
   "source": [
    "clipper_accounts[\"CITY\"] = clipper_accounts[\"CITY\"].apply(is_similar)"
   ]
  },
  {
   "cell_type": "code",
   "execution_count": null,
   "metadata": {
    "collapsed": true
   },
   "outputs": [],
   "source": [
    "clipper_accounts[\"CITY\"].value_counts()"
   ]
  },
  {
   "cell_type": "markdown",
   "metadata": {},
   "source": [
    "### State"
   ]
  },
  {
   "cell_type": "code",
   "execution_count": 54,
   "metadata": {},
   "outputs": [
    {
     "data": {
      "text/plain": [
       "1"
      ]
     },
     "execution_count": 54,
     "metadata": {},
     "output_type": "execute_result"
    }
   ],
   "source": [
    "#number of unique States\n",
    "clipper_accounts['STATE'].nunique()"
   ]
  },
  {
   "cell_type": "markdown",
   "metadata": {},
   "source": [
    "### Contact Id"
   ]
  },
  {
   "cell_type": "code",
   "execution_count": 26,
   "metadata": {},
   "outputs": [
    {
     "data": {
      "text/plain": [
       "1678394"
      ]
     },
     "execution_count": 26,
     "metadata": {},
     "output_type": "execute_result"
    }
   ],
   "source": [
    "#number of unique contact ids\n",
    "clipper_accounts['CONTACT_ID'].nunique()"
   ]
  },
  {
   "cell_type": "code",
   "execution_count": 39,
   "metadata": {
    "scrolled": true
   },
   "outputs": [
    {
     "data": {
      "text/html": [
       "<div>\n",
       "<style scoped>\n",
       "    .dataframe tbody tr th:only-of-type {\n",
       "        vertical-align: middle;\n",
       "    }\n",
       "\n",
       "    .dataframe tbody tr th {\n",
       "        vertical-align: top;\n",
       "    }\n",
       "\n",
       "    .dataframe thead th {\n",
       "        text-align: right;\n",
       "    }\n",
       "</style>\n",
       "<table border=\"1\" class=\"dataframe\">\n",
       "  <thead>\n",
       "    <tr style=\"text-align: right;\">\n",
       "      <th></th>\n",
       "      <th>CONTACT_ID</th>\n",
       "      <th>CITY</th>\n",
       "      <th>STATE_</th>\n",
       "      <th>CARD_SERIAL_NUMBER</th>\n",
       "      <th>CARD_TYPE</th>\n",
       "      <th>STATUS</th>\n",
       "      <th>FN_Anonymous</th>\n",
       "      <th>LN_Anonymous</th>\n",
       "    </tr>\n",
       "  </thead>\n",
       "  <tbody>\n",
       "    <tr>\n",
       "      <th>7</th>\n",
       "      <td>0000000000140F88</td>\n",
       "      <td>Antioch</td>\n",
       "      <td>CA</td>\n",
       "      <td>1206496473</td>\n",
       "      <td>Adult</td>\n",
       "      <td>Active</td>\n",
       "      <td>684645677c208dfdb3999bfbf5773b3f43183488e984bd...</td>\n",
       "      <td>649be9a47800da614e5093cee0b882e9070af9aae4b59c...</td>\n",
       "    </tr>\n",
       "    <tr>\n",
       "      <th>8</th>\n",
       "      <td>0000000000140F88</td>\n",
       "      <td>Antioch</td>\n",
       "      <td>CA</td>\n",
       "      <td>1204727228</td>\n",
       "      <td>Adult</td>\n",
       "      <td>Blocked</td>\n",
       "      <td>684645677c208dfdb3999bfbf5773b3f43183488e984bd...</td>\n",
       "      <td>649be9a47800da614e5093cee0b882e9070af9aae4b59c...</td>\n",
       "    </tr>\n",
       "    <tr>\n",
       "      <th>9</th>\n",
       "      <td>0000000000140F88</td>\n",
       "      <td>Antioch</td>\n",
       "      <td>CA</td>\n",
       "      <td>1203173627</td>\n",
       "      <td>Adult</td>\n",
       "      <td>Blocked</td>\n",
       "      <td>684645677c208dfdb3999bfbf5773b3f43183488e984bd...</td>\n",
       "      <td>649be9a47800da614e5093cee0b882e9070af9aae4b59c...</td>\n",
       "    </tr>\n",
       "    <tr>\n",
       "      <th>22</th>\n",
       "      <td>00000000000B15A7</td>\n",
       "      <td>Berkeley</td>\n",
       "      <td>CA</td>\n",
       "      <td>1206653374</td>\n",
       "      <td>Adult</td>\n",
       "      <td>Active</td>\n",
       "      <td>39ca22d05e9a10c61df66e3589d2da95d8335b6ef0f76c...</td>\n",
       "      <td>60bd1c0f36870f6cae6a4989586aadd1725a9d0db6a369...</td>\n",
       "    </tr>\n",
       "    <tr>\n",
       "      <th>23</th>\n",
       "      <td>00000000000B15A7</td>\n",
       "      <td>Berkeley</td>\n",
       "      <td>CA</td>\n",
       "      <td>1204305305</td>\n",
       "      <td>Adult</td>\n",
       "      <td>Blocked</td>\n",
       "      <td>39ca22d05e9a10c61df66e3589d2da95d8335b6ef0f76c...</td>\n",
       "      <td>60bd1c0f36870f6cae6a4989586aadd1725a9d0db6a369...</td>\n",
       "    </tr>\n",
       "    <tr>\n",
       "      <th>24</th>\n",
       "      <td>00000000000B15A7</td>\n",
       "      <td>Berkeley</td>\n",
       "      <td>CA</td>\n",
       "      <td>1201798200</td>\n",
       "      <td>Adult</td>\n",
       "      <td>Blocked</td>\n",
       "      <td>39ca22d05e9a10c61df66e3589d2da95d8335b6ef0f76c...</td>\n",
       "      <td>60bd1c0f36870f6cae6a4989586aadd1725a9d0db6a369...</td>\n",
       "    </tr>\n",
       "    <tr>\n",
       "      <th>25</th>\n",
       "      <td>00000000000B15A7</td>\n",
       "      <td>Berkeley</td>\n",
       "      <td>CA</td>\n",
       "      <td>1200544331</td>\n",
       "      <td>Adult</td>\n",
       "      <td>Blocked</td>\n",
       "      <td>39ca22d05e9a10c61df66e3589d2da95d8335b6ef0f76c...</td>\n",
       "      <td>60bd1c0f36870f6cae6a4989586aadd1725a9d0db6a369...</td>\n",
       "    </tr>\n",
       "    <tr>\n",
       "      <th>30</th>\n",
       "      <td>0000000000227356</td>\n",
       "      <td>Berkeley</td>\n",
       "      <td>CA</td>\n",
       "      <td>1205904058</td>\n",
       "      <td>Adult</td>\n",
       "      <td>Active</td>\n",
       "      <td>bfdc74a5840acc4f1e53edd0d28101d2ec5270511529d2...</td>\n",
       "      <td>0a05a01671e751ed5201687193343b0aff191ec82e4733...</td>\n",
       "    </tr>\n",
       "    <tr>\n",
       "      <th>31</th>\n",
       "      <td>0000000000227356</td>\n",
       "      <td>Berkeley</td>\n",
       "      <td>CA</td>\n",
       "      <td>1205792360</td>\n",
       "      <td>Adult</td>\n",
       "      <td>Active</td>\n",
       "      <td>bfdc74a5840acc4f1e53edd0d28101d2ec5270511529d2...</td>\n",
       "      <td>0a05a01671e751ed5201687193343b0aff191ec82e4733...</td>\n",
       "    </tr>\n",
       "    <tr>\n",
       "      <th>38</th>\n",
       "      <td>0000000000264FF6</td>\n",
       "      <td>Burbank</td>\n",
       "      <td>CA</td>\n",
       "      <td>1204832571</td>\n",
       "      <td>Adult</td>\n",
       "      <td>Active</td>\n",
       "      <td>e4523c2e444f2937ab7dcd6afb004a86013f4b89e2c42a...</td>\n",
       "      <td>f5ce9ba8e2f347e8de89ce436d30ba37fe326609f2f015...</td>\n",
       "    </tr>\n",
       "  </tbody>\n",
       "</table>\n",
       "</div>"
      ],
      "text/plain": [
       "          CONTACT_ID       CITY STATE_  CARD_SERIAL_NUMBER CARD_TYPE   STATUS  \\\n",
       "7   0000000000140F88    Antioch     CA          1206496473     Adult   Active   \n",
       "8   0000000000140F88    Antioch     CA          1204727228     Adult  Blocked   \n",
       "9   0000000000140F88    Antioch     CA          1203173627     Adult  Blocked   \n",
       "22  00000000000B15A7   Berkeley     CA          1206653374     Adult   Active   \n",
       "23  00000000000B15A7   Berkeley     CA          1204305305     Adult  Blocked   \n",
       "24  00000000000B15A7   Berkeley     CA          1201798200     Adult  Blocked   \n",
       "25  00000000000B15A7   Berkeley     CA          1200544331     Adult  Blocked   \n",
       "30  0000000000227356   Berkeley     CA          1205904058     Adult   Active   \n",
       "31  0000000000227356   Berkeley     CA          1205792360     Adult   Active   \n",
       "38  0000000000264FF6    Burbank     CA          1204832571     Adult   Active   \n",
       "\n",
       "                                         FN_Anonymous  \\\n",
       "7   684645677c208dfdb3999bfbf5773b3f43183488e984bd...   \n",
       "8   684645677c208dfdb3999bfbf5773b3f43183488e984bd...   \n",
       "9   684645677c208dfdb3999bfbf5773b3f43183488e984bd...   \n",
       "22  39ca22d05e9a10c61df66e3589d2da95d8335b6ef0f76c...   \n",
       "23  39ca22d05e9a10c61df66e3589d2da95d8335b6ef0f76c...   \n",
       "24  39ca22d05e9a10c61df66e3589d2da95d8335b6ef0f76c...   \n",
       "25  39ca22d05e9a10c61df66e3589d2da95d8335b6ef0f76c...   \n",
       "30  bfdc74a5840acc4f1e53edd0d28101d2ec5270511529d2...   \n",
       "31  bfdc74a5840acc4f1e53edd0d28101d2ec5270511529d2...   \n",
       "38  e4523c2e444f2937ab7dcd6afb004a86013f4b89e2c42a...   \n",
       "\n",
       "                                         LN_Anonymous  \n",
       "7   649be9a47800da614e5093cee0b882e9070af9aae4b59c...  \n",
       "8   649be9a47800da614e5093cee0b882e9070af9aae4b59c...  \n",
       "9   649be9a47800da614e5093cee0b882e9070af9aae4b59c...  \n",
       "22  60bd1c0f36870f6cae6a4989586aadd1725a9d0db6a369...  \n",
       "23  60bd1c0f36870f6cae6a4989586aadd1725a9d0db6a369...  \n",
       "24  60bd1c0f36870f6cae6a4989586aadd1725a9d0db6a369...  \n",
       "25  60bd1c0f36870f6cae6a4989586aadd1725a9d0db6a369...  \n",
       "30  0a05a01671e751ed5201687193343b0aff191ec82e4733...  \n",
       "31  0a05a01671e751ed5201687193343b0aff191ec82e4733...  \n",
       "38  f5ce9ba8e2f347e8de89ce436d30ba37fe326609f2f015...  "
      ]
     },
     "execution_count": 39,
     "metadata": {},
     "output_type": "execute_result"
    }
   ],
   "source": [
    "#look at rows with duplicated CONTACT_ID\n",
    "clipper_accounts[clipper_accounts.CONTACT_ID.duplicated(keep=False)].head(10)"
   ]
  },
  {
   "cell_type": "markdown",
   "metadata": {},
   "source": [
    "The above shows that there can be multiple cards linked to one account. Usually all but 1 are blocked, but that is not always the case."
   ]
  },
  {
   "cell_type": "markdown",
   "metadata": {},
   "source": [
    "### Card Type"
   ]
  },
  {
   "cell_type": "code",
   "execution_count": 43,
   "metadata": {},
   "outputs": [
    {
     "data": {
      "text/plain": [
       "17"
      ]
     },
     "execution_count": 43,
     "metadata": {},
     "output_type": "execute_result"
    }
   ],
   "source": [
    "#number of unique cardtype\n",
    "clipper_accounts['CARD_TYPE'].nunique()"
   ]
  },
  {
   "cell_type": "code",
   "execution_count": 44,
   "metadata": {},
   "outputs": [
    {
     "data": {
      "text/plain": [
       "Adult                       1646616\n",
       "Senior Citizen               338726\n",
       "Youth                        267914\n",
       "Rtc Discount                 223700\n",
       "Tsb Non - Fare Card            1980\n",
       "Initialized                    1154\n",
       "Bart Non - Fare Card            960\n",
       "Tsb Non-Fare Card               847\n",
       "Rtc Desfire                     489\n",
       "Sf Muni Non - Fare Card         146\n",
       "Ggt Non - Fare Card              88\n",
       "Vta Non - Fare Card              85\n",
       "Act Non - Fare Card              44\n",
       "Non-Fare                         37\n",
       "Failed                           32\n",
       "Adult - Obsolete                 16\n",
       "Caltrain Non - Fare Card         14\n",
       "Name: CARD_TYPE, dtype: int64"
      ]
     },
     "execution_count": 44,
     "metadata": {},
     "output_type": "execute_result"
    }
   ],
   "source": [
    "#what values of cardtype do we have\n",
    "clipper_accounts['CARD_TYPE'].value_counts()"
   ]
  },
  {
   "cell_type": "markdown",
   "metadata": {},
   "source": [
    "### Status"
   ]
  },
  {
   "cell_type": "code",
   "execution_count": 45,
   "metadata": {},
   "outputs": [
    {
     "data": {
      "text/plain": [
       "2"
      ]
     },
     "execution_count": 45,
     "metadata": {},
     "output_type": "execute_result"
    }
   ],
   "source": [
    "#number of unique cardtype\n",
    "clipper_accounts['STATUS'].nunique()"
   ]
  },
  {
   "cell_type": "code",
   "execution_count": 46,
   "metadata": {},
   "outputs": [
    {
     "data": {
      "text/plain": [
       "Active     1932789\n",
       "Blocked     550059\n",
       "Name: STATUS, dtype: int64"
      ]
     },
     "execution_count": 46,
     "metadata": {},
     "output_type": "execute_result"
    }
   ],
   "source": [
    "#what values of status do we have\n",
    "clipper_accounts['STATUS'].value_counts()"
   ]
  },
  {
   "cell_type": "markdown",
   "metadata": {},
   "source": [
    "### Names"
   ]
  },
  {
   "cell_type": "code",
   "execution_count": 55,
   "metadata": {},
   "outputs": [
    {
     "data": {
      "text/plain": [
       "247136"
      ]
     },
     "execution_count": 55,
     "metadata": {},
     "output_type": "execute_result"
    }
   ],
   "source": [
    "#number of unique first names\n",
    "clipper_accounts['FIRST_NAME'].nunique()"
   ]
  },
  {
   "cell_type": "code",
   "execution_count": 56,
   "metadata": {},
   "outputs": [
    {
     "data": {
      "text/plain": [
       "296400"
      ]
     },
     "execution_count": 56,
     "metadata": {},
     "output_type": "execute_result"
    }
   ],
   "source": [
    "#number of unique last names\n",
    "clipper_accounts['LAST_NAME'].nunique()"
   ]
  },
  {
   "cell_type": "code",
   "execution_count": 58,
   "metadata": {},
   "outputs": [
    {
     "data": {
      "text/plain": [
       "1370024"
      ]
     },
     "execution_count": 58,
     "metadata": {},
     "output_type": "execute_result"
    }
   ],
   "source": [
    "#number of unique first-last name combo's\n",
    "(clipper_accounts['FIRST_NAME'].map(str) + clipper_accounts['LAST_NAME']).nunique()"
   ]
  },
  {
   "cell_type": "code",
   "execution_count": 60,
   "metadata": {},
   "outputs": [
    {
     "data": {
      "text/plain": [
       "308370"
      ]
     },
     "execution_count": 60,
     "metadata": {},
     "output_type": "execute_result"
    }
   ],
   "source": [
    "# num unique accounts minus num unique first/last name combos\n",
    "clipper_accounts['CONTACT_ID'].nunique() - (clipper_accounts['FIRST_NAME'].map(str) + clipper_accounts['LAST_NAME']).nunique()"
   ]
  },
  {
   "cell_type": "code",
   "execution_count": 91,
   "metadata": {},
   "outputs": [
    {
     "name": "stderr",
     "output_type": "stream",
     "text": [
      "/anaconda/lib/python2.7/site-packages/ipykernel_launcher.py:5: SettingWithCopyWarning: \n",
      "A value is trying to be set on a copy of a slice from a DataFrame.\n",
      "Try using .loc[row_indexer,col_indexer] = value instead\n",
      "\n",
      "See the caveats in the documentation: http://pandas.pydata.org/pandas-docs/stable/indexing.html#indexing-view-versus-copy\n",
      "  \"\"\"\n"
     ]
    }
   ],
   "source": [
    "#only keep one row per CONTACT_ID\n",
    "clipper_acct_dedup = clipper_accounts.drop_duplicates(subset='CONTACT_ID', keep='first', inplace=False)\n",
    "\n",
    "#concat first and last name\n",
    "clipper_acct_dedup[\"FIRST_LAST\"] = clipper_acct_dedup[['FIRST_NAME', 'LAST_NAME']].apply(lambda x: '_'.join(x), axis=1)"
   ]
  },
  {
   "cell_type": "code",
   "execution_count": 93,
   "metadata": {},
   "outputs": [
    {
     "name": "stdout",
     "output_type": "stream",
     "text": [
      "(459186, 9)\n"
     ]
    },
    {
     "data": {
      "text/html": [
       "<div>\n",
       "<style scoped>\n",
       "    .dataframe tbody tr th:only-of-type {\n",
       "        vertical-align: middle;\n",
       "    }\n",
       "\n",
       "    .dataframe tbody tr th {\n",
       "        vertical-align: top;\n",
       "    }\n",
       "\n",
       "    .dataframe thead th {\n",
       "        text-align: right;\n",
       "    }\n",
       "</style>\n",
       "<table border=\"1\" class=\"dataframe\">\n",
       "  <thead>\n",
       "    <tr style=\"text-align: right;\">\n",
       "      <th></th>\n",
       "      <th>CONTACT_ID</th>\n",
       "      <th>CITY</th>\n",
       "      <th>STATE</th>\n",
       "      <th>CARD_SERIAL_NUMBER</th>\n",
       "      <th>CARD_TYPE</th>\n",
       "      <th>STATUS</th>\n",
       "      <th>FIRST_NAME</th>\n",
       "      <th>LAST_NAME</th>\n",
       "      <th>FIRST_LAST</th>\n",
       "    </tr>\n",
       "  </thead>\n",
       "  <tbody>\n",
       "    <tr>\n",
       "      <th>445847</th>\n",
       "      <td>000000000004C88F</td>\n",
       "      <td>Fremont</td>\n",
       "      <td>CA</td>\n",
       "      <td>1200442905</td>\n",
       "      <td>Adult</td>\n",
       "      <td>Active</td>\n",
       "      <td>00026138b6ae717197cd9b99dccb2160a6cba0f438dfee...</td>\n",
       "      <td>527d0da3ed4f804bb25c1f9e1569d6864af39924efdb29...</td>\n",
       "      <td>00026138b6ae717197cd9b99dccb2160a6cba0f438dfee...</td>\n",
       "    </tr>\n",
       "    <tr>\n",
       "      <th>447515</th>\n",
       "      <td>000000000023BDA8</td>\n",
       "      <td>Fremont</td>\n",
       "      <td>CA</td>\n",
       "      <td>1206359523</td>\n",
       "      <td>Adult</td>\n",
       "      <td>Active</td>\n",
       "      <td>00026138b6ae717197cd9b99dccb2160a6cba0f438dfee...</td>\n",
       "      <td>527d0da3ed4f804bb25c1f9e1569d6864af39924efdb29...</td>\n",
       "      <td>00026138b6ae717197cd9b99dccb2160a6cba0f438dfee...</td>\n",
       "    </tr>\n",
       "    <tr>\n",
       "      <th>2221363</th>\n",
       "      <td>000000000014548C</td>\n",
       "      <td>San Pablo</td>\n",
       "      <td>CA</td>\n",
       "      <td>1203633844</td>\n",
       "      <td>Youth</td>\n",
       "      <td>Active</td>\n",
       "      <td>00056bcae7f0d301859fb23c2ceaa5bed10d50ff3aec89...</td>\n",
       "      <td>492c473f67214f8a12d5a3eb781c4489de7f6eb69c4af8...</td>\n",
       "      <td>00056bcae7f0d301859fb23c2ceaa5bed10d50ff3aec89...</td>\n",
       "    </tr>\n",
       "    <tr>\n",
       "      <th>1118327</th>\n",
       "      <td>00000000002688C3</td>\n",
       "      <td>Richmond</td>\n",
       "      <td>CA</td>\n",
       "      <td>1206422396</td>\n",
       "      <td>Adult</td>\n",
       "      <td>Active</td>\n",
       "      <td>00056bcae7f0d301859fb23c2ceaa5bed10d50ff3aec89...</td>\n",
       "      <td>492c473f67214f8a12d5a3eb781c4489de7f6eb69c4af8...</td>\n",
       "      <td>00056bcae7f0d301859fb23c2ceaa5bed10d50ff3aec89...</td>\n",
       "    </tr>\n",
       "    <tr>\n",
       "      <th>1881458</th>\n",
       "      <td>0000000000274070</td>\n",
       "      <td>San Francisco</td>\n",
       "      <td>CA</td>\n",
       "      <td>1207282348</td>\n",
       "      <td>Adult</td>\n",
       "      <td>Active</td>\n",
       "      <td>000d8ec299b67fbdecfb8b3d43296fa04a4e2585b1008e...</td>\n",
       "      <td>6bc36c0c73df7c89bfc8916c9220addbd2bf89c9b167c1...</td>\n",
       "      <td>000d8ec299b67fbdecfb8b3d43296fa04a4e2585b1008e...</td>\n",
       "    </tr>\n",
       "    <tr>\n",
       "      <th>1110019</th>\n",
       "      <td>000000000009A729</td>\n",
       "      <td>Richmond</td>\n",
       "      <td>CA</td>\n",
       "      <td>1201451839</td>\n",
       "      <td>Youth</td>\n",
       "      <td>Active</td>\n",
       "      <td>000d8ec299b67fbdecfb8b3d43296fa04a4e2585b1008e...</td>\n",
       "      <td>6bc36c0c73df7c89bfc8916c9220addbd2bf89c9b167c1...</td>\n",
       "      <td>000d8ec299b67fbdecfb8b3d43296fa04a4e2585b1008e...</td>\n",
       "    </tr>\n",
       "  </tbody>\n",
       "</table>\n",
       "</div>"
      ],
      "text/plain": [
       "               CONTACT_ID           CITY STATE  CARD_SERIAL_NUMBER CARD_TYPE  \\\n",
       "445847   000000000004C88F        Fremont    CA          1200442905     Adult   \n",
       "447515   000000000023BDA8        Fremont    CA          1206359523     Adult   \n",
       "2221363  000000000014548C      San Pablo    CA          1203633844     Youth   \n",
       "1118327  00000000002688C3       Richmond    CA          1206422396     Adult   \n",
       "1881458  0000000000274070  San Francisco    CA          1207282348     Adult   \n",
       "1110019  000000000009A729       Richmond    CA          1201451839     Youth   \n",
       "\n",
       "         STATUS                                         FIRST_NAME  \\\n",
       "445847   Active  00026138b6ae717197cd9b99dccb2160a6cba0f438dfee...   \n",
       "447515   Active  00026138b6ae717197cd9b99dccb2160a6cba0f438dfee...   \n",
       "2221363  Active  00056bcae7f0d301859fb23c2ceaa5bed10d50ff3aec89...   \n",
       "1118327  Active  00056bcae7f0d301859fb23c2ceaa5bed10d50ff3aec89...   \n",
       "1881458  Active  000d8ec299b67fbdecfb8b3d43296fa04a4e2585b1008e...   \n",
       "1110019  Active  000d8ec299b67fbdecfb8b3d43296fa04a4e2585b1008e...   \n",
       "\n",
       "                                                 LAST_NAME  \\\n",
       "445847   527d0da3ed4f804bb25c1f9e1569d6864af39924efdb29...   \n",
       "447515   527d0da3ed4f804bb25c1f9e1569d6864af39924efdb29...   \n",
       "2221363  492c473f67214f8a12d5a3eb781c4489de7f6eb69c4af8...   \n",
       "1118327  492c473f67214f8a12d5a3eb781c4489de7f6eb69c4af8...   \n",
       "1881458  6bc36c0c73df7c89bfc8916c9220addbd2bf89c9b167c1...   \n",
       "1110019  6bc36c0c73df7c89bfc8916c9220addbd2bf89c9b167c1...   \n",
       "\n",
       "                                                FIRST_LAST  \n",
       "445847   00026138b6ae717197cd9b99dccb2160a6cba0f438dfee...  \n",
       "447515   00026138b6ae717197cd9b99dccb2160a6cba0f438dfee...  \n",
       "2221363  00056bcae7f0d301859fb23c2ceaa5bed10d50ff3aec89...  \n",
       "1118327  00056bcae7f0d301859fb23c2ceaa5bed10d50ff3aec89...  \n",
       "1881458  000d8ec299b67fbdecfb8b3d43296fa04a4e2585b1008e...  \n",
       "1110019  000d8ec299b67fbdecfb8b3d43296fa04a4e2585b1008e...  "
      ]
     },
     "execution_count": 93,
     "metadata": {},
     "output_type": "execute_result"
    }
   ],
   "source": [
    "#look at rows with duplicated FIRST_LAST (after duplicated account removed)\n",
    "clipper1 = clipper_acct_dedup[clipper_acct_dedup.FIRST_LAST.duplicated(keep=False)].sort_values('FIRST_LAST')\n",
    "print clipper1.shape\n",
    "clipper1.head(6)"
   ]
  },
  {
   "cell_type": "markdown",
   "metadata": {},
   "source": [
    "Because there are 400K+ unique accounts with duplicated first/last name combos, we will need multiple fields to match on"
   ]
  },
  {
   "cell_type": "markdown",
   "metadata": {},
   "source": [
    "## Fastrak Exploration"
   ]
  },
  {
   "cell_type": "code",
   "execution_count": 94,
   "metadata": {
    "collapsed": true,
    "scrolled": false
   },
   "outputs": [],
   "source": [
    "#only keep one row per CONTACT_ID\n",
    "fastrak_accounts = fastrak_accounts.drop_duplicates(subset='Account', keep='first', inplace=False)"
   ]
  },
  {
   "cell_type": "code",
   "execution_count": 95,
   "metadata": {},
   "outputs": [
    {
     "data": {
      "text/plain": [
       "(2141006, 10)"
      ]
     },
     "execution_count": 95,
     "metadata": {},
     "output_type": "execute_result"
    }
   ],
   "source": [
    "#number rows, columns in df\n",
    "fastrak_accounts.shape"
   ]
  },
  {
   "cell_type": "code",
   "execution_count": 103,
   "metadata": {},
   "outputs": [
    {
     "data": {
      "text/html": [
       "<div>\n",
       "<style scoped>\n",
       "    .dataframe tbody tr th:only-of-type {\n",
       "        vertical-align: middle;\n",
       "    }\n",
       "\n",
       "    .dataframe tbody tr th {\n",
       "        vertical-align: top;\n",
       "    }\n",
       "\n",
       "    .dataframe thead th {\n",
       "        text-align: right;\n",
       "    }\n",
       "</style>\n",
       "<table border=\"1\" class=\"dataframe\">\n",
       "  <thead>\n",
       "    <tr style=\"text-align: right;\">\n",
       "      <th></th>\n",
       "      <th>Account</th>\n",
       "      <th>Account_Type</th>\n",
       "      <th>Account_Status</th>\n",
       "      <th>Account_Opening_Data</th>\n",
       "      <th>City</th>\n",
       "      <th>STATE</th>\n",
       "      <th>Device</th>\n",
       "      <th>Device Status</th>\n",
       "      <th>FIRST_NAME</th>\n",
       "      <th>LAST_NAME</th>\n",
       "    </tr>\n",
       "  </thead>\n",
       "  <tbody>\n",
       "    <tr>\n",
       "      <th>0</th>\n",
       "      <td>1000003</td>\n",
       "      <td>Private</td>\n",
       "      <td>Active</td>\n",
       "      <td>29-DEC-99</td>\n",
       "      <td>Hercules</td>\n",
       "      <td>CA</td>\n",
       "      <td>903640519</td>\n",
       "      <td>Active</td>\n",
       "      <td>e3c795cbb55dbf0a776ca6c2b57f54112909a3de456905...</td>\n",
       "      <td>7c5f2e1df53a5cbcf6ac9c4c60d488e9a8fe9af3451d01...</td>\n",
       "    </tr>\n",
       "    <tr>\n",
       "      <th>1</th>\n",
       "      <td>1000006</td>\n",
       "      <td>Private</td>\n",
       "      <td>Active</td>\n",
       "      <td>05-JAN-00</td>\n",
       "      <td>Benicia</td>\n",
       "      <td>CA</td>\n",
       "      <td>2609100650</td>\n",
       "      <td>Active</td>\n",
       "      <td>63a912989826f2f4c3f8770424a427cc52c9a1637af3c2...</td>\n",
       "      <td>60781dec202e45a49f8b1d8ba030f78e884f80ec3ec0a5...</td>\n",
       "    </tr>\n",
       "    <tr>\n",
       "      <th>4</th>\n",
       "      <td>1000009</td>\n",
       "      <td>Private</td>\n",
       "      <td>Active</td>\n",
       "      <td>05-JAN-00</td>\n",
       "      <td>Hayward</td>\n",
       "      <td>CA</td>\n",
       "      <td>419800377</td>\n",
       "      <td>Swapnoreturn</td>\n",
       "      <td>e34c463efa273e07883b01ed78a714e904a9eef856052c...</td>\n",
       "      <td>4b1731d0a8f9a5edca3a2aa4f81110ef86687b0c933848...</td>\n",
       "    </tr>\n",
       "  </tbody>\n",
       "</table>\n",
       "</div>"
      ],
      "text/plain": [
       "   Account Account_Type Account_Status Account_Opening_Data      City STATE  \\\n",
       "0  1000003      Private         Active            29-DEC-99  Hercules    CA   \n",
       "1  1000006      Private         Active            05-JAN-00   Benicia    CA   \n",
       "4  1000009      Private         Active            05-JAN-00   Hayward    CA   \n",
       "\n",
       "       Device Device Status  \\\n",
       "0   903640519        Active   \n",
       "1  2609100650        Active   \n",
       "4   419800377  Swapnoreturn   \n",
       "\n",
       "                                          FIRST_NAME  \\\n",
       "0  e3c795cbb55dbf0a776ca6c2b57f54112909a3de456905...   \n",
       "1  63a912989826f2f4c3f8770424a427cc52c9a1637af3c2...   \n",
       "4  e34c463efa273e07883b01ed78a714e904a9eef856052c...   \n",
       "\n",
       "                                           LAST_NAME  \n",
       "0  7c5f2e1df53a5cbcf6ac9c4c60d488e9a8fe9af3451d01...  \n",
       "1  60781dec202e45a49f8b1d8ba030f78e884f80ec3ec0a5...  \n",
       "4  4b1731d0a8f9a5edca3a2aa4f81110ef86687b0c933848...  "
      ]
     },
     "execution_count": 103,
     "metadata": {},
     "output_type": "execute_result"
    }
   ],
   "source": [
    "fastrak_accounts = fastrak_accounts.rename(index=str, columns={\"FN_ANONYMOUS\": \"FIRST_NAME\",\n",
    "                                                             \"LN_Anonymous\": \"LAST_NAME\"})\n",
    "fastrak_accounts.head(3)"
   ]
  },
  {
   "cell_type": "code",
   "execution_count": 104,
   "metadata": {
    "scrolled": true
   },
   "outputs": [
    {
     "data": {
      "text/plain": [
       "Account                 2141006\n",
       "Account_Type                  2\n",
       "Account_Status                6\n",
       "Account_Opening_Data       6511\n",
       "City                       3647\n",
       "STATE                         1\n",
       "Device                  2141006\n",
       "Device Status                15\n",
       "FIRST_NAME               182248\n",
       "LAST_NAME                330248\n",
       "dtype: int64"
      ]
     },
     "execution_count": 104,
     "metadata": {},
     "output_type": "execute_result"
    }
   ],
   "source": [
    "#unique values per column\n",
    "fastrak_accounts.T.apply(lambda x: x.nunique(), axis=1)"
   ]
  },
  {
   "cell_type": "markdown",
   "metadata": {},
   "source": [
    "### City"
   ]
  },
  {
   "cell_type": "code",
   "execution_count": 28,
   "metadata": {},
   "outputs": [
    {
     "data": {
      "text/plain": [
       "3647"
      ]
     },
     "execution_count": 28,
     "metadata": {},
     "output_type": "execute_result"
    }
   ],
   "source": [
    "#number of unique cities\n",
    "fastrak_accounts['City'].nunique()"
   ]
  },
  {
   "cell_type": "code",
   "execution_count": 33,
   "metadata": {},
   "outputs": [
    {
     "data": {
      "text/plain": [
       "San Francisco            389550\n",
       "Oakland                  171991\n",
       "San Jose                  96583\n",
       "Fremont                   89930\n",
       "Sacramento                74206\n",
       "Hayward                   72721\n",
       "Vallejo                   65299\n",
       "Santa Rosa                61207\n",
       "Berkeley                  57991\n",
       "San Rafael                54928\n",
       "Concord                   52525\n",
       "Walnut Creek              52025\n",
       "Fairfield                 46914\n",
       "San Ramon                 44724\n",
       "San Mateo                 44492\n",
       "Richmond                  43257\n",
       "Livermore                 41671\n",
       "San Leandro               41097\n",
       "Novato                    40273\n",
       "Pleasanton                40233\n",
       "Alameda                   39896\n",
       "Danville                  38269\n",
       "Daly City                 36058\n",
       "Vacaville                 34588\n",
       "Redwood City              34206\n",
       "Petaluma                  32882\n",
       "Mill Valley               29409\n",
       "Union City                29079\n",
       "Dublin                    28620\n",
       "Benicia                   28493\n",
       "                          ...  \n",
       "Woodridge                     1\n",
       "Thousan Oaks                  1\n",
       "Sausailito                    1\n",
       "Pascadero                     1\n",
       "Ft Bragg                      1\n",
       "Singapore                     1\n",
       "Sinoma                        1\n",
       "Clayt                         1\n",
       "Santa Roas                    1\n",
       "Red Wood                      1\n",
       "Emeryvill                     1\n",
       "Sacramanto                    1\n",
       "San Jasinto                   1\n",
       "Farfix                        1\n",
       "Northstar                     1\n",
       "Alameda Island                1\n",
       "Sainas                        1\n",
       "Forest Hille                  1\n",
       "Newarl                        1\n",
       "American Canton               1\n",
       "Torence                       1\n",
       "San Rafael California         1\n",
       "Belvidere                     1\n",
       "Alleghany                     1\n",
       "Grenbrae                      1\n",
       "117 Sable Point               1\n",
       "Hdden Valley Lake             1\n",
       "Auburln                       1\n",
       "Lareda Ranch                  1\n",
       "Heirloom Way                  1\n",
       "Name: City, Length: 3647, dtype: int64"
      ]
     },
     "execution_count": 33,
     "metadata": {},
     "output_type": "execute_result"
    }
   ],
   "source": [
    "#what values of city do we have\n",
    "fastrak_accounts['City'].value_counts()"
   ]
  },
  {
   "cell_type": "code",
   "execution_count": 113,
   "metadata": {},
   "outputs": [
    {
     "data": {
      "text/html": [
       "<div>\n",
       "<style scoped>\n",
       "    .dataframe tbody tr th:only-of-type {\n",
       "        vertical-align: middle;\n",
       "    }\n",
       "\n",
       "    .dataframe tbody tr th {\n",
       "        vertical-align: top;\n",
       "    }\n",
       "\n",
       "    .dataframe thead th {\n",
       "        text-align: right;\n",
       "    }\n",
       "</style>\n",
       "<table border=\"1\" class=\"dataframe\">\n",
       "  <thead>\n",
       "    <tr style=\"text-align: right;\">\n",
       "      <th></th>\n",
       "      <th>CONTACT_ID</th>\n",
       "      <th>CITY</th>\n",
       "      <th>STATE</th>\n",
       "      <th>CARD_SERIAL_NUMBER</th>\n",
       "      <th>CARD_TYPE</th>\n",
       "      <th>STATUS</th>\n",
       "      <th>FIRST_NAME</th>\n",
       "      <th>LAST_NAME</th>\n",
       "    </tr>\n",
       "  </thead>\n",
       "  <tbody>\n",
       "  </tbody>\n",
       "</table>\n",
       "</div>"
      ],
      "text/plain": [
       "Empty DataFrame\n",
       "Columns: [CONTACT_ID, CITY, STATE, CARD_SERIAL_NUMBER, CARD_TYPE, STATUS, FIRST_NAME, LAST_NAME]\n",
       "Index: []"
      ]
     },
     "execution_count": 113,
     "metadata": {},
     "output_type": "execute_result"
    }
   ],
   "source": []
  },
  {
   "cell_type": "markdown",
   "metadata": {},
   "source": [
    "### State"
   ]
  },
  {
   "cell_type": "code",
   "execution_count": 41,
   "metadata": {},
   "outputs": [
    {
     "data": {
      "text/plain": [
       "1"
      ]
     },
     "execution_count": 41,
     "metadata": {},
     "output_type": "execute_result"
    }
   ],
   "source": [
    "#number of unique States\n",
    "fastrak_accounts['STATE'].nunique()"
   ]
  },
  {
   "cell_type": "markdown",
   "metadata": {},
   "source": [
    "### Account Status"
   ]
  },
  {
   "cell_type": "code",
   "execution_count": 99,
   "metadata": {},
   "outputs": [
    {
     "data": {
      "text/plain": [
       "Active        1863343\n",
       "Closed         181400\n",
       "Rvkf            60153\n",
       "Collection      27210\n",
       "Rvkw             8377\n",
       "Close Pend        523\n",
       "Name: Account_Status, dtype: int64"
      ]
     },
     "execution_count": 99,
     "metadata": {},
     "output_type": "execute_result"
    }
   ],
   "source": [
    "fastrak_accounts['Account_Status'].value_counts()"
   ]
  },
  {
   "cell_type": "markdown",
   "metadata": {},
   "source": [
    "### Account Type"
   ]
  },
  {
   "cell_type": "code",
   "execution_count": 100,
   "metadata": {
    "scrolled": true
   },
   "outputs": [
    {
     "data": {
      "text/plain": [
       "Private     2090236\n",
       "Business      50770\n",
       "Name: Account_Type, dtype: int64"
      ]
     },
     "execution_count": 100,
     "metadata": {},
     "output_type": "execute_result"
    }
   ],
   "source": [
    "fastrak_accounts['Account_Type'].value_counts()"
   ]
  },
  {
   "cell_type": "markdown",
   "metadata": {},
   "source": [
    "### Names"
   ]
  },
  {
   "cell_type": "code",
   "execution_count": 105,
   "metadata": {},
   "outputs": [
    {
     "data": {
      "text/plain": [
       "182248"
      ]
     },
     "execution_count": 105,
     "metadata": {},
     "output_type": "execute_result"
    }
   ],
   "source": [
    "#number of unique first names\n",
    "fastrak_accounts['FIRST_NAME'].nunique()"
   ]
  },
  {
   "cell_type": "code",
   "execution_count": 106,
   "metadata": {},
   "outputs": [
    {
     "data": {
      "text/plain": [
       "330248"
      ]
     },
     "execution_count": 106,
     "metadata": {},
     "output_type": "execute_result"
    }
   ],
   "source": [
    "#number of unique last names\n",
    "fastrak_accounts['LAST_NAME'].nunique()"
   ]
  },
  {
   "cell_type": "code",
   "execution_count": 107,
   "metadata": {},
   "outputs": [
    {
     "data": {
      "text/plain": [
       "1635307"
      ]
     },
     "execution_count": 107,
     "metadata": {},
     "output_type": "execute_result"
    }
   ],
   "source": [
    "#number of unique first-last name combo's\n",
    "(fastrak_accounts['FIRST_NAME'].map(str) + fastrak_accounts['LAST_NAME']).nunique()"
   ]
  },
  {
   "cell_type": "code",
   "execution_count": 109,
   "metadata": {},
   "outputs": [
    {
     "data": {
      "text/plain": [
       "505699"
      ]
     },
     "execution_count": 109,
     "metadata": {},
     "output_type": "execute_result"
    }
   ],
   "source": [
    "# num unique accounts minus num unique first/last name combos\n",
    "fastrak_accounts.shape[0] - (fastrak_accounts['FIRST_NAME'].map(str) + fastrak_accounts['LAST_NAME']).nunique()\n"
   ]
  },
  {
   "cell_type": "code",
   "execution_count": 118,
   "metadata": {
    "collapsed": true
   },
   "outputs": [],
   "source": [
    "#concat first and last name\n",
    "fastrak_accounts[\"FIRST_LAST\"] = fastrak_accounts[['FIRST_NAME', 'LAST_NAME']].apply(lambda x: '_'.join(x), axis=1)"
   ]
  },
  {
   "cell_type": "code",
   "execution_count": 119,
   "metadata": {},
   "outputs": [
    {
     "name": "stdout",
     "output_type": "stream",
     "text": [
      "(723632, 11)\n"
     ]
    },
    {
     "data": {
      "text/html": [
       "<div>\n",
       "<style scoped>\n",
       "    .dataframe tbody tr th:only-of-type {\n",
       "        vertical-align: middle;\n",
       "    }\n",
       "\n",
       "    .dataframe tbody tr th {\n",
       "        vertical-align: top;\n",
       "    }\n",
       "\n",
       "    .dataframe thead th {\n",
       "        text-align: right;\n",
       "    }\n",
       "</style>\n",
       "<table border=\"1\" class=\"dataframe\">\n",
       "  <thead>\n",
       "    <tr style=\"text-align: right;\">\n",
       "      <th></th>\n",
       "      <th>Account</th>\n",
       "      <th>Account_Type</th>\n",
       "      <th>Account_Status</th>\n",
       "      <th>Account_Opening_Data</th>\n",
       "      <th>City</th>\n",
       "      <th>STATE</th>\n",
       "      <th>Device</th>\n",
       "      <th>Device Status</th>\n",
       "      <th>FIRST_NAME</th>\n",
       "      <th>LAST_NAME</th>\n",
       "      <th>FIRST_LAST</th>\n",
       "    </tr>\n",
       "  </thead>\n",
       "  <tbody>\n",
       "    <tr>\n",
       "      <th>2719163</th>\n",
       "      <td>154468525</td>\n",
       "      <td>Private</td>\n",
       "      <td>Active</td>\n",
       "      <td>23-AUG-16</td>\n",
       "      <td>San Francisco</td>\n",
       "      <td>CA</td>\n",
       "      <td>1468110777</td>\n",
       "      <td>Active</td>\n",
       "      <td>000737810dcbb4180694433a7f49d4d4ee120730c8f556...</td>\n",
       "      <td>e44b24ce28fe70a4e3036c7ed2c5201a9639ae3dea4bab...</td>\n",
       "      <td>000737810dcbb4180694433a7f49d4d4ee120730c8f556...</td>\n",
       "    </tr>\n",
       "    <tr>\n",
       "      <th>1222981</th>\n",
       "      <td>115208580</td>\n",
       "      <td>Private</td>\n",
       "      <td>Closed</td>\n",
       "      <td>29-FEB-12</td>\n",
       "      <td>Richmond</td>\n",
       "      <td>CA</td>\n",
       "      <td>1451990234</td>\n",
       "      <td>Lost</td>\n",
       "      <td>000737810dcbb4180694433a7f49d4d4ee120730c8f556...</td>\n",
       "      <td>e44b24ce28fe70a4e3036c7ed2c5201a9639ae3dea4bab...</td>\n",
       "      <td>000737810dcbb4180694433a7f49d4d4ee120730c8f556...</td>\n",
       "    </tr>\n",
       "    <tr>\n",
       "      <th>2846217</th>\n",
       "      <td>157201261</td>\n",
       "      <td>Private</td>\n",
       "      <td>Active</td>\n",
       "      <td>26-JAN-17</td>\n",
       "      <td>Hayward</td>\n",
       "      <td>CA</td>\n",
       "      <td>1472010446</td>\n",
       "      <td>Active</td>\n",
       "      <td>000a0812f235d3ed6ad90976b4bff69e7a1c62e8decdac...</td>\n",
       "      <td>efa037bdff4adcde1eefdecf574728f7e2798e24ddfd8c...</td>\n",
       "      <td>000a0812f235d3ed6ad90976b4bff69e7a1c62e8decdac...</td>\n",
       "    </tr>\n",
       "    <tr>\n",
       "      <th>2818343</th>\n",
       "      <td>156665765</td>\n",
       "      <td>Private</td>\n",
       "      <td>Rvkf</td>\n",
       "      <td>23-DEC-16</td>\n",
       "      <td>Hayward</td>\n",
       "      <td>CA</td>\n",
       "      <td>1468840128</td>\n",
       "      <td>Revoked</td>\n",
       "      <td>000a0812f235d3ed6ad90976b4bff69e7a1c62e8decdac...</td>\n",
       "      <td>efa037bdff4adcde1eefdecf574728f7e2798e24ddfd8c...</td>\n",
       "      <td>000a0812f235d3ed6ad90976b4bff69e7a1c62e8decdac...</td>\n",
       "    </tr>\n",
       "    <tr>\n",
       "      <th>2824622</th>\n",
       "      <td>156788244</td>\n",
       "      <td>Private</td>\n",
       "      <td>Active</td>\n",
       "      <td>29-DEC-16</td>\n",
       "      <td>Lafayette</td>\n",
       "      <td>CA</td>\n",
       "      <td>1472020671</td>\n",
       "      <td>Active</td>\n",
       "      <td>0010c05b1de3149acc37244d67794c3d086155469d66b5...</td>\n",
       "      <td>0f31affe3b00617e02744406a4195d2023a6256615cc7b...</td>\n",
       "      <td>0010c05b1de3149acc37244d67794c3d086155469d66b5...</td>\n",
       "    </tr>\n",
       "    <tr>\n",
       "      <th>1188176</th>\n",
       "      <td>114665989</td>\n",
       "      <td>Private</td>\n",
       "      <td>Closed</td>\n",
       "      <td>10-OCT-11</td>\n",
       "      <td>San Francisco</td>\n",
       "      <td>CA</td>\n",
       "      <td>1451650585</td>\n",
       "      <td>Lost</td>\n",
       "      <td>0010c05b1de3149acc37244d67794c3d086155469d66b5...</td>\n",
       "      <td>0f31affe3b00617e02744406a4195d2023a6256615cc7b...</td>\n",
       "      <td>0010c05b1de3149acc37244d67794c3d086155469d66b5...</td>\n",
       "    </tr>\n",
       "  </tbody>\n",
       "</table>\n",
       "</div>"
      ],
      "text/plain": [
       "           Account Account_Type Account_Status Account_Opening_Data  \\\n",
       "2719163  154468525      Private         Active            23-AUG-16   \n",
       "1222981  115208580      Private         Closed            29-FEB-12   \n",
       "2846217  157201261      Private         Active            26-JAN-17   \n",
       "2818343  156665765      Private           Rvkf            23-DEC-16   \n",
       "2824622  156788244      Private         Active            29-DEC-16   \n",
       "1188176  114665989      Private         Closed            10-OCT-11   \n",
       "\n",
       "                  City STATE      Device Device Status  \\\n",
       "2719163  San Francisco    CA  1468110777        Active   \n",
       "1222981       Richmond    CA  1451990234          Lost   \n",
       "2846217        Hayward    CA  1472010446        Active   \n",
       "2818343        Hayward    CA  1468840128       Revoked   \n",
       "2824622      Lafayette    CA  1472020671        Active   \n",
       "1188176  San Francisco    CA  1451650585          Lost   \n",
       "\n",
       "                                                FIRST_NAME  \\\n",
       "2719163  000737810dcbb4180694433a7f49d4d4ee120730c8f556...   \n",
       "1222981  000737810dcbb4180694433a7f49d4d4ee120730c8f556...   \n",
       "2846217  000a0812f235d3ed6ad90976b4bff69e7a1c62e8decdac...   \n",
       "2818343  000a0812f235d3ed6ad90976b4bff69e7a1c62e8decdac...   \n",
       "2824622  0010c05b1de3149acc37244d67794c3d086155469d66b5...   \n",
       "1188176  0010c05b1de3149acc37244d67794c3d086155469d66b5...   \n",
       "\n",
       "                                                 LAST_NAME  \\\n",
       "2719163  e44b24ce28fe70a4e3036c7ed2c5201a9639ae3dea4bab...   \n",
       "1222981  e44b24ce28fe70a4e3036c7ed2c5201a9639ae3dea4bab...   \n",
       "2846217  efa037bdff4adcde1eefdecf574728f7e2798e24ddfd8c...   \n",
       "2818343  efa037bdff4adcde1eefdecf574728f7e2798e24ddfd8c...   \n",
       "2824622  0f31affe3b00617e02744406a4195d2023a6256615cc7b...   \n",
       "1188176  0f31affe3b00617e02744406a4195d2023a6256615cc7b...   \n",
       "\n",
       "                                                FIRST_LAST  \n",
       "2719163  000737810dcbb4180694433a7f49d4d4ee120730c8f556...  \n",
       "1222981  000737810dcbb4180694433a7f49d4d4ee120730c8f556...  \n",
       "2846217  000a0812f235d3ed6ad90976b4bff69e7a1c62e8decdac...  \n",
       "2818343  000a0812f235d3ed6ad90976b4bff69e7a1c62e8decdac...  \n",
       "2824622  0010c05b1de3149acc37244d67794c3d086155469d66b5...  \n",
       "1188176  0010c05b1de3149acc37244d67794c3d086155469d66b5...  "
      ]
     },
     "execution_count": 119,
     "metadata": {},
     "output_type": "execute_result"
    }
   ],
   "source": [
    "#look at rows with duplicated FIRST_LAST (after duplicated account removed)\n",
    "fastrak1 = fastrak_accounts[fastrak_accounts.FIRST_LAST.duplicated(keep=False)].sort_values('FIRST_LAST')\n",
    "print fastrak1.shape\n",
    "fastrak1.head(6)"
   ]
  },
  {
   "cell_type": "markdown",
   "metadata": {},
   "source": [
    "Will need to look at if some of these with same first and last name but diff account numbers are actually same person"
   ]
  },
  {
   "cell_type": "code",
   "execution_count": null,
   "metadata": {
    "collapsed": true
   },
   "outputs": [],
   "source": []
  }
 ],
 "metadata": {
  "kernelspec": {
   "display_name": "Python 2",
   "language": "python",
   "name": "python2"
  },
  "language_info": {
   "codemirror_mode": {
    "name": "ipython",
    "version": 2
   },
   "file_extension": ".py",
   "mimetype": "text/x-python",
   "name": "python",
   "nbconvert_exporter": "python",
   "pygments_lexer": "ipython2",
   "version": "2.7.13"
  }
 },
 "nbformat": 4,
 "nbformat_minor": 2
}
