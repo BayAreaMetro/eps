{
 "cells": [
  {
   "cell_type": "markdown",
   "metadata": {},
   "source": [
    "## Anonymizing FasTrak Account Data"
   ]
  },
  {
   "cell_type": "markdown",
   "metadata": {},
   "source": [
    "In this process of anonymizing the Fastrak account data, we are going to use the [Faker](https://github.com/joke2k/faker) python package. "
   ]
  },
  {
   "cell_type": "code",
   "execution_count": 1,
   "metadata": {},
   "outputs": [
    {
     "ename": "ImportError",
     "evalue": "No module named recordlinkage",
     "output_type": "error",
     "traceback": [
      "\u001b[0;31m---------------------------------------------------------------------------\u001b[0m",
      "\u001b[0;31mImportError\u001b[0m                               Traceback (most recent call last)",
      "\u001b[0;32m<ipython-input-1-eec45340f449>\u001b[0m in \u001b[0;36m<module>\u001b[0;34m()\u001b[0m\n\u001b[0;32m----> 1\u001b[0;31m \u001b[0;32mimport\u001b[0m \u001b[0mrecordlinkage\u001b[0m\u001b[0;34m\u001b[0m\u001b[0m\n\u001b[0m\u001b[1;32m      2\u001b[0m \u001b[0;32mimport\u001b[0m \u001b[0mpandas\u001b[0m \u001b[0;32mas\u001b[0m \u001b[0mpd\u001b[0m\u001b[0;34m\u001b[0m\u001b[0m\n\u001b[1;32m      3\u001b[0m \u001b[0;32mimport\u001b[0m \u001b[0municodecsv\u001b[0m \u001b[0;32mas\u001b[0m \u001b[0mcsv\u001b[0m\u001b[0;34m\u001b[0m\u001b[0m\n\u001b[1;32m      4\u001b[0m \u001b[0;32mfrom\u001b[0m \u001b[0mfaker\u001b[0m \u001b[0;32mimport\u001b[0m \u001b[0mFactory\u001b[0m\u001b[0;34m\u001b[0m\u001b[0m\n\u001b[1;32m      5\u001b[0m \u001b[0;32mfrom\u001b[0m \u001b[0mfaker\u001b[0m \u001b[0;32mimport\u001b[0m \u001b[0mFaker\u001b[0m\u001b[0;34m\u001b[0m\u001b[0m\n",
      "\u001b[0;31mImportError\u001b[0m: No module named recordlinkage"
     ]
    }
   ],
   "source": [
    "import recordlinkage\n",
    "import pandas as pd\n",
    "import unicodecsv as csv\n",
    "from faker import Factory\n",
    "from faker import Faker\n",
    "from collections import defaultdict\n",
    "import csv \n",
    "import re\n",
    "import fuzzyset"
   ]
  },
  {
   "cell_type": "code",
   "execution_count": 52,
   "metadata": {
    "collapsed": true
   },
   "outputs": [],
   "source": [
    "compare_cl = recordlinkage.Compare()"
   ]
  },
  {
   "cell_type": "code",
   "execution_count": 2,
   "metadata": {
    "collapsed": true
   },
   "outputs": [],
   "source": [
    "clipper = pd.read_csv(\"~/Box/Data/fake_clipper.csv\", encoding = 'utf-8')\n",
    "fastrak = pd.read_csv(\"~/Box/Data/fake_fastrak.csv\", encoding = 'utf-8')"
   ]
  },
  {
   "cell_type": "code",
   "execution_count": 3,
   "metadata": {},
   "outputs": [
    {
     "data": {
      "text/html": [
       "<div>\n",
       "<style scoped>\n",
       "    .dataframe tbody tr th:only-of-type {\n",
       "        vertical-align: middle;\n",
       "    }\n",
       "\n",
       "    .dataframe tbody tr th {\n",
       "        vertical-align: top;\n",
       "    }\n",
       "\n",
       "    .dataframe thead th {\n",
       "        text-align: right;\n",
       "    }\n",
       "</style>\n",
       "<table border=\"1\" class=\"dataframe\">\n",
       "  <thead>\n",
       "    <tr style=\"text-align: right;\">\n",
       "      <th></th>\n",
       "      <th>tracking</th>\n",
       "      <th>fname</th>\n",
       "      <th>lname</th>\n",
       "      <th>fastrak_id</th>\n",
       "      <th>phone</th>\n",
       "      <th>address1</th>\n",
       "      <th>address2</th>\n",
       "      <th>city</th>\n",
       "      <th>state</th>\n",
       "    </tr>\n",
       "  </thead>\n",
       "  <tbody>\n",
       "    <tr>\n",
       "      <th>0</th>\n",
       "      <td>Beyonce Knowles</td>\n",
       "      <td>Beyonce</td>\n",
       "      <td>Knowles</td>\n",
       "      <td>fj28hf83</td>\n",
       "      <td>2024678907</td>\n",
       "      <td>101 Howard St</td>\n",
       "      <td>NaN</td>\n",
       "      <td>San Francisco</td>\n",
       "      <td>California</td>\n",
       "    </tr>\n",
       "    <tr>\n",
       "      <th>1</th>\n",
       "      <td>Kanye W</td>\n",
       "      <td>Kanye</td>\n",
       "      <td>W</td>\n",
       "      <td>ofjh983whf983</td>\n",
       "      <td>413-764-9463</td>\n",
       "      <td>55 Polk St</td>\n",
       "      <td>#22</td>\n",
       "      <td>NaN</td>\n",
       "      <td>California</td>\n",
       "    </tr>\n",
       "    <tr>\n",
       "      <th>2</th>\n",
       "      <td>Bill Joel</td>\n",
       "      <td>Bill</td>\n",
       "      <td>Joel</td>\n",
       "      <td>fo28h3d8w3</td>\n",
       "      <td>7034779079</td>\n",
       "      <td>493 Haight St</td>\n",
       "      <td>APT 493</td>\n",
       "      <td>San Francisco</td>\n",
       "      <td>California</td>\n",
       "    </tr>\n",
       "    <tr>\n",
       "      <th>3</th>\n",
       "      <td>Abigail Cash</td>\n",
       "      <td>Abigail</td>\n",
       "      <td>Cash</td>\n",
       "      <td>dhowijed093</td>\n",
       "      <td>7034779022</td>\n",
       "      <td>1390 Market</td>\n",
       "      <td>NaN</td>\n",
       "      <td>San Francisco</td>\n",
       "      <td>California</td>\n",
       "    </tr>\n",
       "    <tr>\n",
       "      <th>4</th>\n",
       "      <td>Abigail Jones</td>\n",
       "      <td>Abigail</td>\n",
       "      <td>Jones</td>\n",
       "      <td>lojsdfo45</td>\n",
       "      <td>918-264-1412</td>\n",
       "      <td>3051 San Bruno Av</td>\n",
       "      <td>NaN</td>\n",
       "      <td>SF</td>\n",
       "      <td>California</td>\n",
       "    </tr>\n",
       "    <tr>\n",
       "      <th>5</th>\n",
       "      <td>Chicago West</td>\n",
       "      <td>Chicago</td>\n",
       "      <td>West</td>\n",
       "      <td>ofjh983whf983</td>\n",
       "      <td>413-764-9463</td>\n",
       "      <td>56 Polk St</td>\n",
       "      <td>#23</td>\n",
       "      <td>San Francisco</td>\n",
       "      <td>California</td>\n",
       "    </tr>\n",
       "  </tbody>\n",
       "</table>\n",
       "</div>"
      ],
      "text/plain": [
       "          tracking    fname    lname     fastrak_id         phone  \\\n",
       "0  Beyonce Knowles  Beyonce  Knowles       fj28hf83    2024678907   \n",
       "1          Kanye W    Kanye        W  ofjh983whf983  413-764-9463   \n",
       "2        Bill Joel     Bill     Joel     fo28h3d8w3    7034779079   \n",
       "3     Abigail Cash  Abigail     Cash    dhowijed093    7034779022   \n",
       "4    Abigail Jones  Abigail    Jones      lojsdfo45  918-264-1412   \n",
       "5     Chicago West  Chicago     West  ofjh983whf983  413-764-9463   \n",
       "\n",
       "            address1 address2           city       state  \n",
       "0      101 Howard St      NaN  San Francisco  California  \n",
       "1         55 Polk St      #22            NaN  California  \n",
       "2      493 Haight St  APT 493  San Francisco  California  \n",
       "3        1390 Market      NaN  San Francisco  California  \n",
       "4  3051 San Bruno Av      NaN             SF  California  \n",
       "5         56 Polk St      #23  San Francisco  California  "
      ]
     },
     "execution_count": 3,
     "metadata": {},
     "output_type": "execute_result"
    }
   ],
   "source": [
    "fastrak"
   ]
  },
  {
   "cell_type": "code",
   "execution_count": 5,
   "metadata": {
    "collapsed": true
   },
   "outputs": [],
   "source": [
    "#fastrak= fastrak.dropna(subset=['address2', 'city'], how='all')\n",
    "\n",
    "#fastrak"
   ]
  },
  {
   "cell_type": "code",
   "execution_count": 6,
   "metadata": {
    "collapsed": true,
    "scrolled": false
   },
   "outputs": [],
   "source": [
    "#fastrak = fastrak[~(fastrak.fastrak_id.str.len() > 10)]\n",
    "#fastrak"
   ]
  },
  {
   "cell_type": "markdown",
   "metadata": {},
   "source": [
    "The code bellow, uses some very helpful functions found in a blog post named [A Practical Guide to Anonymizing Datasets with Python & Faker](http://blog.districtdatalabs.com/a-practical-guide-to-anonymizing-datasets-with-python-faker)"
   ]
  },
  {
   "cell_type": "code",
   "execution_count": 7,
   "metadata": {
    "collapsed": true
   },
   "outputs": [],
   "source": [
    "# Load the faker and its providers\n",
    "fake  = Factory.create()\n",
    "    \n",
    "# Create empty dictionaries\n",
    "fnamesdict  = defaultdict(fake.first_name)\n",
    "lnamesdict  = defaultdict(fake.last_name)\n",
    "phonedict  = defaultdict(fake.phone_number)\n",
    "addressdict  = defaultdict(fake.address)\n",
    "\n",
    "def anonymize_rows(rows):\n",
    "    \"\"\"\n",
    "    Rows is an iterable of dictionaries that contain name and\n",
    "    email fields that need to be anonymized.\n",
    "    \"\"\"\n",
    "\n",
    "    # Iterate over the rows and yield anonymized rows.\n",
    "    for row in rows:\n",
    "        # Replace the name and email fields with faked fields.\n",
    "        row['fname']  = fnamesdict[row['fname']]\n",
    "        row['lname']  = lnamesdict[row['lname']]\n",
    "        row['phone']  = phonedict[row['phone']]\n",
    "        row['address1']  = addressdict[row['address1']]\n",
    "\n",
    "        # Yield the row back to the caller\n",
    "        yield row\n",
    "\n",
    "\n",
    "def anonymize(source, target):\n",
    "    \"\"\"\n",
    "    The source argument is a path to a CSV file containing data to anonymize,\n",
    "    while target is a path to write the anonymized CSV data to.\n",
    "    \"\"\"\n",
    "    \n",
    "    with open(source, 'rU') as f:\n",
    "        with open(target, 'w') as o:\n",
    "            # Use the DictReader to easily extract fields\n",
    "            reader = csv.DictReader(f)\n",
    "            writer = csv.DictWriter(o, reader.fieldnames)\n",
    "            # Read and anonymize data, writing to target file.\n",
    "            for row in anonymize_rows(reader):\n",
    "                writer.writerow(row)"
   ]
  },
  {
   "cell_type": "code",
   "execution_count": 8,
   "metadata": {
    "collapsed": true
   },
   "outputs": [],
   "source": [
    "def anonymize2(source, target):\n",
    "    \"\"\"\n",
    "    The source argument is a path to a CSV file containing data to anonymize,\n",
    "    while target is a path to write the anonymized CSV data to.\n",
    "    \"\"\"\n",
    "    reader = source.to_dict('records')\n",
    "    for row in anonymize_rows(reader):\n",
    "        print row\n",
    "        print \"/n\""
   ]
  },
  {
   "cell_type": "code",
   "execution_count": 10,
   "metadata": {
    "collapsed": true
   },
   "outputs": [],
   "source": [
    "ftdict = fastrak.to_dict('records')"
   ]
  },
  {
   "cell_type": "code",
   "execution_count": null,
   "metadata": {
    "collapsed": true
   },
   "outputs": [],
   "source": [
    "pd.DataFrame(ftdict.items())"
   ]
  },
  {
   "cell_type": "code",
   "execution_count": 11,
   "metadata": {
    "scrolled": true
   },
   "outputs": [
    {
     "data": {
      "text/plain": [
       "[{u'address1': u'101 Howard St',\n",
       "  u'address2': nan,\n",
       "  u'city': nan,\n",
       "  u'fastrak_id': u'fj28hf83',\n",
       "  u'fname': u'Beyonce',\n",
       "  u'lname': u'Knowles',\n",
       "  u'phone': u'2024678907',\n",
       "  u'state': u'California',\n",
       "  u'tracking': u'Beyonce Knowles'},\n",
       " {u'address1': u'55 Polk St',\n",
       "  u'address2': u'#22',\n",
       "  u'city': nan,\n",
       "  u'fastrak_id': u'ofjh983whf983',\n",
       "  u'fname': u'Kanye',\n",
       "  u'lname': u'W',\n",
       "  u'phone': u'413-764-9463',\n",
       "  u'state': u'California',\n",
       "  u'tracking': u'Kanye W'},\n",
       " {u'address1': u'493 Haight St',\n",
       "  u'address2': u'APT 493',\n",
       "  u'city': u'San Francisco',\n",
       "  u'fastrak_id': u'fo28h3d8w3',\n",
       "  u'fname': u'Bill',\n",
       "  u'lname': u'Joel',\n",
       "  u'phone': u'7034779079',\n",
       "  u'state': u'California',\n",
       "  u'tracking': u'Bill Joel'},\n",
       " {u'address1': u'1390 Market',\n",
       "  u'address2': nan,\n",
       "  u'city': u'San Francisco',\n",
       "  u'fastrak_id': u'dhowijed093',\n",
       "  u'fname': u'Abigail',\n",
       "  u'lname': u'Cash',\n",
       "  u'phone': u'7034779022',\n",
       "  u'state': u'California',\n",
       "  u'tracking': u'Abigail Cash'},\n",
       " {u'address1': u'3051 San Bruno Av',\n",
       "  u'address2': nan,\n",
       "  u'city': u'SF',\n",
       "  u'fastrak_id': u'lojsdfo45',\n",
       "  u'fname': u'Abigail',\n",
       "  u'lname': u'Jones',\n",
       "  u'phone': u'918-264-1412',\n",
       "  u'state': u'California',\n",
       "  u'tracking': u'Abigail Jones'},\n",
       " {u'address1': u'56 Polk St',\n",
       "  u'address2': u'#23',\n",
       "  u'city': u'San Francisco',\n",
       "  u'fastrak_id': u'ofjh983whf983',\n",
       "  u'fname': u'Chicago',\n",
       "  u'lname': u'West',\n",
       "  u'phone': u'413-764-9463',\n",
       "  u'state': u'California',\n",
       "  u'tracking': u'Chicago West'}]"
      ]
     },
     "execution_count": 11,
     "metadata": {},
     "output_type": "execute_result"
    }
   ],
   "source": [
    "ftdict"
   ]
  },
  {
   "cell_type": "code",
   "execution_count": 12,
   "metadata": {
    "scrolled": true
   },
   "outputs": [
    {
     "name": "stdout",
     "output_type": "stream",
     "text": [
      "{u'city': nan, u'tracking': u'Beyonce Knowles', u'address1': u'8891 Henry Garden\\nJacobsport, FM 58829', u'address2': nan, u'lname': u'West', u'phone': u'02653546417', u'state': u'California', u'fname': u'David', u'fastrak_id': u'fj28hf83'}\n",
      "/n\n",
      "{u'city': nan, u'tracking': u'Kanye W', u'address1': u'65046 Clayton Freeway\\nLake Dianaville, MA 77832', u'address2': u'#22', u'lname': u'Mason', u'phone': u'01487224138', u'state': u'California', u'fname': u'James', u'fastrak_id': u'ofjh983whf983'}\n",
      "/n\n",
      "{u'city': u'San Francisco', u'tracking': u'Bill Joel', u'address1': u'7049 Rice Locks Apt. 838\\nDebraberg, CT 40557-6292', u'address2': u'APT 493', u'lname': u'Weaver', u'phone': u'227-565-8956x81715', u'state': u'California', u'fname': u'Bethany', u'fastrak_id': u'fo28h3d8w3'}\n",
      "/n\n",
      "{u'city': u'San Francisco', u'tracking': u'Abigail Cash', u'address1': u'60260 Chad Viaduct\\nAllisonfort, LA 97526-8893', u'address2': nan, u'lname': u'Garcia', u'phone': u'(602)504-7519x806', u'state': u'California', u'fname': u'Cynthia', u'fastrak_id': u'dhowijed093'}\n",
      "/n\n",
      "{u'city': u'SF', u'tracking': u'Abigail Jones', u'address1': u'Unit 7141 Box 6145\\nDPO AA 10350-7356', u'address2': nan, u'lname': u'Taylor', u'phone': u'(231)608-9974x2856', u'state': u'California', u'fname': u'Cynthia', u'fastrak_id': u'lojsdfo45'}\n",
      "/n\n",
      "{u'city': u'San Francisco', u'tracking': u'Chicago West', u'address1': u'9018 Hanson Estate Apt. 328\\nWest Douglas, DE 40063-7984', u'address2': u'#23', u'lname': u'Woodard', u'phone': u'01487224138', u'state': u'California', u'fname': u'Deborah', u'fastrak_id': u'ofjh983whf983'}\n",
      "/n\n"
     ]
    }
   ],
   "source": [
    "#anonymize(\"/Users/smcnish/Box/Data/fake_fastrak.csv\", \"/Users/smcnish/Box/Data/very_fake.csv\")\n",
    "\n",
    "anonymize2(fastrak, \"/Users/smcnish/Box/Data/very_fake_ft.csv\")"
   ]
  },
  {
   "cell_type": "code",
   "execution_count": 13,
   "metadata": {
    "collapsed": true,
    "scrolled": true
   },
   "outputs": [],
   "source": [
    "#anonymize(\"/Users/smcnish/Box/Data/fake_clipper.csv\", \"/Users/smcnish/Box/Data/clipper_very_fake.csv\")"
   ]
  },
  {
   "cell_type": "code",
   "execution_count": null,
   "metadata": {
    "collapsed": true
   },
   "outputs": [],
   "source": []
  },
  {
   "cell_type": "code",
   "execution_count": 14,
   "metadata": {
    "collapsed": true
   },
   "outputs": [],
   "source": [
    "clipperfake = pd.read_csv(\"~/Box/Data/clipper_very_fake.csv\", encoding = 'utf-8')\n",
    "fastrakfake = pd.read_csv(\"~/Box/Data/very_fake.csv\", encoding = 'utf-8')"
   ]
  },
  {
   "cell_type": "code",
   "execution_count": 15,
   "metadata": {},
   "outputs": [
    {
     "data": {
      "text/html": [
       "<div>\n",
       "<style>\n",
       "    .dataframe thead tr:only-child th {\n",
       "        text-align: right;\n",
       "    }\n",
       "\n",
       "    .dataframe thead th {\n",
       "        text-align: left;\n",
       "    }\n",
       "\n",
       "    .dataframe tbody tr th {\n",
       "        vertical-align: top;\n",
       "    }\n",
       "</style>\n",
       "<table border=\"1\" class=\"dataframe\">\n",
       "  <thead>\n",
       "    <tr style=\"text-align: right;\">\n",
       "      <th></th>\n",
       "      <th>Beyonce Knowles</th>\n",
       "      <th>Emily</th>\n",
       "      <th>Green</th>\n",
       "      <th>fj28hf83</th>\n",
       "      <th>02041897075</th>\n",
       "      <th>63953 John Island Suite 788\n",
       "West Timothy, VI 09411</th>\n",
       "      <th>Unnamed: 6</th>\n",
       "      <th>Unnamed: 7</th>\n",
       "      <th>California</th>\n",
       "    </tr>\n",
       "  </thead>\n",
       "  <tbody>\n",
       "    <tr>\n",
       "      <th>0</th>\n",
       "      <td>Kanye W</td>\n",
       "      <td>Michael</td>\n",
       "      <td>Jacobs</td>\n",
       "      <td>ofjh983whf983</td>\n",
       "      <td>1-208-012-0723x693</td>\n",
       "      <td>1032 Butler Lake\\nNew Katherine, WI 41944</td>\n",
       "      <td>#22</td>\n",
       "      <td>NaN</td>\n",
       "      <td>California</td>\n",
       "    </tr>\n",
       "    <tr>\n",
       "      <th>1</th>\n",
       "      <td>Bill Joel</td>\n",
       "      <td>Stuart</td>\n",
       "      <td>Williams</td>\n",
       "      <td>fo28h3d8w3</td>\n",
       "      <td>846.850.5296x00098</td>\n",
       "      <td>017 Monroe Port Apt. 840\\nEast Christopher, MO...</td>\n",
       "      <td>APT 493</td>\n",
       "      <td>San Francisco</td>\n",
       "      <td>California</td>\n",
       "    </tr>\n",
       "    <tr>\n",
       "      <th>2</th>\n",
       "      <td>Abigail Cash</td>\n",
       "      <td>Lisa</td>\n",
       "      <td>Atkins</td>\n",
       "      <td>dhowijed093</td>\n",
       "      <td>1-319-296-6112</td>\n",
       "      <td>56406 Kim Viaduct\\nEast Amyhaven, WA 20577-9513</td>\n",
       "      <td>NaN</td>\n",
       "      <td>San Francisco</td>\n",
       "      <td>California</td>\n",
       "    </tr>\n",
       "    <tr>\n",
       "      <th>3</th>\n",
       "      <td>Abigail Jones</td>\n",
       "      <td>Lisa</td>\n",
       "      <td>Ryan</td>\n",
       "      <td>lojsdfo45</td>\n",
       "      <td>(437)022-4410x10229</td>\n",
       "      <td>19553 Schmidt Motorway\\nKimberlymouth, MT 6385...</td>\n",
       "      <td>NaN</td>\n",
       "      <td>SF</td>\n",
       "      <td>California</td>\n",
       "    </tr>\n",
       "    <tr>\n",
       "      <th>4</th>\n",
       "      <td>Chicago West</td>\n",
       "      <td>Kelly</td>\n",
       "      <td>Lyons</td>\n",
       "      <td>ofjh983whf983</td>\n",
       "      <td>1-208-012-0723x693</td>\n",
       "      <td>73596 James Well Suite 519\\nScottport, HI 6924...</td>\n",
       "      <td>#23</td>\n",
       "      <td>San Francisco</td>\n",
       "      <td>California</td>\n",
       "    </tr>\n",
       "  </tbody>\n",
       "</table>\n",
       "</div>"
      ],
      "text/plain": [
       "  Beyonce Knowles    Emily     Green       fj28hf83          02041897075  \\\n",
       "0         Kanye W  Michael    Jacobs  ofjh983whf983   1-208-012-0723x693   \n",
       "1       Bill Joel   Stuart  Williams     fo28h3d8w3   846.850.5296x00098   \n",
       "2    Abigail Cash     Lisa    Atkins    dhowijed093       1-319-296-6112   \n",
       "3   Abigail Jones     Lisa      Ryan      lojsdfo45  (437)022-4410x10229   \n",
       "4    Chicago West    Kelly     Lyons  ofjh983whf983   1-208-012-0723x693   \n",
       "\n",
       "  63953 John Island Suite 788\\nWest Timothy, VI 09411 Unnamed: 6  \\\n",
       "0          1032 Butler Lake\\nNew Katherine, WI 41944         #22   \n",
       "1  017 Monroe Port Apt. 840\\nEast Christopher, MO...     APT 493   \n",
       "2    56406 Kim Viaduct\\nEast Amyhaven, WA 20577-9513         NaN   \n",
       "3  19553 Schmidt Motorway\\nKimberlymouth, MT 6385...         NaN   \n",
       "4  73596 James Well Suite 519\\nScottport, HI 6924...         #23   \n",
       "\n",
       "      Unnamed: 7  California  \n",
       "0            NaN  California  \n",
       "1  San Francisco  California  \n",
       "2  San Francisco  California  \n",
       "3             SF  California  \n",
       "4  San Francisco  California  "
      ]
     },
     "execution_count": 15,
     "metadata": {},
     "output_type": "execute_result"
    }
   ],
   "source": [
    "fastrakfake"
   ]
  },
  {
   "cell_type": "code",
   "execution_count": 16,
   "metadata": {},
   "outputs": [
    {
     "data": {
      "text/html": [
       "<div>\n",
       "<style>\n",
       "    .dataframe thead tr:only-child th {\n",
       "        text-align: right;\n",
       "    }\n",
       "\n",
       "    .dataframe thead th {\n",
       "        text-align: left;\n",
       "    }\n",
       "\n",
       "    .dataframe tbody tr th {\n",
       "        vertical-align: top;\n",
       "    }\n",
       "</style>\n",
       "<table border=\"1\" class=\"dataframe\">\n",
       "  <thead>\n",
       "    <tr style=\"text-align: right;\">\n",
       "      <th></th>\n",
       "      <th>Beyonce Knowles</th>\n",
       "      <th>Timothy</th>\n",
       "      <th>Patterson</th>\n",
       "      <th>1928475</th>\n",
       "      <th>224-746-5578</th>\n",
       "      <th>53777 Santiago Ville\n",
       "Williamsmouth, UT 49847-2053</th>\n",
       "      <th>Unnamed: 6</th>\n",
       "      <th>San Francisco</th>\n",
       "      <th>California</th>\n",
       "    </tr>\n",
       "  </thead>\n",
       "  <tbody>\n",
       "    <tr>\n",
       "      <th>0</th>\n",
       "      <td>Billy Joel</td>\n",
       "      <td>Desiree</td>\n",
       "      <td>King</td>\n",
       "      <td>923847</td>\n",
       "      <td>846.698.2778</td>\n",
       "      <td>3083 Gregory Gateway\\nPort Davidstad, VA 11799...</td>\n",
       "      <td>#493</td>\n",
       "      <td>San Francisco</td>\n",
       "      <td>CA</td>\n",
       "    </tr>\n",
       "    <tr>\n",
       "      <th>1</th>\n",
       "      <td>Jon Cash</td>\n",
       "      <td>Brittany</td>\n",
       "      <td>Schultz</td>\n",
       "      <td>812640127</td>\n",
       "      <td>02923774097</td>\n",
       "      <td>0201 Jasmin Skyway\\nSouth Jennifer, WV 24421</td>\n",
       "      <td>NaN</td>\n",
       "      <td>San Francisco</td>\n",
       "      <td>California</td>\n",
       "    </tr>\n",
       "    <tr>\n",
       "      <th>2</th>\n",
       "      <td>Abby Jones</td>\n",
       "      <td>Daniel</td>\n",
       "      <td>Wiley</td>\n",
       "      <td>9274917</td>\n",
       "      <td>217-462-0136x02994</td>\n",
       "      <td>783 Navarro Gardens Apt. 243\\nPort Thomasside,...</td>\n",
       "      <td>NaN</td>\n",
       "      <td>San Francisco</td>\n",
       "      <td>NaN</td>\n",
       "    </tr>\n",
       "    <tr>\n",
       "      <th>3</th>\n",
       "      <td>Kanye West</td>\n",
       "      <td>Tanya</td>\n",
       "      <td>James</td>\n",
       "      <td>45626774</td>\n",
       "      <td>140.385.8238x188</td>\n",
       "      <td>551 Bond Garden\\nNorth Denise, NH 12222-0665</td>\n",
       "      <td>NaN</td>\n",
       "      <td>San Francisco</td>\n",
       "      <td>California</td>\n",
       "    </tr>\n",
       "  </tbody>\n",
       "</table>\n",
       "</div>"
      ],
      "text/plain": [
       "  Beyonce Knowles   Timothy Patterson    1928475        224-746-5578  \\\n",
       "0      Billy Joel   Desiree      King     923847        846.698.2778   \n",
       "1        Jon Cash  Brittany   Schultz  812640127         02923774097   \n",
       "2      Abby Jones    Daniel     Wiley    9274917  217-462-0136x02994   \n",
       "3      Kanye West     Tanya     James   45626774    140.385.8238x188   \n",
       "\n",
       "  53777 Santiago Ville\\nWilliamsmouth, UT 49847-2053 Unnamed: 6  \\\n",
       "0  3083 Gregory Gateway\\nPort Davidstad, VA 11799...       #493   \n",
       "1       0201 Jasmin Skyway\\nSouth Jennifer, WV 24421        NaN   \n",
       "2  783 Navarro Gardens Apt. 243\\nPort Thomasside,...        NaN   \n",
       "3       551 Bond Garden\\nNorth Denise, NH 12222-0665        NaN   \n",
       "\n",
       "   San Francisco  California  \n",
       "0  San Francisco          CA  \n",
       "1  San Francisco  California  \n",
       "2  San Francisco         NaN  \n",
       "3  San Francisco  California  "
      ]
     },
     "execution_count": 16,
     "metadata": {},
     "output_type": "execute_result"
    }
   ],
   "source": [
    "clipperfake"
   ]
  },
  {
   "cell_type": "code",
   "execution_count": 17,
   "metadata": {
    "scrolled": false
   },
   "outputs": [
    {
     "name": "stdout",
     "output_type": "stream",
     "text": [
      "David\n"
     ]
    }
   ],
   "source": [
    "print fnamesdict['Beyonce']"
   ]
  },
  {
   "cell_type": "code",
   "execution_count": null,
   "metadata": {
    "collapsed": true
   },
   "outputs": [],
   "source": [
    "from faker import Faker\n",
    "fake = Faker()\n",
    "print(\"\".join(fake.name().split(\" \")))"
   ]
  }
 ],
 "metadata": {
  "kernelspec": {
   "display_name": "Python 2",
   "language": "python",
   "name": "python2"
  },
  "language_info": {
   "codemirror_mode": {
    "name": "ipython",
    "version": 2
   },
   "file_extension": ".py",
   "mimetype": "text/x-python",
   "name": "python",
   "nbconvert_exporter": "python",
   "pygments_lexer": "ipython2",
   "version": "2.7.13"
  }
 },
 "nbformat": 4,
 "nbformat_minor": 2
}
