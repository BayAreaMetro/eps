{
 "cells": [
  {
   "cell_type": "code",
   "execution_count": 240,
   "metadata": {
    "collapsed": true
   },
   "outputs": [],
   "source": [
    "# loading libraries\n",
    "import psycopg2\n",
    "import pandas as pd\n",
    "import numpy as np\n",
    "import pandas.io.sql as psql"
   ]
  },
  {
   "cell_type": "code",
   "execution_count": 241,
   "metadata": {
    "collapsed": true
   },
   "outputs": [],
   "source": [
    "# connecting to redshift \n",
    "dbname1, host1, port1, user1, password1 = pd.read_csv(\"credentials.csv\")\n",
    "con = psycopg2.connect(dbname= dbname1, host= host1, port= port1, user= user1, password= password1)"
   ]
  },
  {
   "cell_type": "code",
   "execution_count": 242,
   "metadata": {
    "collapsed": true
   },
   "outputs": [],
   "source": [
    "# get a cursor from DB connection\n",
    "cur = con.cursor()"
   ]
  },
  {
   "cell_type": "code",
   "execution_count": 243,
   "metadata": {
    "collapsed": true
   },
   "outputs": [],
   "source": [
    "# execute query and load into pandas df\n",
    "data = psql.read_sql('SELECT * FROM \"clipper\".\"rpt-cashpass3\";', con)"
   ]
  },
  {
   "cell_type": "code",
   "execution_count": 244,
   "metadata": {
    "collapsed": true
   },
   "outputs": [],
   "source": [
    "#data.sort_values(['applicationserialnumber','year', 'month'])"
   ]
  },
  {
   "cell_type": "code",
   "execution_count": 245,
   "metadata": {},
   "outputs": [
    {
     "data": {
      "text/plain": [
       "14854169"
      ]
     },
     "execution_count": 245,
     "metadata": {},
     "output_type": "execute_result"
    }
   ],
   "source": [
    "len(data)"
   ]
  },
  {
   "cell_type": "code",
   "execution_count": 246,
   "metadata": {
    "collapsed": true
   },
   "outputs": [],
   "source": [
    "#drop if no muni use (cash or pass) in the month\n",
    "data.drop(data[(data.countpass == 0) & (data.countcash == 0)].index, inplace=True)"
   ]
  },
  {
   "cell_type": "code",
   "execution_count": 247,
   "metadata": {
    "scrolled": true
   },
   "outputs": [
    {
     "data": {
      "text/plain": [
       "10476386"
      ]
     },
     "execution_count": 247,
     "metadata": {},
     "output_type": "execute_result"
    }
   ],
   "source": [
    "len(data)"
   ]
  },
  {
   "cell_type": "code",
   "execution_count": 248,
   "metadata": {
    "collapsed": true
   },
   "outputs": [],
   "source": [
    "#add total ride column\n",
    "data = data.assign(totrides= data.countpass + data.countcash)"
   ]
  },
  {
   "cell_type": "code",
   "execution_count": 249,
   "metadata": {
    "collapsed": true
   },
   "outputs": [],
   "source": [
    "#add rides percentages\n",
    "data = data.assign(passpercent= data.countpass / data.totrides)\n",
    "data = data.assign(cashpercent= data.countcash / data.totrides)"
   ]
  },
  {
   "cell_type": "code",
   "execution_count": 251,
   "metadata": {
    "collapsed": true,
    "scrolled": true
   },
   "outputs": [],
   "source": [
    "#drop all records for clipper card if took less than 10 rides in a month\n",
    "data2 = data.groupby('applicationserialnumber').filter(lambda x: x['totrides'].min()>10 )\n",
    "data2.reset_index(drop=True, inplace=True) # reset index"
   ]
  },
  {
   "cell_type": "code",
   "execution_count": 253,
   "metadata": {
    "scrolled": true
   },
   "outputs": [
    {
     "data": {
      "text/plain": [
       "1505712"
      ]
     },
     "execution_count": 253,
     "metadata": {},
     "output_type": "execute_result"
    }
   ],
   "source": [
    "len(data2)"
   ]
  },
  {
   "cell_type": "markdown",
   "metadata": {},
   "source": [
    "These histograms look at the average rides per month for Muni users, not controlling for those who have switched between pass and cash. We want to control for just \"switchers\" because there are potentially confounding factors, ie a certain user type tends to use a pass and also tends to take a lot of rides. We want to keep all other factors constant. "
   ]
  },
  {
   "cell_type": "code",
   "execution_count": 254,
   "metadata": {
    "scrolled": true
   },
   "outputs": [
    {
     "data": {
      "text/plain": [
       "<matplotlib.axes._subplots.AxesSubplot at 0x114a32690>"
      ]
     },
     "execution_count": 254,
     "metadata": {},
     "output_type": "execute_result"
    },
    {
     "data": {
      "image/png": "[encoded data removed]",
      "text/plain": [
       "<matplotlib.figure.Figure at 0x1149f4ed0>"
      ]
     },
     "metadata": {},
     "output_type": "display_data"
    }
   ],
   "source": [
    "%matplotlib inline\n",
    "data2.countpass.plot.hist()"
   ]
  },
  {
   "cell_type": "code",
   "execution_count": 255,
   "metadata": {},
   "outputs": [
    {
     "data": {
      "text/plain": [
       "<matplotlib.axes._subplots.AxesSubplot at 0x139c3b510>"
      ]
     },
     "execution_count": 255,
     "metadata": {},
     "output_type": "execute_result"
    },
    {
     "data": {
      "image/png": "[encoded data removed]",
      "text/plain": [
       "<matplotlib.figure.Figure at 0x113d71450>"
      ]
     },
     "metadata": {},
     "output_type": "display_data"
    }
   ],
   "source": [
    "data2.countcash.plot.hist()"
   ]
  },
  {
   "cell_type": "code",
   "execution_count": 271,
   "metadata": {
    "collapsed": true,
    "scrolled": true
   },
   "outputs": [],
   "source": [
    "#find the total rides per user across the data\n",
    "data2 = data2.assign(monthcount= 1) #add comlumn to count number of months \n",
    "data3 = data2.groupby('applicationserialnumber')[[\"countpass\",\"countcash\",\"totrides\",\"monthcount\"]].sum()\n",
    "data3.reset_index(inplace=True) # reset index"
   ]
  },
  {
   "cell_type": "code",
   "execution_count": 278,
   "metadata": {},
   "outputs": [
    {
     "data": {
      "text/html": [
       "<div>\n",
       "<style>\n",
       "    .dataframe thead tr:only-child th {\n",
       "        text-align: right;\n",
       "    }\n",
       "\n",
       "    .dataframe thead th {\n",
       "        text-align: left;\n",
       "    }\n",
       "\n",
       "    .dataframe tbody tr th {\n",
       "        vertical-align: top;\n",
       "    }\n",
       "</style>\n",
       "<table border=\"1\" class=\"dataframe\">\n",
       "  <thead>\n",
       "    <tr style=\"text-align: right;\">\n",
       "      <th></th>\n",
       "      <th>year</th>\n",
       "      <th>month</th>\n",
       "      <th>applicationserialnumber</th>\n",
       "      <th>operatorid</th>\n",
       "      <th>countpass</th>\n",
       "      <th>countcash</th>\n",
       "      <th>totrides</th>\n",
       "      <th>passpercent</th>\n",
       "      <th>cashpercent</th>\n",
       "      <th>monthcount</th>\n",
       "    </tr>\n",
       "  </thead>\n",
       "  <tbody>\n",
       "    <tr>\n",
       "      <th>0</th>\n",
       "      <td>2016</td>\n",
       "      <td>5</td>\n",
       "      <td>1205016485</td>\n",
       "      <td>18</td>\n",
       "      <td>186</td>\n",
       "      <td>0</td>\n",
       "      <td>186</td>\n",
       "      <td>1.0</td>\n",
       "      <td>0.0</td>\n",
       "      <td>1</td>\n",
       "    </tr>\n",
       "    <tr>\n",
       "      <th>1</th>\n",
       "      <td>2016</td>\n",
       "      <td>5</td>\n",
       "      <td>1204011727</td>\n",
       "      <td>18</td>\n",
       "      <td>0</td>\n",
       "      <td>47</td>\n",
       "      <td>47</td>\n",
       "      <td>0.0</td>\n",
       "      <td>1.0</td>\n",
       "      <td>1</td>\n",
       "    </tr>\n",
       "    <tr>\n",
       "      <th>2</th>\n",
       "      <td>2016</td>\n",
       "      <td>5</td>\n",
       "      <td>1201216659</td>\n",
       "      <td>18</td>\n",
       "      <td>0</td>\n",
       "      <td>36</td>\n",
       "      <td>36</td>\n",
       "      <td>0.0</td>\n",
       "      <td>1.0</td>\n",
       "      <td>1</td>\n",
       "    </tr>\n",
       "    <tr>\n",
       "      <th>3</th>\n",
       "      <td>2016</td>\n",
       "      <td>5</td>\n",
       "      <td>1204985962</td>\n",
       "      <td>18</td>\n",
       "      <td>0</td>\n",
       "      <td>21</td>\n",
       "      <td>21</td>\n",
       "      <td>0.0</td>\n",
       "      <td>1.0</td>\n",
       "      <td>1</td>\n",
       "    </tr>\n",
       "    <tr>\n",
       "      <th>4</th>\n",
       "      <td>2016</td>\n",
       "      <td>5</td>\n",
       "      <td>1201049508</td>\n",
       "      <td>18</td>\n",
       "      <td>119</td>\n",
       "      <td>0</td>\n",
       "      <td>119</td>\n",
       "      <td>1.0</td>\n",
       "      <td>0.0</td>\n",
       "      <td>1</td>\n",
       "    </tr>\n",
       "    <tr>\n",
       "      <th>5</th>\n",
       "      <td>2016</td>\n",
       "      <td>5</td>\n",
       "      <td>1205267438</td>\n",
       "      <td>18</td>\n",
       "      <td>74</td>\n",
       "      <td>0</td>\n",
       "      <td>74</td>\n",
       "      <td>1.0</td>\n",
       "      <td>0.0</td>\n",
       "      <td>1</td>\n",
       "    </tr>\n",
       "    <tr>\n",
       "      <th>6</th>\n",
       "      <td>2016</td>\n",
       "      <td>5</td>\n",
       "      <td>1205176203</td>\n",
       "      <td>18</td>\n",
       "      <td>48</td>\n",
       "      <td>0</td>\n",
       "      <td>48</td>\n",
       "      <td>1.0</td>\n",
       "      <td>0.0</td>\n",
       "      <td>1</td>\n",
       "    </tr>\n",
       "    <tr>\n",
       "      <th>7</th>\n",
       "      <td>2016</td>\n",
       "      <td>5</td>\n",
       "      <td>1200019899</td>\n",
       "      <td>18</td>\n",
       "      <td>75</td>\n",
       "      <td>0</td>\n",
       "      <td>75</td>\n",
       "      <td>1.0</td>\n",
       "      <td>0.0</td>\n",
       "      <td>1</td>\n",
       "    </tr>\n",
       "    <tr>\n",
       "      <th>8</th>\n",
       "      <td>2016</td>\n",
       "      <td>5</td>\n",
       "      <td>1201263551</td>\n",
       "      <td>18</td>\n",
       "      <td>38</td>\n",
       "      <td>0</td>\n",
       "      <td>38</td>\n",
       "      <td>1.0</td>\n",
       "      <td>0.0</td>\n",
       "      <td>1</td>\n",
       "    </tr>\n",
       "    <tr>\n",
       "      <th>9</th>\n",
       "      <td>2016</td>\n",
       "      <td>5</td>\n",
       "      <td>1205747666</td>\n",
       "      <td>18</td>\n",
       "      <td>31</td>\n",
       "      <td>0</td>\n",
       "      <td>31</td>\n",
       "      <td>1.0</td>\n",
       "      <td>0.0</td>\n",
       "      <td>1</td>\n",
       "    </tr>\n",
       "  </tbody>\n",
       "</table>\n",
       "</div>"
      ],
      "text/plain": [
       "   year  month  applicationserialnumber  operatorid  countpass  countcash  \\\n",
       "0  2016      5               1205016485          18        186          0   \n",
       "1  2016      5               1204011727          18          0         47   \n",
       "2  2016      5               1201216659          18          0         36   \n",
       "3  2016      5               1204985962          18          0         21   \n",
       "4  2016      5               1201049508          18        119          0   \n",
       "5  2016      5               1205267438          18         74          0   \n",
       "6  2016      5               1205176203          18         48          0   \n",
       "7  2016      5               1200019899          18         75          0   \n",
       "8  2016      5               1201263551          18         38          0   \n",
       "9  2016      5               1205747666          18         31          0   \n",
       "\n",
       "   totrides  passpercent  cashpercent  monthcount  \n",
       "0       186          1.0          0.0           1  \n",
       "1        47          0.0          1.0           1  \n",
       "2        36          0.0          1.0           1  \n",
       "3        21          0.0          1.0           1  \n",
       "4       119          1.0          0.0           1  \n",
       "5        74          1.0          0.0           1  \n",
       "6        48          1.0          0.0           1  \n",
       "7        75          1.0          0.0           1  \n",
       "8        38          1.0          0.0           1  \n",
       "9        31          1.0          0.0           1  "
      ]
     },
     "execution_count": 278,
     "metadata": {},
     "output_type": "execute_result"
    }
   ],
   "source": [
    "data2.head(10)"
   ]
  },
  {
   "cell_type": "code",
   "execution_count": 272,
   "metadata": {
    "collapsed": true
   },
   "outputs": [],
   "source": [
    "#drop people who definitely didnt switch / wouldn't be helpful for this analysis\n",
    "# bc they haven't taken more than 50 rides in either category acorss the two years\n",
    "switchers = data3.drop(data3[(data3.countpass < 50) | (data3.countcash < 50)].index)"
   ]
  },
  {
   "cell_type": "code",
   "execution_count": 273,
   "metadata": {},
   "outputs": [
    {
     "data": {
      "text/plain": [
       "6619"
      ]
     },
     "execution_count": 273,
     "metadata": {},
     "output_type": "execute_result"
    }
   ],
   "source": [
    "len(switchers)"
   ]
  },
  {
   "cell_type": "code",
   "execution_count": 274,
   "metadata": {
    "collapsed": true
   },
   "outputs": [],
   "source": [
    "#drop people who only have cliper card data for less than 12 months\n",
    "switchers2 = switchers.drop(switchers[(switchers.monthcount < 12)].index)"
   ]
  },
  {
   "cell_type": "code",
   "execution_count": 275,
   "metadata": {},
   "outputs": [
    {
     "data": {
      "text/plain": [
       "4967"
      ]
     },
     "execution_count": 275,
     "metadata": {},
     "output_type": "execute_result"
    }
   ],
   "source": [
    "len(switchers2)"
   ]
  },
  {
   "cell_type": "code",
   "execution_count": 276,
   "metadata": {
    "collapsed": true,
    "scrolled": true
   },
   "outputs": [],
   "source": [
    "#filter monthly transaction data for only the identified switchers\n",
    "switchersdata = data2[data2['applicationserialnumber'].isin(list(switchers2.applicationserialnumber))]"
   ]
  },
  {
   "cell_type": "code",
   "execution_count": 288,
   "metadata": {},
   "outputs": [],
   "source": [
    "#replace zero with NaN so the the mean doesn't include those months\n",
    "switchersdata = switchersdata.replace(0, np.NaN)"
   ]
  },
  {
   "cell_type": "code",
   "execution_count": 289,
   "metadata": {
    "collapsed": true,
    "scrolled": true
   },
   "outputs": [],
   "source": [
    "#switchersdata.sort_values(['applicationserialnumber','year', 'month'])"
   ]
  },
  {
   "cell_type": "code",
   "execution_count": 290,
   "metadata": {
    "collapsed": true
   },
   "outputs": [],
   "source": [
    "#find the average rides per user per month\n",
    "avgswitchers = switchersdata.groupby('applicationserialnumber')[[\"countpass\",\"countcash\",\"totrides\",\"monthcount\"]].mean()\n",
    "avgswitchers.reset_index(inplace=True) # reset index"
   ]
  },
  {
   "cell_type": "code",
   "execution_count": 291,
   "metadata": {},
   "outputs": [
    {
     "data": {
      "text/html": [
       "<div>\n",
       "<style>\n",
       "    .dataframe thead tr:only-child th {\n",
       "        text-align: right;\n",
       "    }\n",
       "\n",
       "    .dataframe thead th {\n",
       "        text-align: left;\n",
       "    }\n",
       "\n",
       "    .dataframe tbody tr th {\n",
       "        vertical-align: top;\n",
       "    }\n",
       "</style>\n",
       "<table border=\"1\" class=\"dataframe\">\n",
       "  <thead>\n",
       "    <tr style=\"text-align: right;\">\n",
       "      <th></th>\n",
       "      <th>applicationserialnumber</th>\n",
       "      <th>countpass</th>\n",
       "      <th>countcash</th>\n",
       "      <th>totrides</th>\n",
       "      <th>monthcount</th>\n",
       "    </tr>\n",
       "  </thead>\n",
       "  <tbody>\n",
       "    <tr>\n",
       "      <th>0</th>\n",
       "      <td>1000400842</td>\n",
       "      <td>39.777778</td>\n",
       "      <td>27.875000</td>\n",
       "      <td>33.500000</td>\n",
       "      <td>1.0</td>\n",
       "    </tr>\n",
       "    <tr>\n",
       "      <th>1</th>\n",
       "      <td>1000401182</td>\n",
       "      <td>44.761905</td>\n",
       "      <td>33.000000</td>\n",
       "      <td>44.666667</td>\n",
       "      <td>1.0</td>\n",
       "    </tr>\n",
       "    <tr>\n",
       "      <th>2</th>\n",
       "      <td>1000705852</td>\n",
       "      <td>32.117647</td>\n",
       "      <td>15.875000</td>\n",
       "      <td>28.041667</td>\n",
       "      <td>1.0</td>\n",
       "    </tr>\n",
       "    <tr>\n",
       "      <th>3</th>\n",
       "      <td>1000719491</td>\n",
       "      <td>46.727273</td>\n",
       "      <td>27.714286</td>\n",
       "      <td>37.583333</td>\n",
       "      <td>1.0</td>\n",
       "    </tr>\n",
       "    <tr>\n",
       "      <th>4</th>\n",
       "      <td>1000745179</td>\n",
       "      <td>27.000000</td>\n",
       "      <td>43.347826</td>\n",
       "      <td>43.791667</td>\n",
       "      <td>1.0</td>\n",
       "    </tr>\n",
       "    <tr>\n",
       "      <th>5</th>\n",
       "      <td>1000765682</td>\n",
       "      <td>35.800000</td>\n",
       "      <td>32.954545</td>\n",
       "      <td>39.304348</td>\n",
       "      <td>1.0</td>\n",
       "    </tr>\n",
       "    <tr>\n",
       "      <th>6</th>\n",
       "      <td>1000780292</td>\n",
       "      <td>46.272727</td>\n",
       "      <td>11.600000</td>\n",
       "      <td>44.833333</td>\n",
       "      <td>1.0</td>\n",
       "    </tr>\n",
       "    <tr>\n",
       "      <th>7</th>\n",
       "      <td>1000790087</td>\n",
       "      <td>36.526316</td>\n",
       "      <td>17.166667</td>\n",
       "      <td>36.227273</td>\n",
       "      <td>1.0</td>\n",
       "    </tr>\n",
       "    <tr>\n",
       "      <th>8</th>\n",
       "      <td>1000792853</td>\n",
       "      <td>31.227273</td>\n",
       "      <td>15.100000</td>\n",
       "      <td>34.916667</td>\n",
       "      <td>1.0</td>\n",
       "    </tr>\n",
       "    <tr>\n",
       "      <th>9</th>\n",
       "      <td>1000795442</td>\n",
       "      <td>44.750000</td>\n",
       "      <td>34.047619</td>\n",
       "      <td>37.250000</td>\n",
       "      <td>1.0</td>\n",
       "    </tr>\n",
       "  </tbody>\n",
       "</table>\n",
       "</div>"
      ],
      "text/plain": [
       "   applicationserialnumber  countpass  countcash   totrides  monthcount\n",
       "0               1000400842  39.777778  27.875000  33.500000         1.0\n",
       "1               1000401182  44.761905  33.000000  44.666667         1.0\n",
       "2               1000705852  32.117647  15.875000  28.041667         1.0\n",
       "3               1000719491  46.727273  27.714286  37.583333         1.0\n",
       "4               1000745179  27.000000  43.347826  43.791667         1.0\n",
       "5               1000765682  35.800000  32.954545  39.304348         1.0\n",
       "6               1000780292  46.272727  11.600000  44.833333         1.0\n",
       "7               1000790087  36.526316  17.166667  36.227273         1.0\n",
       "8               1000792853  31.227273  15.100000  34.916667         1.0\n",
       "9               1000795442  44.750000  34.047619  37.250000         1.0"
      ]
     },
     "execution_count": 291,
     "metadata": {},
     "output_type": "execute_result"
    }
   ],
   "source": [
    "avgswitchers.head(10)"
   ]
  },
  {
   "cell_type": "code",
   "execution_count": 292,
   "metadata": {
    "collapsed": true
   },
   "outputs": [],
   "source": [
    "#find the total rides per user per month\n",
    "avgswitchers = (switchersdata.groupby('applicationserialnumber')\n",
    ".agg({'countpass':['mean','sum'], 'countcash':['mean','sum'],'totrides':['mean','sum'],'monthcount':'sum'})\n",
    ".reset_index()\n",
    ")"
   ]
  },
  {
   "cell_type": "code",
   "execution_count": 293,
   "metadata": {
    "collapsed": true
   },
   "outputs": [],
   "source": [
    "#rename columns\n",
    "avgswitchers.columns = [\"_\".join(x) for x in avgswitchers.columns.ravel()]"
   ]
  },
  {
   "cell_type": "code",
   "execution_count": 295,
   "metadata": {},
   "outputs": [],
   "source": [
    "#rename columns\n",
    "avgswitchers = avgswitchers.rename(columns={'applicationserialnumber_':'applicationserialnumber', 'monthcount_sum':'totalmonths',\n",
    "                             'countcash_mean':'avgcashpermonth', 'countcash_sum' : 'totalcashrides', \n",
    "                            'countpass_mean':'avgpasspermonth', 'countpass_sum' : 'totalpassrides',\n",
    "                            'totrides_mean':'avgridespermonth', 'totrides_sum' : 'totalrides'})"
   ]
  },
  {
   "cell_type": "code",
   "execution_count": 296,
   "metadata": {
    "collapsed": true,
    "scrolled": true
   },
   "outputs": [],
   "source": [
    "#drop outlier\n",
    "avgswitchers = avgswitchers.drop(avgswitchers[(avgswitchers.avgpasspermonth > 300)].index)"
   ]
  },
  {
   "cell_type": "code",
   "execution_count": 297,
   "metadata": {
    "collapsed": true
   },
   "outputs": [],
   "source": [
    "#add percentage of avg pass and cash per month\n",
    "avgswitchers = avgswitchers.assign(avgpassridesperc= avgswitchers.totalpassrides / avgswitchers.totalrides)\n",
    "\n",
    "avgswitchers = avgswitchers.assign(avgcashridesperc= avgswitchers.totalcashrides / avgswitchers.totalrides)"
   ]
  },
  {
   "cell_type": "code",
   "execution_count": 299,
   "metadata": {
    "scrolled": false
   },
   "outputs": [
    {
     "data": {
      "text/html": [
       "<div>\n",
       "<style>\n",
       "    .dataframe thead tr:only-child th {\n",
       "        text-align: right;\n",
       "    }\n",
       "\n",
       "    .dataframe thead th {\n",
       "        text-align: left;\n",
       "    }\n",
       "\n",
       "    .dataframe tbody tr th {\n",
       "        vertical-align: top;\n",
       "    }\n",
       "</style>\n",
       "<table border=\"1\" class=\"dataframe\">\n",
       "  <thead>\n",
       "    <tr style=\"text-align: right;\">\n",
       "      <th></th>\n",
       "      <th>applicationserialnumber</th>\n",
       "      <th>totalmonths</th>\n",
       "      <th>avgcashpermonth</th>\n",
       "      <th>totalcashrides</th>\n",
       "      <th>avgridespermonth</th>\n",
       "      <th>totalrides</th>\n",
       "      <th>avgpasspermonth</th>\n",
       "      <th>totalpassrides</th>\n",
       "      <th>avgpassridesperc</th>\n",
       "      <th>avgcashridesperc</th>\n",
       "    </tr>\n",
       "  </thead>\n",
       "  <tbody>\n",
       "    <tr>\n",
       "      <th>0</th>\n",
       "      <td>1000400842</td>\n",
       "      <td>24</td>\n",
       "      <td>27.875000</td>\n",
       "      <td>446.0</td>\n",
       "      <td>33.500000</td>\n",
       "      <td>804</td>\n",
       "      <td>39.777778</td>\n",
       "      <td>358.0</td>\n",
       "      <td>0.445274</td>\n",
       "      <td>0.554726</td>\n",
       "    </tr>\n",
       "    <tr>\n",
       "      <th>1</th>\n",
       "      <td>1000401182</td>\n",
       "      <td>24</td>\n",
       "      <td>33.000000</td>\n",
       "      <td>132.0</td>\n",
       "      <td>44.666667</td>\n",
       "      <td>1072</td>\n",
       "      <td>44.761905</td>\n",
       "      <td>940.0</td>\n",
       "      <td>0.876866</td>\n",
       "      <td>0.123134</td>\n",
       "    </tr>\n",
       "    <tr>\n",
       "      <th>2</th>\n",
       "      <td>1000705852</td>\n",
       "      <td>24</td>\n",
       "      <td>15.875000</td>\n",
       "      <td>127.0</td>\n",
       "      <td>28.041667</td>\n",
       "      <td>673</td>\n",
       "      <td>32.117647</td>\n",
       "      <td>546.0</td>\n",
       "      <td>0.811293</td>\n",
       "      <td>0.188707</td>\n",
       "    </tr>\n",
       "    <tr>\n",
       "      <th>3</th>\n",
       "      <td>1000719491</td>\n",
       "      <td>24</td>\n",
       "      <td>27.714286</td>\n",
       "      <td>388.0</td>\n",
       "      <td>37.583333</td>\n",
       "      <td>902</td>\n",
       "      <td>46.727273</td>\n",
       "      <td>514.0</td>\n",
       "      <td>0.569845</td>\n",
       "      <td>0.430155</td>\n",
       "    </tr>\n",
       "    <tr>\n",
       "      <th>4</th>\n",
       "      <td>1000745179</td>\n",
       "      <td>24</td>\n",
       "      <td>43.347826</td>\n",
       "      <td>997.0</td>\n",
       "      <td>43.791667</td>\n",
       "      <td>1051</td>\n",
       "      <td>27.000000</td>\n",
       "      <td>54.0</td>\n",
       "      <td>0.051380</td>\n",
       "      <td>0.948620</td>\n",
       "    </tr>\n",
       "    <tr>\n",
       "      <th>5</th>\n",
       "      <td>1000765682</td>\n",
       "      <td>23</td>\n",
       "      <td>32.954545</td>\n",
       "      <td>725.0</td>\n",
       "      <td>39.304348</td>\n",
       "      <td>904</td>\n",
       "      <td>35.800000</td>\n",
       "      <td>179.0</td>\n",
       "      <td>0.198009</td>\n",
       "      <td>0.801991</td>\n",
       "    </tr>\n",
       "    <tr>\n",
       "      <th>6</th>\n",
       "      <td>1000780292</td>\n",
       "      <td>24</td>\n",
       "      <td>11.600000</td>\n",
       "      <td>58.0</td>\n",
       "      <td>44.833333</td>\n",
       "      <td>1076</td>\n",
       "      <td>46.272727</td>\n",
       "      <td>1018.0</td>\n",
       "      <td>0.946097</td>\n",
       "      <td>0.053903</td>\n",
       "    </tr>\n",
       "    <tr>\n",
       "      <th>7</th>\n",
       "      <td>1000790087</td>\n",
       "      <td>22</td>\n",
       "      <td>17.166667</td>\n",
       "      <td>103.0</td>\n",
       "      <td>36.227273</td>\n",
       "      <td>797</td>\n",
       "      <td>36.526316</td>\n",
       "      <td>694.0</td>\n",
       "      <td>0.870765</td>\n",
       "      <td>0.129235</td>\n",
       "    </tr>\n",
       "    <tr>\n",
       "      <th>8</th>\n",
       "      <td>1000792853</td>\n",
       "      <td>24</td>\n",
       "      <td>15.100000</td>\n",
       "      <td>151.0</td>\n",
       "      <td>34.916667</td>\n",
       "      <td>838</td>\n",
       "      <td>31.227273</td>\n",
       "      <td>687.0</td>\n",
       "      <td>0.819809</td>\n",
       "      <td>0.180191</td>\n",
       "    </tr>\n",
       "    <tr>\n",
       "      <th>9</th>\n",
       "      <td>1000795442</td>\n",
       "      <td>24</td>\n",
       "      <td>34.047619</td>\n",
       "      <td>715.0</td>\n",
       "      <td>37.250000</td>\n",
       "      <td>894</td>\n",
       "      <td>44.750000</td>\n",
       "      <td>179.0</td>\n",
       "      <td>0.200224</td>\n",
       "      <td>0.799776</td>\n",
       "    </tr>\n",
       "  </tbody>\n",
       "</table>\n",
       "</div>"
      ],
      "text/plain": [
       "   applicationserialnumber  totalmonths  avgcashpermonth  totalcashrides  \\\n",
       "0               1000400842           24        27.875000           446.0   \n",
       "1               1000401182           24        33.000000           132.0   \n",
       "2               1000705852           24        15.875000           127.0   \n",
       "3               1000719491           24        27.714286           388.0   \n",
       "4               1000745179           24        43.347826           997.0   \n",
       "5               1000765682           23        32.954545           725.0   \n",
       "6               1000780292           24        11.600000            58.0   \n",
       "7               1000790087           22        17.166667           103.0   \n",
       "8               1000792853           24        15.100000           151.0   \n",
       "9               1000795442           24        34.047619           715.0   \n",
       "\n",
       "   avgridespermonth  totalrides  avgpasspermonth  totalpassrides  \\\n",
       "0         33.500000         804        39.777778           358.0   \n",
       "1         44.666667        1072        44.761905           940.0   \n",
       "2         28.041667         673        32.117647           546.0   \n",
       "3         37.583333         902        46.727273           514.0   \n",
       "4         43.791667        1051        27.000000            54.0   \n",
       "5         39.304348         904        35.800000           179.0   \n",
       "6         44.833333        1076        46.272727          1018.0   \n",
       "7         36.227273         797        36.526316           694.0   \n",
       "8         34.916667         838        31.227273           687.0   \n",
       "9         37.250000         894        44.750000           179.0   \n",
       "\n",
       "   avgpassridesperc  avgcashridesperc  \n",
       "0          0.445274          0.554726  \n",
       "1          0.876866          0.123134  \n",
       "2          0.811293          0.188707  \n",
       "3          0.569845          0.430155  \n",
       "4          0.051380          0.948620  \n",
       "5          0.198009          0.801991  \n",
       "6          0.946097          0.053903  \n",
       "7          0.870765          0.129235  \n",
       "8          0.819809          0.180191  \n",
       "9          0.200224          0.799776  "
      ]
     },
     "execution_count": 299,
     "metadata": {},
     "output_type": "execute_result"
    }
   ],
   "source": [
    "avgswitchers.head(10)"
   ]
  },
  {
   "cell_type": "markdown",
   "metadata": {},
   "source": [
    "This scatter plot shows the average number of rides taken using eCash and pass per month by those who have switched. Each dot represents a user."
   ]
  },
  {
   "cell_type": "code",
   "execution_count": 300,
   "metadata": {
    "scrolled": true
   },
   "outputs": [
    {
     "data": {
      "text/plain": [
       "<matplotlib.axes._subplots.AxesSubplot at 0x10d2f3f50>"
      ]
     },
     "execution_count": 300,
     "metadata": {},
     "output_type": "execute_result"
    },
    {
     "data": {
      "image/png": "[encoded data removed]",
      "text/plain": [
       "<matplotlib.figure.Figure at 0x12d1bcd50>"
      ]
     },
     "metadata": {},
     "output_type": "display_data"
    }
   ],
   "source": [
    "avgswitchers.plot.scatter(x = 'avgcashpermonth', y = 'avgpasspermonth', alpha = 0.8)"
   ]
  },
  {
   "cell_type": "markdown",
   "metadata": {},
   "source": [
    "This shows the percentage of average rides per a month that were on pass. "
   ]
  },
  {
   "cell_type": "code",
   "execution_count": 301,
   "metadata": {
    "scrolled": true
   },
   "outputs": [
    {
     "data": {
      "text/plain": [
       "<matplotlib.axes._subplots.AxesSubplot at 0x10ea36790>"
      ]
     },
     "execution_count": 301,
     "metadata": {},
     "output_type": "execute_result"
    },
    {
     "data": {
      "image/png": "[encoded data removed]",
      "text/plain": [
       "<matplotlib.figure.Figure at 0x114b62610>"
      ]
     },
     "metadata": {},
     "output_type": "display_data"
    }
   ],
   "source": [
    "avgswitchers.avgpassridesperc.plot.hist()"
   ]
  },
  {
   "cell_type": "markdown",
   "metadata": {},
   "source": [
    "This histogram shows the total number of average rides per month switchers took when they used a pass."
   ]
  },
  {
   "cell_type": "code",
   "execution_count": 307,
   "metadata": {
    "scrolled": true
   },
   "outputs": [
    {
     "data": {
      "text/plain": [
       "<matplotlib.lines.Line2D at 0x121d65550>"
      ]
     },
     "execution_count": 307,
     "metadata": {},
     "output_type": "execute_result"
    },
    {
     "data": {
      "image/png": "[encoded data removed]",
      "text/plain": [
       "<matplotlib.figure.Figure at 0x121d657d0>"
      ]
     },
     "metadata": {},
     "output_type": "display_data"
    }
   ],
   "source": [
    "avgswitchers.avgpasspermonth.plot.hist().axvline(avgswitchers.avgpasspermonth.mean(), color='b', linestyle='dashed', linewidth=2)\n"
   ]
  },
  {
   "cell_type": "code",
   "execution_count": 312,
   "metadata": {},
   "outputs": [
    {
     "data": {
      "text/plain": [
       "40.962180825250606"
      ]
     },
     "execution_count": 312,
     "metadata": {},
     "output_type": "execute_result"
    }
   ],
   "source": [
    "avgswitchers.avgpasspermonth.mean()"
   ]
  },
  {
   "cell_type": "markdown",
   "metadata": {},
   "source": [
    "This histogram shows the total number of average rides per month switchers took when they used a cash."
   ]
  },
  {
   "cell_type": "code",
   "execution_count": 308,
   "metadata": {
    "scrolled": true
   },
   "outputs": [
    {
     "data": {
      "text/plain": [
       "<matplotlib.lines.Line2D at 0x10e554f90>"
      ]
     },
     "execution_count": 308,
     "metadata": {},
     "output_type": "execute_result"
    },
    {
     "data": {
      "image/png": "[encoded data removed]",
      "text/plain": [
       "<matplotlib.figure.Figure at 0x10e6b63d0>"
      ]
     },
     "metadata": {},
     "output_type": "display_data"
    }
   ],
   "source": [
    "avgswitchers.avgcashpermonth.plot.hist().axvline(avgswitchers.avgcashpermonth.mean(), color='b', linestyle='dashed', linewidth=2)"
   ]
  },
  {
   "cell_type": "code",
   "execution_count": 311,
   "metadata": {},
   "outputs": [
    {
     "data": {
      "text/plain": [
       "19.510883302067914"
      ]
     },
     "execution_count": 311,
     "metadata": {},
     "output_type": "execute_result"
    }
   ],
   "source": [
    "avgswitchers.avgcashpermonth.mean()"
   ]
  },
  {
   "cell_type": "markdown",
   "metadata": {},
   "source": []
  }
 ],
 "metadata": {
  "kernelspec": {
   "display_name": "Python 2",
   "language": "python",
   "name": "python2"
  },
  "language_info": {
   "codemirror_mode": {
    "name": "ipython",
    "version": 2
   },
   "file_extension": ".py",
   "mimetype": "text/x-python",
   "name": "python",
   "nbconvert_exporter": "python",
   "pygments_lexer": "ipython2",
   "version": "2.7.13"
  }
 },
 "nbformat": 4,
 "nbformat_minor": 2
}
