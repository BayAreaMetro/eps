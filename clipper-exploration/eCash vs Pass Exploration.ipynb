{
 "cells": [
  {
   "cell_type": "code",
   "execution_count": 1,
   "metadata": {
    "collapsed": true
   },
   "outputs": [],
   "source": [
    "# loading libraries\n",
    "import psycopg2\n",
    "import pandas as pd\n",
    "import numpy as np\n",
    "import pandas.io.sql as psql"
   ]
  },
  {
   "cell_type": "code",
   "execution_count": 2,
   "metadata": {
    "collapsed": true
   },
   "outputs": [],
   "source": [
    "# connecting to redshift \n",
    "dbname1, host1, port1, user1, password1 = pd.read_csv(\"credentials.csv\")\n",
    "con = psycopg2.connect(dbname= dbname1, host= host1, port= port1, user= user1, password= password1)"
   ]
  },
  {
   "cell_type": "code",
   "execution_count": 3,
   "metadata": {
    "collapsed": true
   },
   "outputs": [],
   "source": [
    "# get a cursor from DB connection\n",
    "cur = con.cursor()"
   ]
  },
  {
   "cell_type": "code",
   "execution_count": 4,
   "metadata": {
    "collapsed": true
   },
   "outputs": [],
   "source": [
    "# execute query and load into pandas df\n",
    "data = psql.read_sql('SELECT * FROM \"clipper\".\"rpt-cashpass3\";', con)"
   ]
  },
  {
   "cell_type": "code",
   "execution_count": 5,
   "metadata": {
    "collapsed": true
   },
   "outputs": [],
   "source": [
    "#data.sort_values(['applicationserialnumber','year', 'month'])"
   ]
  },
  {
   "cell_type": "code",
   "execution_count": 6,
   "metadata": {},
   "outputs": [
    {
     "data": {
      "text/plain": [
       "14854169"
      ]
     },
     "execution_count": 6,
     "metadata": {},
     "output_type": "execute_result"
    }
   ],
   "source": [
    "len(data)"
   ]
  },
  {
   "cell_type": "code",
   "execution_count": 7,
   "metadata": {
    "collapsed": true
   },
   "outputs": [],
   "source": [
    "#drop if no muni use (cash or pass) in the month\n",
    "data.drop(data[(data.countpass == 0) & (data.countcash == 0)].index, inplace=True)"
   ]
  },
  {
   "cell_type": "code",
   "execution_count": 8,
   "metadata": {
    "scrolled": true
   },
   "outputs": [
    {
     "data": {
      "text/plain": [
       "10476386"
      ]
     },
     "execution_count": 8,
     "metadata": {},
     "output_type": "execute_result"
    }
   ],
   "source": [
    "len(data)"
   ]
  },
  {
   "cell_type": "code",
   "execution_count": 9,
   "metadata": {
    "collapsed": true
   },
   "outputs": [],
   "source": [
    "#add total ride column\n",
    "data = data.assign(totrides= data.countpass + data.countcash)"
   ]
  },
  {
   "cell_type": "code",
   "execution_count": 10,
   "metadata": {
    "collapsed": true
   },
   "outputs": [],
   "source": [
    "#add rides percentages\n",
    "data = data.assign(passpercent= data.countpass / data.totrides)\n",
    "data = data.assign(cashpercent= data.countcash / data.totrides)"
   ]
  },
  {
   "cell_type": "code",
   "execution_count": 11,
   "metadata": {
    "collapsed": true,
    "scrolled": true
   },
   "outputs": [],
   "source": [
    "#drop all records for clipper card if took less than 10 rides in a month\n",
    "data2 = data.groupby('applicationserialnumber').filter(lambda x: x['totrides'].min()>10 )\n",
    "data2.reset_index(drop=True, inplace=True) # reset index"
   ]
  },
  {
   "cell_type": "code",
   "execution_count": null,
   "metadata": {
    "scrolled": true
   },
   "outputs": [
    {
     "data": {
      "text/plain": [
       "1505712"
      ]
     },
     "execution_count": 12,
     "metadata": {},
     "output_type": "execute_result"
    }
   ],
   "source": [
    "len(data2)"
   ]
  },
  {
   "cell_type": "markdown",
   "metadata": {},
   "source": [
    "These histograms look at the average rides per month for Muni users, not controlling for those who have switched between pass and cash. We want to control for just \"switchers\" because there are potentially confounding factors, ie a certain user type tends to use a pass and also tends to take a lot of rides. We want to keep all other factors constant. "
   ]
  },
  {
   "cell_type": "code",
   "execution_count": null,
   "metadata": {
    "collapsed": true,
    "scrolled": true
   },
   "outputs": [],
   "source": [
    "%matplotlib inline\n",
    "data2.countpass.plot.hist()"
   ]
  },
  {
   "cell_type": "code",
   "execution_count": null,
   "metadata": {
    "collapsed": true
   },
   "outputs": [],
   "source": [
    "data2.countcash.plot.hist()"
   ]
  },
  {
   "cell_type": "code",
   "execution_count": null,
   "metadata": {
    "collapsed": true,
    "scrolled": true
   },
   "outputs": [],
   "source": [
    "#find the total rides per user across the data\n",
    "data2 = data2.assign(monthcount= 1) #add comlumn to count number of months \n",
    "data3 = data2.groupby('applicationserialnumber')[[\"countpass\",\"countcash\",\"totrides\",\"monthcount\"]].sum()\n",
    "data3.reset_index(inplace=True) # reset index"
   ]
  },
  {
   "cell_type": "code",
   "execution_count": null,
   "metadata": {
    "collapsed": true
   },
   "outputs": [],
   "source": [
    "#drop people who definitely didnt switch / wouldn't be helpful for this analysis\n",
    "# bc they haven't taken more than 50 rides in either category acorss the two years\n",
    "switchers = data3.drop(data3[(data3.countpass < 50) | (data3.countcash < 50)].index)"
   ]
  },
  {
   "cell_type": "code",
   "execution_count": null,
   "metadata": {
    "collapsed": true
   },
   "outputs": [],
   "source": [
    "len(switchers)"
   ]
  },
  {
   "cell_type": "code",
   "execution_count": null,
   "metadata": {
    "collapsed": true
   },
   "outputs": [],
   "source": [
    "#drop people who only have cliper card data for less than 12 months\n",
    "switchers2 = switchers.drop(switchers[(switchers.monthcount < 12)].index)"
   ]
  },
  {
   "cell_type": "code",
   "execution_count": null,
   "metadata": {
    "collapsed": true
   },
   "outputs": [],
   "source": [
    "len(switchers2)"
   ]
  },
  {
   "cell_type": "code",
   "execution_count": null,
   "metadata": {
    "collapsed": true,
    "scrolled": true
   },
   "outputs": [],
   "source": [
    "#filter monthly transaction data for only the identified switchers\n",
    "switchersdata = data2[data2['applicationserialnumber'].isin(list(switchers2.applicationserialnumber))]"
   ]
  },
  {
   "cell_type": "code",
   "execution_count": null,
   "metadata": {
    "collapsed": true
   },
   "outputs": [],
   "source": [
    "#replace zero with NaN so the the mean doesn't include those months\n",
    "switchersdata = switchersdata.replace(0, np.NaN)"
   ]
  },
  {
   "cell_type": "code",
   "execution_count": null,
   "metadata": {
    "collapsed": true,
    "scrolled": true
   },
   "outputs": [],
   "source": [
    "#switchersdata.sort_values(['applicationserialnumber','year', 'month'])"
   ]
  },
  {
   "cell_type": "code",
   "execution_count": null,
   "metadata": {
    "collapsed": true
   },
   "outputs": [],
   "source": [
    "#find the average rides per user per month\n",
    "avgswitchers = switchersdata.groupby('applicationserialnumber')[[\"countpass\",\"countcash\",\"totrides\",\"monthcount\"]].mean()\n",
    "avgswitchers.reset_index(inplace=True) # reset index"
   ]
  },
  {
   "cell_type": "code",
   "execution_count": null,
   "metadata": {
    "collapsed": true
   },
   "outputs": [],
   "source": [
    "#find the total rides per user per month\n",
    "avgswitchers = (switchersdata.groupby('applicationserialnumber')\n",
    ".agg({'countpass':['mean','sum'], 'countcash':['mean','sum'],'totrides':['mean','sum'],'monthcount':'sum'})\n",
    ".reset_index()\n",
    ")"
   ]
  },
  {
   "cell_type": "code",
   "execution_count": null,
   "metadata": {
    "collapsed": true
   },
   "outputs": [],
   "source": [
    "#rename columns\n",
    "avgswitchers.columns = [\"_\".join(x) for x in avgswitchers.columns.ravel()]"
   ]
  },
  {
   "cell_type": "code",
   "execution_count": null,
   "metadata": {
    "collapsed": true
   },
   "outputs": [],
   "source": [
    "#rename columns\n",
    "avgswitchers = avgswitchers.rename(columns={'applicationserialnumber_':'applicationserialnumber', 'monthcount_sum':'totalmonths',\n",
    "                             'countcash_mean':'avgcashpermonth', 'countcash_sum' : 'totalcashrides', \n",
    "                            'countpass_mean':'avgpasspermonth', 'countpass_sum' : 'totalpassrides',\n",
    "                            'totrides_mean':'avgridespermonth', 'totrides_sum' : 'totalrides'})"
   ]
  },
  {
   "cell_type": "code",
   "execution_count": null,
   "metadata": {
    "collapsed": true,
    "scrolled": true
   },
   "outputs": [],
   "source": [
    "#drop outlier\n",
    "avgswitchers = avgswitchers.drop(avgswitchers[(avgswitchers.avgpasspermonth > 300)].index)"
   ]
  },
  {
   "cell_type": "code",
   "execution_count": null,
   "metadata": {
    "collapsed": true
   },
   "outputs": [],
   "source": [
    "#add percentage of avg pass and cash per month\n",
    "avgswitchers = avgswitchers.assign(avgpassridesperc= avgswitchers.totalpassrides / avgswitchers.totalrides)\n",
    "\n",
    "avgswitchers = avgswitchers.assign(avgcashridesperc= avgswitchers.totalcashrides / avgswitchers.totalrides)"
   ]
  },
  {
   "cell_type": "markdown",
   "metadata": {},
   "source": [
    "This scatter plot shows the average number of rides taken using eCash and pass per month by those who have switched. Each dot represents a user. The scale on the pass axis is much larger suggesting users who have used both pass and eCash take more rides when they have a pass. "
   ]
  },
  {
   "cell_type": "code",
   "execution_count": null,
   "metadata": {
    "collapsed": true,
    "scrolled": true
   },
   "outputs": [],
   "source": [
    "avgswitchers.plot.scatter(x = 'avgcashpermonth', y = 'avgpasspermonth', alpha = 0.8)"
   ]
  },
  {
   "cell_type": "markdown",
   "metadata": {},
   "source": [
    "This histogram shows the total number of average rides per month switchers took when they used a pass."
   ]
  },
  {
   "cell_type": "code",
   "execution_count": null,
   "metadata": {
    "collapsed": true,
    "scrolled": true
   },
   "outputs": [],
   "source": [
    "avgswitchers.avgpasspermonth.plot.hist().axvline(avgswitchers.avgpasspermonth.mean(), color='b', linestyle='dashed', linewidth=2)\n"
   ]
  },
  {
   "cell_type": "code",
   "execution_count": null,
   "metadata": {
    "collapsed": true,
    "scrolled": true
   },
   "outputs": [],
   "source": [
    "#what is the average number of rides per a month that switchers took when they had a pass\n",
    "avgswitchers.avgpasspermonth.mean()"
   ]
  },
  {
   "cell_type": "markdown",
   "metadata": {},
   "source": [
    "This histogram shows the total number of average rides per month switchers took when they used a cash."
   ]
  },
  {
   "cell_type": "code",
   "execution_count": null,
   "metadata": {
    "collapsed": true,
    "scrolled": true
   },
   "outputs": [],
   "source": [
    "avgswitchers.avgcashpermonth.plot.hist().axvline(avgswitchers.avgcashpermonth.mean(), color='b', linestyle='dashed', linewidth=2)"
   ]
  },
  {
   "cell_type": "code",
   "execution_count": null,
   "metadata": {
    "collapsed": true
   },
   "outputs": [],
   "source": [
    "#what is the average number of rides per a month that switchers took when they used eCash\n",
    "avgswitchers.avgcashpermonth.mean()"
   ]
  },
  {
   "cell_type": "markdown",
   "metadata": {},
   "source": []
  }
 ],
 "metadata": {
  "kernelspec": {
   "display_name": "Python 2",
   "language": "python",
   "name": "python2"
  },
  "language_info": {
   "codemirror_mode": {
    "name": "ipython",
    "version": 2
   },
   "file_extension": ".py",
   "mimetype": "text/x-python",
   "name": "python",
   "nbconvert_exporter": "python",
   "pygments_lexer": "ipython2",
   "version": "2.7.13"
  }
 },
 "nbformat": 4,
 "nbformat_minor": 2
}
