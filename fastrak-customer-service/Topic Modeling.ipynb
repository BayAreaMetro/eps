{
 "cells": [
  {
   "cell_type": "code",
   "execution_count": 1,
   "metadata": {},
   "outputs": [],
   "source": [
    "%matplotlib inline\n",
    "import pandas as pd\n",
    "from nltk.tokenize import RegexpTokenizer\n",
    "from stop_words import get_stop_words\n",
    "from nltk.stem.porter import PorterStemmer\n",
    "from gensim import corpora, models\n",
    "import gensim\n",
    "from itertools import chain\n",
    "from collections import Counter\n",
    "from vaderSentiment.vaderSentiment import SentimentIntensityAnalyzer"
   ]
  },
  {
   "cell_type": "markdown",
   "metadata": {},
   "source": [
    "## Read in and preprocess data "
   ]
  },
  {
   "cell_type": "code",
   "execution_count": 2,
   "metadata": {},
   "outputs": [],
   "source": [
    "#read all data\n",
    "xls = pd.ExcelFile('./Compiled_survey.xlsx')\n",
    "Jan18 = pd.read_excel(xls, 'Jan 2018')\n",
    "Jan18['month'] = 'Jan 2018'\n",
    "Dec17 = pd.read_excel(xls, 'Dec 2017')\n",
    "Dec17['month'] = 'Dec 2017'\n",
    "Nov17 = pd.read_excel(xls, 'Nov 2017')\n",
    "Nov17['month'] = 'Nov 2017'\n",
    "Oct17 = pd.read_excel(xls, 'Oct 2017')\n",
    "Oct17['month'] = 'Oct 2017'\n",
    "Sept17 = pd.read_excel(xls, 'Sept 2017')\n",
    "Sept17['month'] = 'Sept 2017'\n",
    "Aug17 = pd.read_excel(xls, 'August 2017')\n",
    "Aug17['month'] = 'Aug 2017'\n",
    "Jul17 = pd.read_excel(xls, 'July 2017')\n",
    "Jul17['month'] = 'Jul 2017'\n",
    "Jun17 = pd.read_excel(xls, 'June 2017')\n",
    "Jun17['month'] = 'Jun 2017'\n",
    "May17 = pd.read_excel(xls, 'May 2017')\n",
    "May17['month'] = 'May 2017'\n",
    "Apr17 = pd.read_excel(xls, 'April 2017')\n",
    "Apr17['month'] = 'April 2017'\n",
    "Mar17 = pd.read_excel(xls, 'Mar 2017')\n",
    "Mar17['month'] = 'March 2017'\n",
    "Feb17 = pd.read_excel(xls, 'Feb 2017')\n",
    "Feb17['month'] = 'Feb 2017'\n",
    "Jan17 = pd.read_excel(xls, 'Jan 2017')\n",
    "Jan17['month'] = 'Jan 2017'"
   ]
  },
  {
   "cell_type": "code",
   "execution_count": 3,
   "metadata": {},
   "outputs": [],
   "source": [
    "#combine data frames into one\n",
    "#data = pd.concat([Jan18, Dec17, Nov17, Oct17, Sept17, Aug17, Jul17,Jun17, May17, Apr17,\n",
    "#         Mar17, Feb17, Jan17])\n",
    "\n",
    "data = pd.concat([Jan18, Dec17, Nov17])"
   ]
  },
  {
   "cell_type": "code",
   "execution_count": 4,
   "metadata": {},
   "outputs": [],
   "source": [
    "#rename columns\n",
    "data = data.rename(index=str, columns={\"Date\":\"date\", \"What is the purpose for your visit today?\": \"purpose\",\n",
    "                                 'Were you able to complete your task today?':\"task_completion\",\n",
    "                                 \"How would you rate the level of effort you had to put forth to handle your request today?\": \"effort\",\n",
    "                                 'How did this effort compare to your expectations?':'expectations',\n",
    "                                 'How likely is it that you would recommend FasTrak to a friend or colleague?':'recommend',\n",
    "                                 \"Additional Feedback (Optional)\": \"feedback\",\n",
    "                                \"month\":\"month\"})"
   ]
  },
  {
   "cell_type": "code",
   "execution_count": 5,
   "metadata": {},
   "outputs": [],
   "source": [
    "#drop unneeded column \n",
    "#data = data.drop('#', 1)"
   ]
  },
  {
   "cell_type": "code",
   "execution_count": 6,
   "metadata": {},
   "outputs": [
    {
     "data": {
      "text/plain": [
       "Jan 2018    13809\n",
       "Nov 2017    13237\n",
       "Dec 2017    11579\n",
       "Name: month, dtype: int64"
      ]
     },
     "execution_count": 6,
     "metadata": {},
     "output_type": "execute_result"
    }
   ],
   "source": [
    "data[\"month\"].value_counts()"
   ]
  },
  {
   "cell_type": "code",
   "execution_count": 7,
   "metadata": {},
   "outputs": [
    {
     "data": {
      "text/plain": [
       "(38625, 8)"
      ]
     },
     "execution_count": 7,
     "metadata": {},
     "output_type": "execute_result"
    }
   ],
   "source": [
    "data.shape"
   ]
  },
  {
   "cell_type": "markdown",
   "metadata": {},
   "source": [
    "### Filter for only rows with feedback responses"
   ]
  },
  {
   "cell_type": "code",
   "execution_count": 8,
   "metadata": {},
   "outputs": [],
   "source": [
    "#get only rows with feedback filled out\n",
    "feedback = data[data.feedback.notnull()]"
   ]
  },
  {
   "cell_type": "code",
   "execution_count": 9,
   "metadata": {},
   "outputs": [
    {
     "data": {
      "text/plain": [
       "Jan 2018    2668\n",
       "Nov 2017    2551\n",
       "Dec 2017    2202\n",
       "Name: month, dtype: int64"
      ]
     },
     "execution_count": 9,
     "metadata": {},
     "output_type": "execute_result"
    }
   ],
   "source": [
    "feedback[\"month\"].value_counts()"
   ]
  },
  {
   "cell_type": "code",
   "execution_count": 10,
   "metadata": {},
   "outputs": [
    {
     "data": {
      "text/plain": [
       "Account Update               3457\n",
       "Register Toll Tag            1477\n",
       "Account Balance              1079\n",
       "Pay a Violation               586\n",
       "Dispute Violation/Invoice     381\n",
       "Pay an Invoice                353\n",
       "Name: purpose, dtype: int64"
      ]
     },
     "execution_count": 10,
     "metadata": {},
     "output_type": "execute_result"
    }
   ],
   "source": [
    "feedback[\"purpose\"].value_counts()"
   ]
  },
  {
   "cell_type": "code",
   "execution_count": 11,
   "metadata": {},
   "outputs": [
    {
     "data": {
      "text/plain": [
       "(7421, 8)"
      ]
     },
     "execution_count": 11,
     "metadata": {},
     "output_type": "execute_result"
    }
   ],
   "source": [
    "feedback.shape"
   ]
  },
  {
   "cell_type": "markdown",
   "metadata": {},
   "source": [
    "### Filter feedback based on sentiment and type"
   ]
  },
  {
   "cell_type": "code",
   "execution_count": 12,
   "metadata": {},
   "outputs": [],
   "source": [
    "# compile documents into a list\n",
    "feedback_list = feedback.feedback.tolist()\n",
    "\n",
    "# remove numbers from documents\n",
    "feedback_list = [x for x in feedback_list if type(x) != int]"
   ]
  },
  {
   "cell_type": "code",
   "execution_count": 13,
   "metadata": {},
   "outputs": [],
   "source": [
    "# sentiment analysis\n",
    "analyzer = SentimentIntensityAnalyzer()\n",
    "\n",
    "sentiment_dict = {}\n",
    "for i in feedback_list:\n",
    "    sentiment_dict[i] = analyzer.polarity_scores(i)"
   ]
  },
  {
   "cell_type": "code",
   "execution_count": 14,
   "metadata": {},
   "outputs": [
    {
     "data": {
      "text/plain": [
       "372"
      ]
     },
     "execution_count": 14,
     "metadata": {},
     "output_type": "execute_result"
    }
   ],
   "source": [
    "pos_list = []\n",
    "for k, v in zip(sentiment_dict.keys(), sentiment_dict.values()):\n",
    "    if v['pos'] > 0.6:\n",
    "        pos_list.append(k)\n",
    "len(pos_list)"
   ]
  },
  {
   "cell_type": "code",
   "execution_count": 15,
   "metadata": {},
   "outputs": [
    {
     "name": "stderr",
     "output_type": "stream",
     "text": [
      "/anaconda/lib/python2.7/site-packages/ipykernel_launcher.py:11: SettingWithCopyWarning: \n",
      "A value is trying to be set on a copy of a slice from a DataFrame.\n",
      "Try using .loc[row_indexer,col_indexer] = value instead\n",
      "\n",
      "See the caveats in the documentation: http://pandas.pydata.org/pandas-docs/stable/indexing.html#indexing-view-versus-copy\n",
      "  # This is added back by InteractiveShellApp.init_path()\n",
      "/anaconda/lib/python2.7/site-packages/ipykernel_launcher.py:12: SettingWithCopyWarning: \n",
      "A value is trying to be set on a copy of a slice from a DataFrame.\n",
      "Try using .loc[row_indexer,col_indexer] = value instead\n",
      "\n",
      "See the caveats in the documentation: http://pandas.pydata.org/pandas-docs/stable/indexing.html#indexing-view-versus-copy\n",
      "  if sys.path[0] == '':\n",
      "/anaconda/lib/python2.7/site-packages/ipykernel_launcher.py:13: SettingWithCopyWarning: \n",
      "A value is trying to be set on a copy of a slice from a DataFrame.\n",
      "Try using .loc[row_indexer,col_indexer] = value instead\n",
      "\n",
      "See the caveats in the documentation: http://pandas.pydata.org/pandas-docs/stable/indexing.html#indexing-view-versus-copy\n",
      "  del sys.path[0]\n",
      "/anaconda/lib/python2.7/site-packages/ipykernel_launcher.py:14: SettingWithCopyWarning: \n",
      "A value is trying to be set on a copy of a slice from a DataFrame.\n",
      "Try using .loc[row_indexer,col_indexer] = value instead\n",
      "\n",
      "See the caveats in the documentation: http://pandas.pydata.org/pandas-docs/stable/indexing.html#indexing-view-versus-copy\n",
      "  \n"
     ]
    }
   ],
   "source": [
    "pos_dict = {}\n",
    "neg_dict = {}\n",
    "nuet_dict = {}\n",
    "compound_dict = {}\n",
    "for k, v in zip(sentiment_dict.keys(), sentiment_dict.values()):\n",
    "    pos_dict[k]  = v['pos']\n",
    "    neg_dict[k]  = v['neg']\n",
    "    nuet_dict[k]  = v['neu']\n",
    "    compound_dict[k]  = v['compound']\n",
    "    \n",
    "feedback['positive'] = feedback[\"feedback\"].map(pos_dict)\n",
    "feedback['negative'] = feedback[\"feedback\"].map(neg_dict)\n",
    "feedback['nuetral'] = feedback[\"feedback\"].map(nuet_dict)\n",
    "feedback['compound'] = feedback[\"feedback\"].map(compound_dict)"
   ]
  },
  {
   "cell_type": "code",
   "execution_count": 78,
   "metadata": {},
   "outputs": [],
   "source": [
    "#feedback.head(1)"
   ]
  },
  {
   "cell_type": "code",
   "execution_count": 17,
   "metadata": {},
   "outputs": [
    {
     "data": {
      "text/plain": [
       "array([[<matplotlib.axes._subplots.AxesSubplot object at 0x1a202804d0>]], dtype=object)"
      ]
     },
     "execution_count": 17,
     "metadata": {},
     "output_type": "execute_result"
    },
    {
     "data": {
      "image/png": "[encoded data removed]",
      "text/plain": [
       "<matplotlib.figure.Figure at 0x1a20b90ad0>"
      ]
     },
     "metadata": {},
     "output_type": "display_data"
    }
   ],
   "source": [
    "feedback.hist(column='positive', bins=50)"
   ]
  },
  {
   "cell_type": "code",
   "execution_count": 18,
   "metadata": {},
   "outputs": [
    {
     "data": {
      "text/plain": [
       "array([[<matplotlib.axes._subplots.AxesSubplot object at 0x1a21f4d890>]], dtype=object)"
      ]
     },
     "execution_count": 18,
     "metadata": {},
     "output_type": "execute_result"
    },
    {
     "data": {
      "image/png": "[encoded data removed]",
      "text/plain": [
       "<matplotlib.figure.Figure at 0x1a243ed7d0>"
      ]
     },
     "metadata": {},
     "output_type": "display_data"
    }
   ],
   "source": [
    "feedback.hist(column='negative', bins=50)"
   ]
  },
  {
   "cell_type": "code",
   "execution_count": 19,
   "metadata": {},
   "outputs": [
    {
     "data": {
      "text/plain": [
       "array([[<matplotlib.axes._subplots.AxesSubplot object at 0x1a21f4d3d0>]], dtype=object)"
      ]
     },
     "execution_count": 19,
     "metadata": {},
     "output_type": "execute_result"
    },
    {
     "data": {
      "image/png": "[encoded data removed]",
      "text/plain": [
       "<matplotlib.figure.Figure at 0x1a243ed750>"
      ]
     },
     "metadata": {},
     "output_type": "display_data"
    }
   ],
   "source": [
    "feedback.hist(column='nuetral', bins=50)"
   ]
  },
  {
   "cell_type": "code",
   "execution_count": 20,
   "metadata": {},
   "outputs": [
    {
     "data": {
      "text/plain": [
       "array([[<matplotlib.axes._subplots.AxesSubplot object at 0x1a2430d350>]], dtype=object)"
      ]
     },
     "execution_count": 20,
     "metadata": {},
     "output_type": "execute_result"
    },
    {
     "data": {
      "image/png": "[encoded data removed]",
      "text/plain": [
       "<matplotlib.figure.Figure at 0x1a243ed910>"
      ]
     },
     "metadata": {},
     "output_type": "display_data"
    }
   ],
   "source": [
    "feedback.hist(column='compound', bins=50)"
   ]
  },
  {
   "cell_type": "code",
   "execution_count": 21,
   "metadata": {},
   "outputs": [],
   "source": [
    "# filter out uniformative feedback (super positive or super negative)\n",
    "# these are generally short responses that provide no helpful information\n",
    "feedback2 = feedback[(feedback['positive'] < 0.6) &\n",
    "        (feedback['negative'] < 0.6)]"
   ]
  },
  {
   "cell_type": "code",
   "execution_count": 22,
   "metadata": {},
   "outputs": [
    {
     "data": {
      "text/plain": [
       "Account Update               3126\n",
       "Register Toll Tag            1414\n",
       "Account Balance              1028\n",
       "Pay a Violation               564\n",
       "Dispute Violation/Invoice     372\n",
       "Pay an Invoice                335\n",
       "Name: purpose, dtype: int64"
      ]
     },
     "execution_count": 22,
     "metadata": {},
     "output_type": "execute_result"
    }
   ],
   "source": [
    "feedback2[\"purpose\"].value_counts()"
   ]
  },
  {
   "cell_type": "code",
   "execution_count": 60,
   "metadata": {},
   "outputs": [],
   "source": [
    "# divide into purpose categories\n",
    "feedback_update = feedback2[feedback2[\"purpose\"] == \"Account Update\"]\n",
    "feedback_register = feedback2[feedback2[\"purpose\"] == \"Register Toll Tag\"]\n",
    "feedback_acctbalance = feedback2[feedback2[\"purpose\"] == \"Account Balance\"]\n",
    "feedback_payviolation = feedback2[feedback2[\"purpose\"] == \"Pay a Violation\"]\n",
    "feedback_dispute = feedback2[feedback2[\"purpose\"] == \"Dispute Violation/Invoice\"]\n",
    "feedback_payinvoice = feedback2[feedback2[\"purpose\"] == \"Pay an Invoice\"]"
   ]
  },
  {
   "cell_type": "code",
   "execution_count": 24,
   "metadata": {},
   "outputs": [],
   "source": [
    "# divide into task completion categories\n",
    "feedback_yes_completion = feedback2[feedback2[\"task_completion\"] == \"Yes\"]\n",
    "feedback_no_completion = feedback2[feedback2[\"task_completion\"] == \"No\"]"
   ]
  },
  {
   "cell_type": "code",
   "execution_count": 25,
   "metadata": {},
   "outputs": [],
   "source": [
    "# pull out feeback by phrase\n",
    "feedback_word = feedback2[feedback2['feedback'].str.contains(\"mobile\", na=False)]\n"
   ]
  },
  {
   "cell_type": "code",
   "execution_count": 26,
   "metadata": {},
   "outputs": [
    {
     "data": {
      "text/plain": [
       "Account Update               51\n",
       "Account Balance              19\n",
       "Register Toll Tag            10\n",
       "Pay an Invoice                4\n",
       "Pay a Violation               2\n",
       "Dispute Violation/Invoice     1\n",
       "Name: purpose, dtype: int64"
      ]
     },
     "execution_count": 26,
     "metadata": {},
     "output_type": "execute_result"
    }
   ],
   "source": [
    "feedback_word['purpose'].value_counts()"
   ]
  },
  {
   "cell_type": "code",
   "execution_count": 27,
   "metadata": {},
   "outputs": [
    {
     "data": {
      "text/plain": [
       "Account Update               563\n",
       "Register Toll Tag            255\n",
       "Dispute Violation/Invoice    238\n",
       "Account Balance              196\n",
       "Pay a Violation              166\n",
       "Pay an Invoice                88\n",
       "Name: purpose, dtype: int64"
      ]
     },
     "execution_count": 27,
     "metadata": {},
     "output_type": "execute_result"
    }
   ],
   "source": [
    "feedback_no_completion['purpose'].value_counts()"
   ]
  },
  {
   "cell_type": "code",
   "execution_count": 28,
   "metadata": {},
   "outputs": [],
   "source": [
    "# filter out super positive feedback\n",
    "yes_completion_register = feedback_yes_completion[feedback_yes_completion['purpose'] == 'Register Toll Tag']\n",
    "no_completion_register = feedback_no_completion[feedback_no_completion['purpose'] == 'Register Toll Tag']\n",
    "\n",
    "yes_completion_update = feedback_yes_completion[feedback_yes_completion['purpose'] == 'Account Update']\n",
    "no_completion_update = feedback_no_completion[feedback_no_completion['purpose'] == 'Account Update']\n",
    "\n",
    "yes_completion_pay = feedback_yes_completion[feedback_yes_completion['purpose'] == 'Pay a Violation']\n",
    "no_completion_pay = feedback_no_completion[feedback_no_completion['purpose'] == 'Pay a Violation']"
   ]
  },
  {
   "cell_type": "code",
   "execution_count": 29,
   "metadata": {},
   "outputs": [
    {
     "data": {
      "text/plain": [
       "(6927, 12)"
      ]
     },
     "execution_count": 29,
     "metadata": {},
     "output_type": "execute_result"
    }
   ],
   "source": [
    "feedback2.shape"
   ]
  },
  {
   "cell_type": "code",
   "execution_count": 30,
   "metadata": {},
   "outputs": [
    {
     "data": {
      "text/plain": [
       "(5349, 12)"
      ]
     },
     "execution_count": 30,
     "metadata": {},
     "output_type": "execute_result"
    }
   ],
   "source": [
    "feedback_yes_completion.shape"
   ]
  },
  {
   "cell_type": "markdown",
   "metadata": {},
   "source": [
    "## LDA"
   ]
  },
  {
   "cell_type": "code",
   "execution_count": 61,
   "metadata": {},
   "outputs": [],
   "source": [
    "def create_docset(df):\n",
    "    # compile documents into a list\n",
    "    doc_set = df.feedback.tolist()\n",
    "\n",
    "    #remove numbers from documents\n",
    "    doc_set = [x for x in doc_set if type(x) != int]\n",
    "    \n",
    "    print len(doc_set)\n",
    "    \n",
    "    return doc_set"
   ]
  },
  {
   "cell_type": "code",
   "execution_count": 62,
   "metadata": {},
   "outputs": [],
   "source": [
    "def topic_modeling(doc_set = doc_set, num_topics = 6):\n",
    "    \n",
    "    # remove words only appearing once in whole list\n",
    "    # https://stackoverflow.com/questions/21100903/improve-performance-remove-all-strings-in-a-big-list-appearing-only-once\n",
    "    c = Counter(word for x in doc_set for word in x.split())\n",
    "    doc_set = [' '.join(y for y in x.split() if c[y] > 1) for x in doc_set]\n",
    "    \n",
    "    #create tokenizer\n",
    "    tokenizer = RegexpTokenizer(r'\\w+')\n",
    "\n",
    "    # create English stop words list\n",
    "    en_stop = get_stop_words('en')\n",
    "    \n",
    "    #add custom words to stop words list\n",
    "    en_stop.extend([\"fastrak\", \"fastrack\", \"fas\", \"trak\", \"track\", \"t\"])\n",
    "\n",
    "    # Create p_stemmer of class PorterStemmer\n",
    "    p_stemmer = PorterStemmer()\n",
    "    \n",
    "    # list for tokenized documents in loop\n",
    "    texts = []\n",
    "\n",
    "    # loop through document list\n",
    "    for i in doc_set:\n",
    "        \n",
    "        # clean and tokenize document string\n",
    "        raw = i.lower()\n",
    "        tokens = tokenizer.tokenize(raw)\n",
    "\n",
    "        # remove stop words from tokens\n",
    "        stopped_tokens = [i for i in tokens if not i in en_stop]\n",
    "\n",
    "        # stem tokens\n",
    "        stemmed_tokens = [p_stemmer.stem(i) for i in stopped_tokens]\n",
    "        \n",
    "        # add tokens to list\n",
    "        texts.append(stemmed_tokens) # texts is a list of list of tokens for each doc (feedback response)\n",
    "    \n",
    "    # turn our tokenized documents into a id <-> term dictionary\n",
    "    dictionary = corpora.Dictionary(texts)\n",
    "    \n",
    "    # convert tokenized documents into a document-term matrix\n",
    "    corpus = [dictionary.doc2bow(text) for text in texts]\n",
    "    \n",
    "    # generate LDA model\n",
    "    ldamodel = gensim.models.ldamodel.LdaModel(corpus, num_topics=num_topics, id2word = dictionary, \n",
    "                                           passes=20, minimum_probability=0)\n",
    "    return ldamodel, corpus"
   ]
  },
  {
   "cell_type": "code",
   "execution_count": 63,
   "metadata": {},
   "outputs": [
    {
     "name": "stdout",
     "output_type": "stream",
     "text": [
      "1414\n"
     ]
    }
   ],
   "source": [
    "doc_set = create_docset(df = feedback_register)"
   ]
  },
  {
   "cell_type": "code",
   "execution_count": 64,
   "metadata": {},
   "outputs": [],
   "source": [
    "ldamodel, corpus = topic_modeling(doc_set)"
   ]
  },
  {
   "cell_type": "code",
   "execution_count": 79,
   "metadata": {},
   "outputs": [
    {
     "ename": "IndentationError",
     "evalue": "expected an indented block (<ipython-input-79-dbe6f1fe8fcb>, line 2)",
     "output_type": "error",
     "traceback": [
      "\u001b[0;36m  File \u001b[0;32m\"<ipython-input-79-dbe6f1fe8fcb>\"\u001b[0;36m, line \u001b[0;32m2\u001b[0m\n\u001b[0;31m    #print(top)\u001b[0m\n\u001b[0m               ^\u001b[0m\n\u001b[0;31mIndentationError\u001b[0m\u001b[0;31m:\u001b[0m expected an indented block\n"
     ]
    }
   ],
   "source": [
    "for top in ldamodel.print_topics(num_words=4):\n",
    "    #print(top)"
   ]
  },
  {
   "cell_type": "markdown",
   "metadata": {},
   "source": [
    "## Interpretting results"
   ]
  },
  {
   "cell_type": "markdown",
   "metadata": {},
   "source": [
    "https://stackoverflow.com/questions/20984841/topic-distribution-how-do-we-see-which-document-belong-to-which-topic-after-doi"
   ]
  },
  {
   "cell_type": "markdown",
   "metadata": {},
   "source": [
    "feedback_register , 6 topics"
   ]
  },
  {
   "cell_type": "code",
   "execution_count": 74,
   "metadata": {},
   "outputs": [],
   "source": [
    "def get_results(ldamodel = ldamodel, corpus = corpus, num_topics = 6):\n",
    "    # Assigns the topics to the documents in corpus\n",
    "    lda_corpus = ldamodel[corpus]\n",
    "    # Find the threshold, let's set the threshold to be 1/#clusters,\n",
    "    # To prove that the threshold is sane, we average the sum of all probabilities:\n",
    "    scores = list(chain(*[[score for topic_id,score in topic] \\\n",
    "                          for topic in [doc for doc in lda_corpus]]))\n",
    "    threshold = sum(scores)/len(scores)\n",
    "    print threshold\n",
    "    \n",
    "    for x in range(num_topics):\n",
    "        print \"   \"\n",
    "        print \"   \"\n",
    "        print \"Results for Topic {}\".format(x)\n",
    "        print ldamodel.print_topics(num_words=4)[x]\n",
    "        print \"   \"\n",
    "        topic = [(i[x][1],j) for i,j in zip(lda_corpus,doc_set) if i[x][1] > threshold]\n",
    "        print sorted(topic, key=lambda tup: tup[0], reverse = True)[:10]"
   ]
  },
  {
   "cell_type": "code",
   "execution_count": 76,
   "metadata": {},
   "outputs": [],
   "source": [
    "#get_results(ldamodel = ldamodel, corpus = corpus, num_topics = 6)"
   ]
  },
  {
   "cell_type": "code",
   "execution_count": null,
   "metadata": {},
   "outputs": [],
   "source": []
  },
  {
   "cell_type": "code",
   "execution_count": 77,
   "metadata": {},
   "outputs": [
    {
     "ename": "IndentationError",
     "evalue": "expected an indented block (<ipython-input-77-fb7518717550>, line 3)",
     "output_type": "error",
     "traceback": [
      "\u001b[0;36m  File \u001b[0;32m\"<ipython-input-77-fb7518717550>\"\u001b[0;36m, line \u001b[0;32m3\u001b[0m\n\u001b[0;31m    #print(top)\u001b[0m\n\u001b[0m               ^\u001b[0m\n\u001b[0;31mIndentationError\u001b[0m\u001b[0;31m:\u001b[0m expected an indented block\n"
     ]
    }
   ],
   "source": [
    "ldamodel, corpus = topic_modeling(cluster3)\n",
    "for top in ldamodel.print_topics(num_words=6):\n",
    "    #print(top)"
   ]
  },
  {
   "cell_type": "code",
   "execution_count": null,
   "metadata": {},
   "outputs": [],
   "source": []
  }
 ],
 "metadata": {
  "kernelspec": {
   "display_name": "Python 2",
   "language": "python",
   "name": "python2"
  },
  "language_info": {
   "codemirror_mode": {
    "name": "ipython",
    "version": 2
   },
   "file_extension": ".py",
   "mimetype": "text/x-python",
   "name": "python",
   "nbconvert_exporter": "python",
   "pygments_lexer": "ipython2",
   "version": "2.7.13"
  }
 },
 "nbformat": 4,
 "nbformat_minor": 2
}
