{
 "cells": [
  {
   "cell_type": "code",
   "execution_count": 1,
   "metadata": {
    "collapsed": true
   },
   "outputs": [],
   "source": [
    "import pandas as pd\n",
    "import numpy as np\n",
    "from sklearn.feature_extraction.text import TfidfVectorizer\n",
    "from sklearn.feature_extraction import stop_words\n",
    "import nltk\n",
    "from nltk.stem.porter import *\n",
    "from vaderSentiment.vaderSentiment import SentimentIntensityAnalyzer\n",
    "\n",
    "from nltk.classify import NaiveBayesClassifier\n",
    "from sklearn.feature_extraction.text import TfidfVectorizer\n",
    "import string\n",
    "from collections import Counter"
   ]
  },
  {
   "cell_type": "code",
   "execution_count": null,
   "metadata": {
    "collapsed": true
   },
   "outputs": [],
   "source": [
    "# reading all data\n",
    "xls = pd.ExcelFile('./Compiled_survey.xlsx')\n",
    "Jan18 = pd.read_excel(xls, 'Jan 2018')\n",
    "Dec17 = pd.read_excel(xls, 'Dec 2017')\n",
    "Nov17 = pd.read_excel(xls, 'Nov 2017')\n",
    "Oct17 = pd.read_excel(xls, 'Oct 2017')\n",
    "Sept17 = pd.read_excel(xls, 'Sept 2017')\n",
    "Aug17 = pd.read_excel(xls, 'August 2017')\n",
    "Jul17 = pd.read_excel(xls, 'July 2017')\n",
    "Jun17 = pd.read_excel(xls, 'June 2017')\n",
    "May17 = pd.read_excel(xls, 'May 2017')\n",
    "Apr17 = pd.read_excel(xls, 'April 2017')\n",
    "Mar17 = pd.read_excel(xls, 'Mar 2017')\n",
    "Feb17 = pd.read_excel(xls, 'Feb 2017')\n",
    "Jan17 = pd.read_excel(xls, 'Jan 2017')"
   ]
  },
  {
   "cell_type": "code",
   "execution_count": 2,
   "metadata": {
    "collapsed": true
   },
   "outputs": [],
   "source": [
    "xls = pd.ExcelFile('./Compiled_survey.xlsx')\n",
    "Jan18 = pd.read_excel(xls, 'Jan 2017')"
   ]
  },
  {
   "cell_type": "code",
   "execution_count": null,
   "metadata": {
    "collapsed": true
   },
   "outputs": [],
   "source": [
    "# data = Jan18.append([Dec17, Nov17, Oct17, Sept17, Aug17, Jul17, Jun17, May17, Apr17, Mar17, Feb17, Jan17])"
   ]
  },
  {
   "cell_type": "code",
   "execution_count": 3,
   "metadata": {
    "collapsed": true
   },
   "outputs": [],
   "source": [
    "my_additional_stop_words = ['know', 'like', 'just']"
   ]
  },
  {
   "cell_type": "code",
   "execution_count": 4,
   "metadata": {
    "collapsed": true
   },
   "outputs": [],
   "source": [
    "my_stop_words = stop_words.ENGLISH_STOP_WORDS.union(my_additional_stop_words)"
   ]
  },
  {
   "cell_type": "code",
   "execution_count": 5,
   "metadata": {
    "collapsed": true
   },
   "outputs": [],
   "source": [
    "def tokenize(text):\n",
    "    text = text.lower()\n",
    "    text = re.sub('[' + string.punctuation + '0-9\\\\r\\\\t\\\\n]',' ',text)\n",
    "    token = nltk.word_tokenize(text)\n",
    "    token = [w for w in token if len(w )> 2]\n",
    "    token = [w for w in token if not w in my_stop_words]\n",
    "#     token1 = ' '.join(token)\n",
    "    return token\n",
    "\n",
    "def stemwords(words):\n",
    "    stemmer = PorterStemmer()\n",
    "    words = [w.decode('ascii', 'ignore') for w in words]\n",
    "    stemmed = [stemmer.stem(w) for w in words]\n",
    "    fwords = [w.encode('ascii', 'ignore') for w in stemmed]\n",
    "    fwords1 = ' '.join(fwords)\n",
    "    return fwords1\n",
    "\n",
    "def tokenizer(text):\n",
    "    return stemwords(tokenize(text))"
   ]
  },
  {
   "cell_type": "markdown",
   "metadata": {},
   "source": [
    "### Cleaning a bit"
   ]
  },
  {
   "cell_type": "code",
   "execution_count": 6,
   "metadata": {
    "collapsed": true
   },
   "outputs": [],
   "source": [
    "# filtering for purspose, recommendation and level of effort\n",
    "Jan18 = Jan18[(Jan18['What is the purpose for your visit today?'] != 'Account Update')&\n",
    "      (Jan18['How likely is it that you would recommend FasTrak to a friend or colleague?'] != 10.0)&\n",
    "      (Jan18['How did this effort compare to your expectations?'] != 'Exceptional')\n",
    "     ]"
   ]
  },
  {
   "cell_type": "code",
   "execution_count": 7,
   "metadata": {
    "collapsed": true
   },
   "outputs": [],
   "source": [
    "# cleaning data\n",
    "Jan18feedback = Jan18['Additional Feedback (Optional)']\n",
    "Jan18feedback = Jan18feedback.dropna()\n",
    "Jan18feedback = pd.DataFrame(Jan18feedback)\n",
    "Jan18feedback = Jan18feedback[Jan18feedback['Additional Feedback (Optional)'] !='none']\n",
    "Jan18feedback = Jan18feedback[Jan18feedback['Additional Feedback (Optional)'] !='n/a']\n",
    "Jan18feedback[\"Additional Feedback (Optional)\"] = Jan18feedback[\"Additional Feedback (Optional)\"].str.encode('utf-8').astype(str)\n",
    "Jan18feedback[\"tokenized\"] = Jan18feedback[\"Additional Feedback (Optional)\"].apply(tokenizer)"
   ]
  },
  {
   "cell_type": "markdown",
   "metadata": {},
   "source": [
    "### Sentiment Analysis"
   ]
  },
  {
   "cell_type": "code",
   "execution_count": 8,
   "metadata": {
    "collapsed": true
   },
   "outputs": [],
   "source": [
    "list1 = Jan18feedback[\"Additional Feedback (Optional)\"].unique()\n",
    "analyzer = SentimentIntensityAnalyzer()\n",
    "\n",
    "dict1 = {}\n",
    "for i in list1:\n",
    "    #print(i)\n",
    "    dict1[i] = analyzer.polarity_scores(i)\n",
    "    \n",
    "Jan18feedback['compound'] = Jan18feedback[\"Additional Feedback (Optional)\"].map(dict1)\n",
    "survey = pd.concat([Jan18feedback.drop(['compound'], axis=1), Jan18feedback['compound'].apply(pd.Series)], axis=1)\n",
    "# keeping data with high sentiment\n",
    "survey_neg = survey[survey['pos'] < 0.7]  "
   ]
  },
  {
   "cell_type": "markdown",
   "metadata": {},
   "source": [
    "### TFIDF"
   ]
  },
  {
   "cell_type": "code",
   "execution_count": null,
   "metadata": {
    "collapsed": true
   },
   "outputs": [],
   "source": [
    "tvec = TfidfVectorizer(tokenizer=tokenize, min_df=.0025, max_df=.1, stop_words='english', ngram_range=(1,4))\n",
    "\n",
    "tvec_weights = tvec.fit_transform(survey_neg['tokenized'].dropna())\n",
    "weights = np.asarray(tvec_weights.mean(axis=0)).ravel().tolist()\n",
    "weights_df = pd.DataFrame({'term': tvec.get_feature_names(), 'weight': weights})\n",
    "weights_df.sort_values(by='weight', ascending=False).head(30)"
   ]
  },
  {
   "cell_type": "code",
   "execution_count": null,
   "metadata": {
    "collapsed": true
   },
   "outputs": [],
   "source": [
    "a = survey_neg[survey_neg['tokenized'].str.contains(\"payment\")]"
   ]
  },
  {
   "cell_type": "code",
   "execution_count": null,
   "metadata": {
    "collapsed": true
   },
   "outputs": [],
   "source": [
    "a = survey_neg[(survey_neg['tokenized'].str.contains(\"abl\"))&\n",
    "           (survey_neg['tokenized'].str.contains(\"add\"))]"
   ]
  },
  {
   "cell_type": "code",
   "execution_count": null,
   "metadata": {
    "collapsed": true
   },
   "outputs": [],
   "source": [
    "a.to_csv(\"/Users/danaiavg/Desktop/test1.csv\")"
   ]
  },
  {
   "cell_type": "code",
   "execution_count": null,
   "metadata": {
    "collapsed": true
   },
   "outputs": [],
   "source": [
    "survey_neg.shape"
   ]
  },
  {
   "cell_type": "markdown",
   "metadata": {},
   "source": [
    "### Topic Model"
   ]
  },
  {
   "cell_type": "code",
   "execution_count": null,
   "metadata": {
    "collapsed": true
   },
   "outputs": [],
   "source": []
  },
  {
   "cell_type": "code",
   "execution_count": null,
   "metadata": {
    "collapsed": true
   },
   "outputs": [],
   "source": []
  },
  {
   "cell_type": "code",
   "execution_count": null,
   "metadata": {
    "collapsed": true
   },
   "outputs": [],
   "source": []
  },
  {
   "cell_type": "code",
   "execution_count": null,
   "metadata": {
    "collapsed": true
   },
   "outputs": [],
   "source": []
  },
  {
   "cell_type": "code",
   "execution_count": null,
   "metadata": {
    "collapsed": true
   },
   "outputs": [],
   "source": []
  }
 ],
 "metadata": {
  "kernelspec": {
   "display_name": "Python 2",
   "language": "python",
   "name": "python2"
  },
  "language_info": {
   "codemirror_mode": {
    "name": "ipython",
    "version": 2
   },
   "file_extension": ".py",
   "mimetype": "text/x-python",
   "name": "python",
   "nbconvert_exporter": "python",
   "pygments_lexer": "ipython2",
   "version": "2.7.13"
  }
 },
 "nbformat": 4,
 "nbformat_minor": 2
}
